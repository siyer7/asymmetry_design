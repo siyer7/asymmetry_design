{
 "cells": [
  {
   "cell_type": "code",
   "execution_count": null,
   "id": "80083b58-f069-4392-85ce-d426b3c1dc42",
   "metadata": {},
   "outputs": [],
   "source": [
    "import numpy as np\n",
    "import matplotlib.pyplot as plt\n",
    "from matplotlib import cm\n",
    "import os, sys\n",
    "import pandas as pd\n",
    "import time\n",
    "\n",
    "root = '/usr/local/serenceslab/maggie/shapeDim/'\n",
    "\n",
    "sys.path.append(os.path.join(root, 'Analysis'))\n",
    "from code_utils import file_utils, data_utils\n",
    "from code_utils import grid_utils\n",
    "from code_utils import stats_utils, plot_utils, numpy_utils\n"
   ]
  },
  {
   "cell_type": "code",
   "execution_count": 2,
   "id": "bf86ce08-7835-458a-b6dc-8325ae50623c",
   "metadata": {},
   "outputs": [],
   "source": [
    "task_names = ['Linear (1)','Linear (2)','Checker', 'Repeat'];\n",
    "n_tasks = len(task_names)\n",
    "task_colors = np.flipud(cm.GnBu(np.linspace(0,1,5))[1:,:])\n",
    "\n",
    "n_subjects = 10\n",
    "subjects = np.arange(1,11)\n",
    "subcolors = cm.Dark2(np.linspace(0,1,n_subjects))"
   ]
  },
  {
   "cell_type": "code",
   "execution_count": 3,
   "id": "39cc462d-d51f-41fe-b30c-2f96196cbea5",
   "metadata": {},
   "outputs": [],
   "source": [
    "lab = dict()\n",
    "for ss in subjects:\n",
    "    \n",
    "    # get labels for all the trials, this subject\n",
    "    main_labels = data_utils.load_main_task_labels(ss)\n",
    "    rep_labels = data_utils.load_repeat_task_labels(ss)\n",
    "    lab[ss] = pd.concat([main_labels, rep_labels], axis=0)\n",
    "   "
   ]
  },
  {
   "cell_type": "code",
   "execution_count": 4,
   "id": "94c2c25c-bf34-4a2f-a072-6bfc39844e4a",
   "metadata": {},
   "outputs": [],
   "source": [
    "from code_utils import grid_utils\n",
    "grid_pts = grid_utils.get_main_grid()\n",
    "# NOTE i am swapping the columns here\n",
    "# because this is the order you get from doing np.unique(pts)\n",
    "# this is the actual order that the predictions 1-16 of this classifier\n",
    "# correspond to. \n",
    "grid_pts = grid_pts[:,[1,0]] "
   ]
  },
  {
   "cell_type": "code",
   "execution_count": 5,
   "id": "1af251e0-1bd7-4acc-af51-537d89ce4f9d",
   "metadata": {},
   "outputs": [
    {
     "name": "stdout",
     "output_type": "stream",
     "text": [
      "/usr/local/serenceslab/maggie/shapeDim/Analysis/decoding_results/decode_multiclass_withintask.npy\n",
      "Fri Jun  2 12:40:24 2023\n",
      "/usr/local/serenceslab/maggie/shapeDim/Analysis/decoding_results/decode_multiclass_withintask_newsubs.npy\n",
      "Tue Aug 13 08:41:26 2024\n"
     ]
    },
    {
     "data": {
      "text/plain": [
       "['V1', 'V2', 'V3', 'V3AB', 'hV4', 'LO1', 'LO2', 'IPS']"
      ]
     },
     "execution_count": 5,
     "metadata": {},
     "output_type": "execute_result"
    }
   ],
   "source": [
    "save_folder = os.path.join(root, 'Analysis', 'decoding_results')\n",
    "\n",
    "# this is the original analysis that I ran with 7 subjects, exactly as in first submission\n",
    "save_filename1 = os.path.join(save_folder, 'decode_multiclass_withintask.npy')\n",
    "print(save_filename1)\n",
    "print(time.ctime(os.path.getmtime(save_filename1)))\n",
    "d1 = np.load(save_filename1, allow_pickle=True).item()\n",
    "\n",
    "# this is the newest 3 subjects, for revision\n",
    "save_filename2 = os.path.join(save_folder, 'decode_multiclass_withintask_newsubs.npy')\n",
    "print(save_filename2)\n",
    "print(time.ctime(os.path.getmtime(save_filename2)))\n",
    "d2 = np.load(save_filename2, allow_pickle=True).item()\n",
    "d2.keys()\n",
    "\n",
    "# we're going to concatenate everything from these saved dictionaries\n",
    "dec = dict([])\n",
    "for kk in list(d1.keys()):\n",
    "    \n",
    "    if kk in ['preds_all', 'probs_all']:\n",
    "        # this element is a dictionary where keys are subjects\n",
    "        dec[kk] = d1[kk]\n",
    "        for si in d2[kk].keys():\n",
    "            # entry 0 in the new array becomes 7 in new array\n",
    "            dec[kk][si+7] = d2[kk][si]\n",
    "        \n",
    "    elif kk in ['grid_pts', 'roi_names']:\n",
    "        dec[kk] = d1[kk]\n",
    "        \n",
    "    else:\n",
    "        dec[kk] = np.concatenate([d1[kk], d2[kk]], axis=0)\n",
    "        \n",
    "roi_names = dec['roi_names']\n",
    "roi_names[-1] = 'IPS'\n",
    "n_rois = len(roi_names)\n",
    "roi_names"
   ]
  },
  {
   "cell_type": "markdown",
   "id": "a3e2367d-de2d-4550-8f8f-0838bc4a24a1",
   "metadata": {},
   "source": [
    "#### Bin the data spatially to make heat-maps"
   ]
  },
  {
   "cell_type": "code",
   "execution_count": 6,
   "id": "5c7820a4-a5a7-4808-90d3-36e48eaa0f8c",
   "metadata": {},
   "outputs": [
    {
     "data": {
      "text/plain": [
       "(array([0.09, 0.28, 0.47, 0.67, 0.86, 1.05, 1.24, 1.44, 1.63, 1.82, 2.02,\n",
       "        2.21, 2.4 , 2.6 , 2.79, 2.98, 3.18, 3.37, 3.56, 3.76, 3.95, 4.14,\n",
       "        4.33, 4.53, 4.72, 4.91]),\n",
       " array([-0.01,  0.18,  0.38,  0.57,  0.76,  0.96,  1.15,  1.34,  1.53,\n",
       "         1.73,  1.92,  2.11,  2.31,  2.5 ,  2.69,  2.89,  3.08,  3.27,\n",
       "         3.47,  3.66,  3.85,  4.04,  4.24,  4.43,  4.62,  4.82,  5.01]))"
      ]
     },
     "execution_count": 6,
     "metadata": {},
     "output_type": "execute_result"
    }
   ],
   "source": [
    "sp = 0.1;\n",
    "n_bins = 26;\n",
    "bin_edges = np.linspace(-0.01, 5.01, n_bins+1)\n",
    "bin_size = bin_edges[1]-bin_edges[0]\n",
    "bin_centers = bin_edges[0:-1]+bin_size/2\n",
    "bin_edges = bin_edges.round(2)\n",
    "bin_centers = bin_centers.round(2)\n",
    "\n",
    "n_bins = len(bin_centers)\n",
    "bin_centers, bin_edges"
   ]
  },
  {
   "cell_type": "code",
   "execution_count": 7,
   "id": "1a07d35b-8aa1-4cbe-a620-2a666d970b2f",
   "metadata": {},
   "outputs": [],
   "source": [
    "n_axes = 3;\n",
    "conf_binary_all = np.full(shape=(n_subjects, n_rois, n_tasks, n_axes, n_bins, n_bins), \\\n",
    "                         fill_value = np.nan)\n",
    "bin_counts = np.full(shape=(n_subjects, n_tasks, n_bins, n_bins), \\\n",
    "                         fill_value = np.nan)\n",
    "\n",
    "for si, ss in enumerate(subjects):\n",
    "\n",
    "    # loop over tasks\n",
    "    for ti, tt in enumerate([1,2,3,4]):\n",
    "        \n",
    "        # print(si,ti)\n",
    "        \n",
    "        l = lab[ss][lab[ss]['task']==tt]\n",
    "        \n",
    "        x = np.array(l['ptx'])\n",
    "        y = np.array(l['pty'])\n",
    "        \n",
    "        used_yet = np.zeros(x.shape, dtype=bool)\n",
    "        \n",
    "        for bx in np.arange(n_bins):\n",
    "            for by in np.arange(n_bins):\n",
    "                \n",
    "                pt_inds = (x>bin_edges[bx]) & (x<bin_edges[bx+1]) & (y>bin_edges[by]) & (y<bin_edges[by+1])\n",
    "                bin_counts[si,ti,bx,by] = np.sum(pt_inds)\n",
    "                if np.sum(pt_inds)==0:\n",
    "                    continue\n",
    "                assert(not np.any(used_yet[pt_inds]))\n",
    "                used_yet[pt_inds] = True\n",
    "                \n",
    "                for ri in range(n_rois):\n",
    "\n",
    "                    prob = dec['probs_all'][si][ri][ti]\n",
    "\n",
    "                    # loop over \"axes\" - which boundary to compute accuracy for\n",
    "                    for ii in range(n_axes):\n",
    "\n",
    "                        # \"confidence\" in assignment to category 2 vs 1\n",
    "                        # group the 16 points into categories w/r/t relevant axis\n",
    "                        g1 = grid_utils.get_categ(grid_pts, ii+1)==1\n",
    "                        p_categ1 = np.sum(prob[:,g1], axis=1)\n",
    "                        g2 = grid_utils.get_categ(grid_pts, ii+1)==2\n",
    "                        p_categ2 = np.sum(prob[:,g2], axis=1)\n",
    "\n",
    "                        # signed confidence will be: p(correct) - p(incorrect)\n",
    "                        signedconf = np.zeros_like(p_categ1)\n",
    "                        categ_actual = l['categ_task%d'%(ii+1)]\n",
    "            \n",
    "                        signedconf[categ_actual==1] = p_categ1[categ_actual==1] - p_categ2[categ_actual==1]\n",
    "                        signedconf[categ_actual==2] = p_categ2[categ_actual==2] - p_categ1[categ_actual==2]\n",
    "\n",
    "                        pdiff = signedconf\n",
    "                        # pdiff = p_categ2 - p_categ1\n",
    "                        \n",
    "                        # conf_binary_all[si,ri,ti,ii,bx,by] = np.mean(pdiff[pt_inds])\n",
    "                        conf_binary_all[si,ri,ti,ii,bx,by] = np.sum(pdiff[pt_inds])\n",
    "                    \n",
    "        assert(np.all(used_yet))"
   ]
  },
  {
   "cell_type": "code",
   "execution_count": 8,
   "id": "dbbeae5d-e219-4601-83d6-87b0d8604b50",
   "metadata": {},
   "outputs": [
    {
     "data": {
      "text/plain": [
       "(10, 8, 4, 3, 26, 26)"
      ]
     },
     "execution_count": 8,
     "metadata": {},
     "output_type": "execute_result"
    }
   ],
   "source": [
    "conf_binary_all.shape"
   ]
  },
  {
   "cell_type": "code",
   "execution_count": 9,
   "id": "b32d2be7-5ddc-45ce-9690-4ea6524eb08b",
   "metadata": {},
   "outputs": [
    {
     "name": "stderr",
     "output_type": "stream",
     "text": [
      "/usr/local/serenceslab/maggie/conda_envs/shape_dim/lib/python3.7/site-packages/ipykernel_launcher.py:6: RuntimeWarning: invalid value encountered in true_divide\n",
      "  \n"
     ]
    }
   ],
   "source": [
    "# sum up the summed values over all subjects and divide by total count\n",
    "# this is effectively like taking a mean of the concatenated trials over all subjects, but\n",
    "# ignoring which trials came from which subject\n",
    "all_sum = np.nansum(conf_binary_all, axis=0)\n",
    "all_counts = np.sum(np.tile(bin_counts[:,None,:,None,:,:], [1,n_rois,1,n_axes,1,1]), axis=0)\n",
    "all_mean = all_sum/all_counts\n",
    "all_mean[all_counts==0] = np.nan"
   ]
  },
  {
   "cell_type": "code",
   "execution_count": 10,
   "id": "54c55251-e95f-4a3c-a673-e3ea19e5d549",
   "metadata": {},
   "outputs": [
    {
     "data": {
      "text/plain": [
       "array([ 3.8637065 ,  7.00288204,  6.53676058,  5.71925022, 10.64080454,\n",
       "        6.96336084,  6.89884663, 13.89725114, 15.98984904, 18.35404775])"
      ]
     },
     "execution_count": 10,
     "metadata": {},
     "output_type": "execute_result"
    }
   ],
   "source": [
    "conf_binary_all[:,0,0,0,0,0]"
   ]
  },
  {
   "cell_type": "code",
   "execution_count": 11,
   "id": "5d129a0a-d03f-48f5-9dc2-51f47e2f7907",
   "metadata": {},
   "outputs": [],
   "source": [
    "plt.rcParams['pdf.fonttype']=42\n",
    "plot_utils.set_all_font_sizes(fs = 16)\n",
    "figfolder = os.path.join(root, 'Analysis','figures')"
   ]
  },
  {
   "cell_type": "code",
   "execution_count": 12,
   "id": "6f5321bd-07e2-40e6-a270-0173718dc255",
   "metadata": {},
   "outputs": [
    {
     "name": "stdout",
     "output_type": "stream",
     "text": [
      "/usr/local/serenceslab/maggie/shapeDim/Analysis/figures/absval_class_conf_2d_axis1.pdf\n",
      "/usr/local/serenceslab/maggie/shapeDim/Analysis/figures/absval_class_conf_2d_axis2.pdf\n"
     ]
    },
    {
     "data": {
      "image/png": "[encoded data removed]",
      "text/plain": [
       "<Figure size 720x360 with 2 Axes>"
      ]
     },
     "metadata": {
      "needs_background": "light"
     },
     "output_type": "display_data"
    },
    {
     "data": {
      "image/png": "[encoded data removed]",
      "text/plain": [
       "<Figure size 720x360 with 2 Axes>"
      ]
     },
     "metadata": {
      "needs_background": "light"
     },
     "output_type": "display_data"
    }
   ],
   "source": [
    "ri = 0;\n",
    "# sub_avg = np.nanmean(conf_binary_all, axis=0)\n",
    "sub_avg = all_mean\n",
    "\n",
    "for ii, axis_name in enumerate(['Linear 1', 'Linear 2']):\n",
    "\n",
    "    ticks_plot = np.array([0, int(n_bins/2), n_bins])\n",
    "    # tickbins = np.arange(n_bins[)\n",
    "\n",
    "    plt.figure(figsize=(10,5))\n",
    "    \n",
    "    for ti in range(2):\n",
    "        vals = sub_avg[ri,ti,ii,:,:]\n",
    "\n",
    "        # print(np.nanmin(vals.ravel()))\n",
    "        # print(np.nanmax(vals.ravel()))\n",
    "        ax = plt.subplot(1,2,ti+1)\n",
    "        # vals[10,5] = 100\n",
    "        plt.pcolormesh(vals.T, \\\n",
    "                       vmin=-1, vmax=1, \\\n",
    "                       # cmap = 'magma_r')\n",
    "                       cmap='coolwarm')\n",
    "        # ax.set_facecolor([0.8, 0.8, 0.8])\n",
    "        plt.xlabel('axis 1')\n",
    "        plt.ylabel('axis 2')\n",
    "        # plt.xticks(np.arange(n_bins)+0.5,bin_centers)\n",
    "        # plt.yticks(np.arange(n_bins)+0.5,bin_centers)\n",
    "        # plt.xticks(np.arange(n_bins+1),bin_edges)\n",
    "        # plt.yticks(np.arange(n_bins+1),bin_edges)\n",
    "        plt.xticks(ticks_plot, np.abs(np.array(bin_edges)[ticks_plot].round(1)))\n",
    "        plt.yticks(ticks_plot, np.abs(np.array(bin_edges)[ticks_plot].round(1)))\n",
    "        plt.title('%s Task'%task_names[ti] )\n",
    "\n",
    "        plt.axhline(n_bins/2, color=[0.6, 0.6, 0.6])\n",
    "        plt.axvline(n_bins/2, color=[0.6, 0.6, 0.6])\n",
    "        plt.axis('square')\n",
    "        \n",
    "        # plt.colorbar()\n",
    "\n",
    "    # plt.suptitle('%s\\n%s: p(category 2) - p(category 1)'%(roi_names[ri], axis_name ))\n",
    "    \n",
    "    figname = os.path.join(figfolder, 'absval_class_conf_2d_axis%d.pdf'%(ii+1))\n",
    "    print(figname)\n",
    "    plt.savefig(figname)"
   ]
  }
 ],
 "metadata": {
  "kernelspec": {
   "display_name": "Python 3",
   "language": "python",
   "name": "python3"
  },
  "language_info": {
   "codemirror_mode": {
    "name": "ipython",
    "version": 3
   },
   "file_extension": ".py",
   "mimetype": "text/x-python",
   "name": "python",
   "nbconvert_exporter": "python",
   "pygments_lexer": "ipython3",
   "version": "3.7.10"
  }
 },
 "nbformat": 4,
 "nbformat_minor": 5
}
