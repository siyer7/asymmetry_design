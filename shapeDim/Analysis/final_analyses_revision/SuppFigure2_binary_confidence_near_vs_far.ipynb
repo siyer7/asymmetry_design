{
 "cells": [
  {
   "cell_type": "code",
   "execution_count": 1,
   "id": "fa20586a-cc1d-41ef-b51c-e704c54814b9",
   "metadata": {},
   "outputs": [],
   "source": [
    "import numpy as np\n",
    "import matplotlib.pyplot as plt\n",
    "from matplotlib import cm\n",
    "import os, sys\n",
    "import pandas as pd\n",
    "import sklearn\n",
    "import sklearn.svm, sklearn.discriminant_analysis\n",
    "import time\n",
    "import scipy.stats\n",
    "import copy\n",
    "import statsmodels\n",
    "from statsmodels.stats.anova import AnovaRM\n",
    "\n",
    "root = '/usr/local/serenceslab/maggie/shapeDim/'\n",
    "sys.path.append(os.path.join(root, 'Analysis'))\n",
    "from code_utils import file_utils, data_utils, plot_utils, stats_utils, grid_utils"
   ]
  },
  {
   "cell_type": "code",
   "execution_count": 2,
   "id": "fdf19b84-75ac-44f3-be02-54ff71e34519",
   "metadata": {},
   "outputs": [],
   "source": [
    "plt.rcParams['pdf.fonttype']=42\n",
    "plot_utils.set_all_font_sizes(fs = 12)\n",
    "figfolder = os.path.join(root, 'Analysis','figures')"
   ]
  },
  {
   "cell_type": "code",
   "execution_count": 3,
   "id": "5b92fcb6-c2b4-445b-9718-6ae7fc296d7c",
   "metadata": {},
   "outputs": [],
   "source": [
    "task_names = ['Linear (1)','Linear (2)','Checker', 'Repeat'];\n",
    "n_tasks = len(task_names)\n",
    "task_colors = np.flipud(cm.GnBu(np.linspace(0,1,5))[1:,:])\n",
    "\n",
    "n_subjects = 10\n",
    "subjects = np.arange(1,11)\n",
    "subcolors = cm.Dark2(np.linspace(0,1,n_subjects))"
   ]
  },
  {
   "cell_type": "code",
   "execution_count": 4,
   "id": "dca49956-1866-44f5-8e07-6a44827cdf70",
   "metadata": {},
   "outputs": [],
   "source": [
    "lab = dict()\n",
    "for ss in subjects:\n",
    "    \n",
    "    # get labels for all the trials, this subject\n",
    "    main_labels = data_utils.load_main_task_labels(ss)\n",
    "    rep_labels = data_utils.load_repeat_task_labels(ss)\n",
    "    lab[ss] = pd.concat([main_labels, rep_labels], axis=0)\n",
    "    "
   ]
  },
  {
   "cell_type": "code",
   "execution_count": 5,
   "id": "394a4e54-f79e-4de2-a8b0-c9699c20bb4f",
   "metadata": {},
   "outputs": [
    {
     "name": "stdout",
     "output_type": "stream",
     "text": [
      "/usr/local/serenceslab/maggie/shapeDim/Analysis/decoding_results/decode_binary_withintask.npy\n",
      "Wed Aug 14 23:11:22 2024\n"
     ]
    }
   ],
   "source": [
    "save_folder = os.path.join(root, 'Analysis', 'decoding_results')\n",
    "save_filename = os.path.join(save_folder, 'decode_binary_withintask.npy')\n",
    "print(save_filename)\n",
    "print(time.ctime(os.path.getmtime(save_filename)))\n",
    "dec = np.load(save_filename, allow_pickle=True).item()\n",
    "dec.keys()\n",
    "roi_names = dec['roi_names']\n",
    "n_rois = len(roi_names)"
   ]
  },
  {
   "cell_type": "code",
   "execution_count": 6,
   "id": "fbe75959-8c85-4a0a-9d44-b17f63b6f951",
   "metadata": {},
   "outputs": [
    {
     "data": {
      "text/plain": [
       "(10, 8, 4, 3)"
      ]
     },
     "execution_count": 6,
     "metadata": {},
     "output_type": "execute_result"
    }
   ],
   "source": [
    "dec['acc_bytask'].shape"
   ]
  },
  {
   "cell_type": "markdown",
   "id": "3e9fb90f-94f4-44ca-b72b-d3df3a8f2b0b",
   "metadata": {},
   "source": [
    "#### accuracy along each linear axis, in each task"
   ]
  },
  {
   "cell_type": "code",
   "execution_count": 7,
   "id": "0942d66b-0820-4839-884b-911a96c97b7c",
   "metadata": {},
   "outputs": [],
   "source": [
    "n_tasks = 4\n",
    "\n",
    "# conf_allmaintrials = np.zeros((n_subjects, n_rois, n_tasks, 2))\n",
    "# acc_allmaintrials = np.zeros((n_subjects, n_rois, n_tasks, 2))\n",
    "\n",
    "conf_fartrials = np.zeros((n_subjects, n_rois, n_tasks, 2))\n",
    "acc_fartrials = np.zeros((n_subjects, n_rois, n_tasks, 2))\n",
    "\n",
    "conf_midtrials = np.zeros((n_subjects, n_rois, n_tasks, 2))\n",
    "acc_midtrials = np.zeros((n_subjects, n_rois, n_tasks, 2))\n",
    "\n",
    "for si, ss in enumerate(subjects):\n",
    "\n",
    "    for ti, tt in enumerate([1,2,3,4]):\n",
    "        \n",
    "        l = lab[ss][lab[ss]['task']==tt]\n",
    "        \n",
    "        pt_labs = np.array([l['ptx'], l['pty']]).T\n",
    "        is_main_grid = l['is_main_grid']==1\n",
    "        \n",
    "        for ii in [0,1]:\n",
    "\n",
    "            # actual labels for position along this axis\n",
    "            coord_actual = pt_labs[:,ii]\n",
    "            # actual category along this axis\n",
    "            categ_actual = np.array(l['categ_task%d'%(ii+1)])\n",
    "    \n",
    "            dist_from_center = np.array(l['dist_from_bound%d'%(ii+1)]).round(1)\n",
    "            # hard trials are closest to bound (variable grid)\n",
    "            # easy is the furthest from bound\n",
    "            # medium is second furthest\n",
    "            # is_hard = dist_from_center<0.8\n",
    "            is_far = (dist_from_center==2.4) & is_main_grid\n",
    "            is_middle = (dist_from_center==0.8) & is_main_grid\n",
    "           \n",
    "            is_correct = np.array(l['subject_correct'])\n",
    "            \n",
    "            for ri in range(n_rois):\n",
    "\n",
    "                # switching categs here so that 1=coord<center, 2=coord>center\n",
    "                categ_pred = 3-dec['preds_all'][si][ri][ti][ii].astype(int)\n",
    "             \n",
    "                prob = dec['probs_all'][si][ri][ti][ii]\n",
    "                \n",
    "                p_categ1 = prob[:,1]\n",
    "                p_categ2 = prob[:,0]\n",
    "                \n",
    "                signedconf = np.zeros_like(p_categ1)\n",
    "                signedconf[categ_actual==1] = p_categ1[categ_actual==1] - p_categ2[categ_actual==1]\n",
    "                signedconf[categ_actual==2] = p_categ2[categ_actual==2] - p_categ1[categ_actual==2]\n",
    "\n",
    "    \n",
    "#                 # all trials\n",
    "#                 inds = is_main_grid & is_correct\n",
    "            \n",
    "#                 conf_allmaintrials[si,ri,ti,ii] = np.mean(signedconf[inds])\n",
    "            \n",
    "#                 acc_allmaintrials[si,ri,ti,ii] = np.mean(categ_pred[inds]==categ_actual[inds])\n",
    "                \n",
    "                # easy trials\n",
    "                inds = is_far & is_correct\n",
    "                \n",
    "                conf_fartrials[si,ri,ti,ii] = np.mean(signedconf[inds])\n",
    "            \n",
    "                acc_fartrials[si,ri,ti,ii] = np.mean(categ_pred[inds]==categ_actual[inds])\n",
    "                \n",
    "                # medium trials\n",
    "                inds = is_middle & is_correct\n",
    "                \n",
    "                conf_midtrials[si,ri,ti,ii] = np.mean(signedconf[inds])\n",
    "            \n",
    "                acc_midtrials[si,ri,ti,ii] = np.mean(categ_pred[inds]==categ_actual[inds])\n",
    "                "
   ]
  },
  {
   "cell_type": "code",
   "execution_count": 8,
   "id": "915da9af-7db5-4b3d-adda-270082a23e46",
   "metadata": {},
   "outputs": [],
   "source": [
    "plt.rcParams['pdf.fonttype']=42\n",
    "plot_utils.set_all_font_sizes(fs = 16)\n",
    "figfolder = os.path.join(root, 'Analysis','figures')"
   ]
  },
  {
   "cell_type": "code",
   "execution_count": 10,
   "id": "4d6a1213-8dc7-4a60-b097-09cdbd567bef",
   "metadata": {},
   "outputs": [
    {
     "name": "stdout",
     "output_type": "stream",
     "text": [
      "-0.004785178720303676 0.8645591093252586\n",
      "0.0005883959763682185 0.7707390848894271\n",
      "-0.006866030798125323 0.8908006712197483\n",
      "0.011765613477083358 0.9560474671587766\n",
      "/usr/local/serenceslab/maggie/shapeDim/Analysis/figures/binary_conf_Far.pdf\n",
      "-0.06178037657112232 0.5273746045448482\n",
      "-0.030014562891179524 0.4272916080095726\n",
      "-0.10018657968388078 0.5594594179967135\n",
      "-0.03293575126279938 0.6958627031991086\n",
      "/usr/local/serenceslab/maggie/shapeDim/Analysis/figures/binary_conf_Near.pdf\n"
     ]
    },
    {
     "data": {
      "image/png": "[encoded data removed]",
      "text/plain": [
       "<Figure size 1296x288 with 2 Axes>"
      ]
     },
     "metadata": {
      "needs_background": "light"
     },
     "output_type": "display_data"
    },
    {
     "data": {
      "image/png": "[encoded data removed]",
      "text/plain": [
       "<Figure size 1296x288 with 2 Axes>"
      ]
     },
     "metadata": {
      "needs_background": "light"
     },
     "output_type": "display_data"
    }
   ],
   "source": [
    "ti_plot = [0,1]\n",
    "\n",
    "x_jitter = np.linspace(-0.15, 0.15, 2)\n",
    "\n",
    "for rvals, name in zip([conf_fartrials, conf_midtrials], \\\n",
    "                     ['Far','Near']):\n",
    "    \n",
    "    plt.figure(figsize=(18,4))\n",
    "\n",
    "    for ii, axis_name in enumerate(['axis 1 (x)','axis 2 (y)']):\n",
    "\n",
    "        ax = plt.subplot(1,2,ii+1)\n",
    "\n",
    "        plt.axhline(0, color=[0.8, 0.8, 0.8])\n",
    "\n",
    "        lh = []\n",
    "\n",
    "        for ti in ti_plot:\n",
    "\n",
    "            x_ticks = np.arange(n_rois) + x_jitter[ti]\n",
    "\n",
    "            vals = rvals[:,:,ti,ii]\n",
    "            print(np.min(vals), np.max(vals))\n",
    "            meanvals = np.mean(vals, axis=0)\n",
    "            semvals = np.std(vals, axis=0)/np.sqrt(n_subjects-1)\n",
    "\n",
    "            plt.plot(x_ticks, meanvals, 'o', color=task_colors[ti], alpha=1, markersize=8)\n",
    "            h = plt.errorbar(x_ticks, meanvals, semvals, xerr=None, color=task_colors[ti], linestyle='none')\n",
    "            lh.append(h)\n",
    "            \n",
    "        for ri in range(n_rois):\n",
    "            \n",
    "            meanvals = np.mean(rvals[:,ri,ti_plot,ii], axis=0)\n",
    "            plt.plot([ri+x_jitter[0], ri+x_jitter[1]], meanvals,'-',color=[0.6, 0.6, 0.6], zorder=-5)\n",
    "\n",
    "            plt.plot(ri+x_jitter, rvals[:,ri,ti_plot,ii].T, '.', color=[0.8, 0.8, 0.8], zorder=-10)\n",
    "            \n",
    "        plt.ylim([-0.12, 1.0])\n",
    "\n",
    "        plt.xticks(np.arange(n_rois), roi_names)\n",
    "        plt.ylabel('confidence')\n",
    "\n",
    "        # plt.legend(lh,np.array(task_names)[ti_plot])\n",
    "\n",
    "        plt.title('decode %s'%axis_name)\n",
    "        \n",
    "        ax.spines['top'].set_visible(False)\n",
    "        ax.spines['right'].set_visible(False)\n",
    "\n",
    "\n",
    "    plt.suptitle('classifier confidence - %s'%name)\n",
    "\n",
    "    figname = os.path.join(figfolder, 'binary_conf_%s.pdf'%name)\n",
    "    print(figname)\n",
    "    plt.savefig(figname)"
   ]
  },
  {
   "cell_type": "code",
   "execution_count": 11,
   "id": "41f73e86-226a-442c-abc4-74a8aed2c42f",
   "metadata": {},
   "outputs": [
    {
     "name": "stdout",
     "output_type": "stream",
     "text": [
      "/usr/local/serenceslab/maggie/shapeDim/Analysis/figures/decodebinary_binary_conf_lin1vs2_rm_anova_far.csv\n",
      "/usr/local/serenceslab/maggie/shapeDim/Analysis/figures/decodebinary_binary_conf_lin1vs2_rm_anova_middle.csv\n"
     ]
    }
   ],
   "source": [
    "\n",
    "for xx, [cvals, diffname] in enumerate(zip([conf_fartrials, \\\n",
    "                                            conf_midtrials], \\\n",
    "                        ['far','middle'])):\n",
    "\n",
    "    \n",
    "    vals = copy.deepcopy(cvals[:,:,0:2,0:2])\n",
    "\n",
    "    anova_result = stats_utils.rmanova_3way(vals, ['ROI','Task','Boundary'], \\\n",
    "                                            # do_shuffle=False)\n",
    "                                           do_shuffle=True, n_iter=10000, rndseed = 423443+xx)\n",
    "\n",
    "    anova_result['Pr > F'] = anova_result['Pr > F'].round(4)\n",
    "\n",
    "    tablename = os.path.join(figfolder, 'decodebinary_binary_conf_lin1vs2_rm_anova_%s.csv'%(diffname))\n",
    "    \n",
    "    print(tablename)\n",
    "    anova_result.to_csv(tablename)"
   ]
  },
  {
   "cell_type": "code",
   "execution_count": 11,
   "id": "43def2c5-7570-4f61-9318-ea04d53769f5",
   "metadata": {},
   "outputs": [
    {
     "name": "stdout",
     "output_type": "stream",
     "text": [
      "/usr/local/serenceslab/maggie/shapeDim/Analysis/figures/decodebinary_binary_conf_lin1vs2_rm_anova_far.csv\n",
      "Sat Dec 14 08:55:32 2024\n",
      "\n",
      "Anova for confidence, far trials\n",
      "                     F Value  Num DF  Den DF  Pr > F  p (permutation)\n",
      "ROI                64.262346     7.0    63.0  0.0000           0.0000\n",
      "Task                2.113408     1.0     9.0  0.1800           0.1786\n",
      "Boundary           27.521426     1.0     9.0  0.0005           0.0005\n",
      "ROI:Task            0.565561     7.0    63.0  0.7810           0.7804\n",
      "ROI:Boundary        3.489850     7.0    63.0  0.0032           0.0033\n",
      "Task:Boundary       0.164076     1.0     9.0  0.6949           0.7052\n",
      "ROI:Task:Boundary   0.937452     7.0    63.0  0.4844           0.4898\n",
      "/usr/local/serenceslab/maggie/shapeDim/Analysis/figures/decodebinary_binary_conf_lin1vs2_rm_anova_middle.csv\n",
      "Sat Dec 14 09:11:04 2024\n",
      "\n",
      "Anova for confidence, middle trials\n",
      "                     F Value  Num DF  Den DF  Pr > F  p (permutation)\n",
      "ROI                38.410904     7.0    63.0  0.0000           0.0000\n",
      "Task                2.976114     1.0     9.0  0.1186           0.1153\n",
      "Boundary           14.156236     1.0     9.0  0.0045           0.0036\n",
      "ROI:Task            0.753526     7.0    63.0  0.6279           0.6242\n",
      "ROI:Boundary        3.434924     7.0    63.0  0.0036           0.0030\n",
      "Task:Boundary      13.076227     1.0     9.0  0.0056           0.0031\n",
      "ROI:Task:Boundary   1.380811     7.0    63.0  0.2291           0.2249\n"
     ]
    }
   ],
   "source": [
    "for diffname in ['far','middle']:\n",
    "    \n",
    "    tablename = os.path.join(figfolder, 'decodebinary_binary_conf_lin1vs2_rm_anova_%s.csv'%(diffname))\n",
    "    print(tablename)\n",
    "    print(time.ctime(os.path.getmtime(tablename)))\n",
    "    anova_result = pd.read_csv(tablename, index_col=0)\n",
    "    print('\\nAnova for confidence, %s trials'%(diffname))\n",
    "    \n",
    "    print(anova_result)"
   ]
  },
  {
   "cell_type": "code",
   "execution_count": 13,
   "id": "cf2bf731-8f0f-49fb-94fc-95d36fb8b909",
   "metadata": {},
   "outputs": [
    {
     "name": "stdout",
     "output_type": "stream",
     "text": [
      "/usr/local/serenceslab/maggie/shapeDim/Analysis/figures/decodebinary_binary_conf_rm_anova_axis1_far.csv\n",
      "/usr/local/serenceslab/maggie/shapeDim/Analysis/figures/decodebinary_binary_conf_rm_anova_axis2_far.csv\n",
      "/usr/local/serenceslab/maggie/shapeDim/Analysis/figures/decodebinary_binary_conf_rm_anova_axis1_middle.csv\n",
      "/usr/local/serenceslab/maggie/shapeDim/Analysis/figures/decodebinary_binary_conf_rm_anova_axis2_middle.csv\n"
     ]
    }
   ],
   "source": [
    "for cvals, diffname in zip([conf_fartrials, conf_midtrials ], \\\n",
    "                        ['far','middle']):\n",
    "\n",
    "    for ii, axis_name in enumerate(['axis1','axis2']):\n",
    "\n",
    "        vals = copy.deepcopy(cvals[:,:,0:2,ii])\n",
    "\n",
    "        anova_result = stats_utils.rmanova_2way(vals, ['ROI','Task'], \\\n",
    "                                                # do_shuffle=False)\n",
    "                                                do_shuffle=True, n_iter=10000, rndseed = 243434+ii)\n",
    "\n",
    "        \n",
    "        anova_result['Pr > F'] = anova_result['Pr > F'].round(4)\n",
    "    \n",
    "        tablename = os.path.join(figfolder, 'decodebinary_binary_conf_rm_anova_%s_%s.csv'%(axis_name, diffname))\n",
    "    \n",
    "        print(tablename)\n",
    "        anova_result.to_csv(tablename)"
   ]
  },
  {
   "cell_type": "code",
   "execution_count": 12,
   "id": "0717d110-d037-43c7-89b7-2e6946283909",
   "metadata": {},
   "outputs": [
    {
     "name": "stdout",
     "output_type": "stream",
     "text": [
      "/usr/local/serenceslab/maggie/shapeDim/Analysis/figures/decodebinary_binary_conf_rm_anova_axis1_far.csv\n",
      "Sat Dec 14 09:17:55 2024\n",
      "\n",
      "Anova for axis1 confidence, far trials\n",
      "            F Value  Num DF  Den DF  Pr > F  p (permutation)\n",
      "ROI       37.109267     7.0    63.0  0.0000           0.0000\n",
      "Task       0.436607     1.0     9.0  0.5253           0.5313\n",
      "ROI:Task   1.149516     7.0    63.0  0.3445           0.3464\n",
      "/usr/local/serenceslab/maggie/shapeDim/Analysis/figures/decodebinary_binary_conf_rm_anova_axis2_far.csv\n",
      "Sat Dec 14 09:22:54 2024\n",
      "\n",
      "Anova for axis2 confidence, far trials\n",
      "            F Value  Num DF  Den DF  Pr > F  p (permutation)\n",
      "ROI       61.765302     7.0    63.0  0.0000           0.0000\n",
      "Task       2.006206     1.0     9.0  0.1903           0.1888\n",
      "ROI:Task   0.411239     7.0    63.0  0.8919           0.8906\n",
      "/usr/local/serenceslab/maggie/shapeDim/Analysis/figures/decodebinary_binary_conf_rm_anova_axis1_middle.csv\n",
      "Sat Dec 14 09:27:13 2024\n",
      "\n",
      "Anova for axis1 confidence, middle trials\n",
      "            F Value  Num DF  Den DF  Pr > F  p (permutation)\n",
      "ROI       20.788382     7.0    63.0  0.0000           0.0000\n",
      "Task       1.503584     1.0     9.0  0.2512           0.2551\n",
      "ROI:Task   1.262908     7.0    63.0  0.2832           0.2811\n",
      "/usr/local/serenceslab/maggie/shapeDim/Analysis/figures/decodebinary_binary_conf_rm_anova_axis2_middle.csv\n",
      "Sat Dec 14 09:32:20 2024\n",
      "\n",
      "Anova for axis2 confidence, middle trials\n",
      "            F Value  Num DF  Den DF  Pr > F  p (permutation)\n",
      "ROI       33.813850     7.0    63.0  0.0000           0.0000\n",
      "Task      30.674116     1.0     9.0  0.0004           0.0002\n",
      "ROI:Task   0.961006     7.0    63.0  0.4673           0.4649\n"
     ]
    }
   ],
   "source": [
    "for diffname in ['far','middle']:\n",
    "    for axis_name in ['axis1','axis2']:\n",
    "\n",
    "        tablename = os.path.join(figfolder, 'decodebinary_binary_conf_rm_anova_%s_%s.csv'%(axis_name, diffname))\n",
    "        print(tablename)\n",
    "        print(time.ctime(os.path.getmtime(tablename)))\n",
    "        anova_result = pd.read_csv(tablename, index_col=0)\n",
    "        print('\\nAnova for %s confidence, %s trials'%(axis_name, diffname))\n",
    "        print(anova_result)"
   ]
  },
  {
   "cell_type": "code",
   "execution_count": 13,
   "id": "03359073-d98f-42ab-9cbb-8273d6572e33",
   "metadata": {},
   "outputs": [
    {
     "name": "stdout",
     "output_type": "stream",
     "text": [
      "\n",
      "middle trials, axis 1 (x)\n",
      "        t-stat for task 1 > task 2  pvalue  n_subs_indiv\n",
      "V1                           1.513   0.160             7\n",
      "V2                           1.310   0.247             5\n",
      "V3                           0.462   0.633             6\n",
      "V3AB                         1.022   0.346             6\n",
      "hV4                         -0.744   0.509             5\n",
      "LO1                          1.159   0.265             8\n",
      "LO2                         -1.690   0.129             8\n",
      "IPSall                      -0.118   0.889             5\n",
      "\n",
      "middle trials, axis 2 (y)\n",
      "        t-stat for task 1 > task 2  pvalue  n_subs_indiv\n",
      "V1                          -0.528   0.600             7\n",
      "V2                          -1.882   0.077             8\n",
      "V3                          -2.846   0.025             7\n",
      "V3AB                        -1.470   0.166             6\n",
      "hV4                         -1.714   0.125             6\n",
      "LO1                         -0.659   0.514             7\n",
      "LO2                         -0.142   0.887             6\n",
      "IPSall                      -1.764   0.102             5\n"
     ]
    }
   ],
   "source": [
    "for cvals, diffname in zip([conf_midtrials], \\\n",
    "                        ['middle']):\n",
    "\n",
    "    for ii, axis_name in enumerate(['axis 1 (x)','axis 2 (y)']):\n",
    "\n",
    "        vals = copy.deepcopy(cvals[:,:,0:2,ii])\n",
    "        \n",
    "        tstats_task = np.zeros((n_rois,),dtype=float)\n",
    "        pvals_task = np.zeros((n_rois,),dtype=float)\n",
    "        n_subs_samedir = np.zeros((n_rois,),dtype=int)\n",
    "\n",
    "        rndseed = 8676786\n",
    "        for rr in range(n_rois):\n",
    "\n",
    "            t1_values = vals[:,rr,0]\n",
    "            t2_values = vals[:,rr,1]\n",
    "            p, t = stats_utils.paired_ttest_nonpar(t1_values, t2_values, \\\n",
    "                                                   # n_iter=2,\n",
    "                                                   n_iter=10000, \\\n",
    "                                                   rndseed=rndseed+rr)    \n",
    "            tstats_task[rr] = t\n",
    "            pvals_task[rr] = p\n",
    "\n",
    "            subj_diffs = t1_values - t2_values\n",
    "            n_subs_samedir[rr] = np.maximum(np.sum(subj_diffs>0), np.sum(subj_diffs<0))\n",
    "\n",
    "        print('\\n%s trials, %s'%(diffname, axis_name))\n",
    "        task_df = pd.DataFrame({'t-stat for task 1 > task 2': tstats_task, \\\n",
    "                                'pvalue': pvals_task, \\\n",
    "                                'n_subs_indiv': n_subs_samedir}, \\\n",
    "                                  index=roi_names)\n",
    "        print(task_df.round(3))"
   ]
  }
 ],
 "metadata": {
  "kernelspec": {
   "display_name": "Python 3",
   "language": "python",
   "name": "python3"
  },
  "language_info": {
   "codemirror_mode": {
    "name": "ipython",
    "version": 3
   },
   "file_extension": ".py",
   "mimetype": "text/x-python",
   "name": "python",
   "nbconvert_exporter": "python",
   "pygments_lexer": "ipython3",
   "version": "3.7.10"
  }
 },
 "nbformat": 4,
 "nbformat_minor": 5
}
