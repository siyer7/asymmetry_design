{
 "cells": [
  {
   "cell_type": "code",
   "execution_count": 1,
   "id": "7867e002-ff49-4cc1-b33b-f6ac37f847cb",
   "metadata": {},
   "outputs": [],
   "source": [
    "import nibabel as nib\n",
    "import numpy as np\n",
    "import sys, os\n",
    "import subprocess"
   ]
  },
  {
   "cell_type": "code",
   "execution_count": 26,
   "id": "f21a815b-882a-4f94-98a6-c794d1e77e46",
   "metadata": {},
   "outputs": [],
   "source": [
    "subinit_big = ['CP','BX','BR','CA','CG','CT','CU','DA','DF','AR'];\n",
    "subnum_big = [1,2,3,4,5,6,7,8,9,10];\n",
    "\n",
    "exp_path = '/mnt/neurocube/local/serenceslab/maggie/shapeDim/';\n",
    "doreti_path = '/mnt/neurocube/local/serenceslab/Doreti/';\n"
   ]
  },
  {
   "cell_type": "code",
   "execution_count": 28,
   "id": "433a2c2f-43f6-4e1e-9f68-15d1cb3361cd",
   "metadata": {},
   "outputs": [
    {
     "name": "stdout",
     "output_type": "stream",
     "text": [
      "\n",
      "S01 CP\n",
      "\n",
      "flirt -in /mnt/neurocube/local/serenceslab/Doreti/ANAT/CP/mri/brainmask.nii.gz -ref /mnt/neurocube/local/serenceslab/maggie/shapeDim/DataPreproc/S01/MCTemplateXFM01.nii.gz -applyxfm -init /mnt/neurocube/local/serenceslab/maggie/shapeDim/DataPreproc/S01/regheadercenterMOD.mat -out /mnt/neurocube/local/serenceslab/maggie/shapeDim/DataPreproc/S01/S01_BrainMask_REG2FUNC.nii.gz\n",
      "\n",
      "S02 BX\n",
      "\n",
      "flirt -in /mnt/neurocube/local/serenceslab/Doreti/ANAT/BX/mri/brainmask.nii.gz -ref /mnt/neurocube/local/serenceslab/maggie/shapeDim/DataPreproc/S02/MCTemplateXFM01.nii.gz -applyxfm -init /mnt/neurocube/local/serenceslab/maggie/shapeDim/DataPreproc/S02/regheadercenterMOD.mat -out /mnt/neurocube/local/serenceslab/maggie/shapeDim/DataPreproc/S02/S02_BrainMask_REG2FUNC.nii.gz\n",
      "\n",
      "S03 BR\n",
      "\n",
      "flirt -in /mnt/neurocube/local/serenceslab/Doreti/ANAT/BR/mri/brainmask.nii.gz -ref /mnt/neurocube/local/serenceslab/maggie/shapeDim/DataPreproc/S03/MCTemplateXFM01.nii.gz -applyxfm -init /mnt/neurocube/local/serenceslab/maggie/shapeDim/DataPreproc/S03/regheadercenterMOD.mat -out /mnt/neurocube/local/serenceslab/maggie/shapeDim/DataPreproc/S03/S03_BrainMask_REG2FUNC.nii.gz\n",
      "\n",
      "S04 CA\n",
      "\n",
      "flirt -in /mnt/neurocube/local/serenceslab/Doreti/ANAT/CA/mri/brainmask.nii.gz -ref /mnt/neurocube/local/serenceslab/maggie/shapeDim/DataPreproc/S04/MCTemplateXFM01.nii.gz -applyxfm -init /mnt/neurocube/local/serenceslab/maggie/shapeDim/DataPreproc/S04/regheadercenterMOD.mat -out /mnt/neurocube/local/serenceslab/maggie/shapeDim/DataPreproc/S04/S04_BrainMask_REG2FUNC.nii.gz\n",
      "\n",
      "S05 CG\n",
      "\n",
      "flirt -in /mnt/neurocube/local/serenceslab/Doreti/ANAT/CG/mri/brainmask.nii.gz -ref /mnt/neurocube/local/serenceslab/maggie/shapeDim/DataPreproc/S05/MCTemplateXFM01.nii.gz -applyxfm -init /mnt/neurocube/local/serenceslab/maggie/shapeDim/DataPreproc/S05/regheadercenterMOD.mat -out /mnt/neurocube/local/serenceslab/maggie/shapeDim/DataPreproc/S05/S05_BrainMask_REG2FUNC.nii.gz\n",
      "\n",
      "S06 CT\n",
      "\n",
      "flirt -in /mnt/neurocube/local/serenceslab/Doreti/ANAT/CT/mri/brainmask.nii.gz -ref /mnt/neurocube/local/serenceslab/maggie/shapeDim/DataPreproc/S06/MCTemplateXFM01.nii.gz -applyxfm -init /mnt/neurocube/local/serenceslab/maggie/shapeDim/DataPreproc/S06/regheadercenterMOD.mat -out /mnt/neurocube/local/serenceslab/maggie/shapeDim/DataPreproc/S06/S06_BrainMask_REG2FUNC.nii.gz\n",
      "\n",
      "S07 CU\n",
      "\n",
      "flirt -in /mnt/neurocube/local/serenceslab/Doreti/ANAT/CU/mri/brainmask.nii.gz -ref /mnt/neurocube/local/serenceslab/maggie/shapeDim/DataPreproc/S07/MCTemplateXFM01.nii.gz -applyxfm -init /mnt/neurocube/local/serenceslab/maggie/shapeDim/DataPreproc/S07/regheadercenterMOD.mat -out /mnt/neurocube/local/serenceslab/maggie/shapeDim/DataPreproc/S07/S07_BrainMask_REG2FUNC.nii.gz\n",
      "\n",
      "S08 DA\n",
      "\n",
      "flirt -in /mnt/neurocube/local/serenceslab/Doreti/ANAT/DA/mri/brainmask.nii.gz -ref /mnt/neurocube/local/serenceslab/maggie/shapeDim/DataPreproc/S08/MCTemplateXFM01.nii.gz -applyxfm -init /mnt/neurocube/local/serenceslab/maggie/shapeDim/DataPreproc/S08/regheadercenterMOD.mat -out /mnt/neurocube/local/serenceslab/maggie/shapeDim/DataPreproc/S08/S08_BrainMask_REG2FUNC.nii.gz\n",
      "\n",
      "S09 DF\n",
      "\n",
      "flirt -in /mnt/neurocube/local/serenceslab/Doreti/ANAT/DF/mri/brainmask.nii.gz -ref /mnt/neurocube/local/serenceslab/maggie/shapeDim/DataPreproc/S09/MCTemplateXFM01.nii.gz -applyxfm -init /mnt/neurocube/local/serenceslab/maggie/shapeDim/DataPreproc/S09/regheadercenterMOD.mat -out /mnt/neurocube/local/serenceslab/maggie/shapeDim/DataPreproc/S09/S09_BrainMask_REG2FUNC.nii.gz\n",
      "\n",
      "S10 AR\n",
      "\n",
      "flirt -in /mnt/neurocube/local/serenceslab/Doreti/ANAT/AR/mri/brainmask.nii.gz -ref /mnt/neurocube/local/serenceslab/maggie/shapeDim/DataPreproc/S10/MCTemplateXFM01.nii.gz -applyxfm -init /mnt/neurocube/local/serenceslab/maggie/shapeDim/DataPreproc/S10/regheadercenterMOD.mat -out /mnt/neurocube/local/serenceslab/maggie/shapeDim/DataPreproc/S10/S10_BrainMask_REG2FUNC.nii.gz\n"
     ]
    }
   ],
   "source": [
    "for si in range(10):\n",
    "    \n",
    "    sub_doreti = subinit_big[si]\n",
    "    sub = 'S%02d'%subnum_big[si]\n",
    "\n",
    "    print('\\n%s %s\\n'%(sub, sub_doreti))\n",
    "    \n",
    "    reference_volume = os.path.join(exp_path, 'DataPreproc', sub, 'MCTemplateXFM01.nii.gz')\n",
    "    \n",
    "    subpath = os.path.join(exp_path, 'DataPreproc', sub); \n",
    "    \n",
    "    file2align = os.path.join(doreti_path, 'ANAT',  sub_doreti, 'mri','brainmask.nii.gz')\n",
    "    \n",
    "    file2align_mgz = os.path.join(doreti_path, 'ANAT',  sub_doreti, 'mri','brainmask.mgz')\n",
    "    \n",
    "    if not os.path.exists(file2align):\n",
    "        cmd = 'mri_convert %s %s'%(file2align_mgz, file2align)\n",
    "        print(cmd)\n",
    "        err = subprocess.call(cmd, shell=True)\n",
    "        # err\n",
    "\n",
    "    file2save = os.path.join(exp_path, 'DataPreproc', sub, '%s_BrainMask_REG2FUNC.nii.gz'%sub);\n",
    "    \n",
    "    xfm_file = os.path.join(exp_path, 'DataPreproc', sub, 'regheadercenterMOD.mat')\n",
    "    os.path.exists(xfm_file)\n",
    "\n",
    "    if not os.path.exists(file2save):\n",
    "\n",
    "        cmd = 'flirt -in %s -ref %s -applyxfm -init %s -out %s'%(file2align, reference_volume, xfm_file, file2save)\n",
    "        print(cmd)\n",
    "        err = subprocess.call(cmd, shell=True)\n",
    "        # err"
   ]
  }
 ],
 "metadata": {
  "kernelspec": {
   "display_name": "Python 3",
   "language": "python",
   "name": "python3"
  },
  "language_info": {
   "codemirror_mode": {
    "name": "ipython",
    "version": 3
   },
   "file_extension": ".py",
   "mimetype": "text/x-python",
   "name": "python",
   "nbconvert_exporter": "python",
   "pygments_lexer": "ipython3",
   "version": "3.7.10"
  }
 },
 "nbformat": 4,
 "nbformat_minor": 5
}
