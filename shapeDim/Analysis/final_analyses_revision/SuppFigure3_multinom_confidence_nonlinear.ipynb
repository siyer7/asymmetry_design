{
 "cells": [
  {
   "cell_type": "code",
   "execution_count": 1,
   "id": "6a3e25fc-5b7a-475d-9ba2-c4c455943de9",
   "metadata": {},
   "outputs": [],
   "source": [
    "import numpy as np\n",
    "import matplotlib.pyplot as plt\n",
    "from matplotlib import cm\n",
    "import os, sys\n",
    "import pandas as pd\n",
    "import time\n",
    "\n",
    "\n",
    "root = '/usr/local/serenceslab/maggie/shapeDim/'\n",
    "\n",
    "sys.path.append(os.path.join(root, 'Analysis'))\n",
    "from code_utils import file_utils, data_utils\n",
    "from code_utils import stats_utils, plot_utils\n"
   ]
  },
  {
   "cell_type": "code",
   "execution_count": 2,
   "id": "7de0a9ad-cd2e-42d6-a841-fcc90f70d836",
   "metadata": {},
   "outputs": [],
   "source": [
    "task_names = ['Linear (1)','Linear (2)','Checker', 'Repeat'];\n",
    "n_tasks = len(task_names)\n",
    "task_colors = np.flipud(cm.GnBu(np.linspace(0,1,5))[1:,:])\n",
    "\n",
    "n_subjects = 10\n",
    "# n_subjects = 3;\n",
    "# subjects = np.arange(8, 11)\n",
    "subjects = np.arange(1, 11)\n",
    "subcolors = cm.Dark2(np.linspace(0,1,n_subjects))"
   ]
  },
  {
   "cell_type": "code",
   "execution_count": 3,
   "id": "0644dd96-0853-4783-8bb8-cff0981352e4",
   "metadata": {},
   "outputs": [],
   "source": [
    "lab = dict()\n",
    "for ss in subjects:\n",
    "    \n",
    "    # get labels for all the trials, this subject\n",
    "    main_labels = data_utils.load_main_task_labels(ss)\n",
    "    rep_labels = data_utils.load_repeat_task_labels(ss)\n",
    "    lab[ss] = pd.concat([main_labels, rep_labels], axis=0)\n",
    "   "
   ]
  },
  {
   "cell_type": "code",
   "execution_count": 4,
   "id": "55810e6e-06fe-4742-b802-9083f5c8ac6a",
   "metadata": {},
   "outputs": [],
   "source": [
    "from code_utils import grid_utils\n",
    "grid_pts = grid_utils.get_main_grid()\n",
    "# NOTE i am swapping the columns here\n",
    "# because this is the order you get from doing np.unique(pts)\n",
    "# this is the actual order that the predictions 1-16 of this classifier\n",
    "# correspond to. \n",
    "grid_pts = grid_pts[:,[1,0]] "
   ]
  },
  {
   "cell_type": "code",
   "execution_count": 5,
   "id": "cc34b4f3-f0ee-4a1f-aade-1f877a36b262",
   "metadata": {},
   "outputs": [
    {
     "name": "stdout",
     "output_type": "stream",
     "text": [
      "/usr/local/serenceslab/maggie/shapeDim/Analysis/decoding_results/decode_multiclass_withintask.npy\n",
      "Fri Jun  2 12:40:24 2023\n",
      "/usr/local/serenceslab/maggie/shapeDim/Analysis/decoding_results/decode_multiclass_withintask_newsubs.npy\n",
      "Tue Aug 13 08:41:26 2024\n",
      "acc_bytask\n",
      "(10, 8, 4)\n",
      "dprime_bytask\n",
      "(10, 8, 4)\n",
      "preds_all\n",
      "dict_keys([0, 1, 2, 3, 4, 5, 6, 7, 8, 9])\n",
      "probs_all\n",
      "dict_keys([0, 1, 2, 3, 4, 5, 6, 7, 8, 9])\n",
      "acc_each_cval\n",
      "(10, 8, 4, 12, 20)\n",
      "best_cval\n",
      "(10, 8, 4, 12)\n",
      "grid_pts\n",
      "(32, 2)\n",
      "roi_names\n",
      "(16,)\n"
     ]
    }
   ],
   "source": [
    "save_folder = os.path.join(root, 'Analysis', 'decoding_results')\n",
    "\n",
    "save_filename1 = os.path.join(save_folder, 'decode_multiclass_withintask.npy')\n",
    "print(save_filename1)\n",
    "print(time.ctime(os.path.getmtime(save_filename1)))\n",
    "dec_withintask1 = np.load(save_filename1, allow_pickle=True).item()\n",
    "\n",
    "save_filename2 = os.path.join(save_folder, 'decode_multiclass_withintask_newsubs.npy')\n",
    "print(save_filename2)\n",
    "print(time.ctime(os.path.getmtime(save_filename2)))\n",
    "dec_withintask2 = np.load(save_filename2, allow_pickle=True).item()\n",
    "dec_withintask2.keys()\n",
    "\n",
    "dec_withintask = dict([])\n",
    "for kk in list(dec_withintask1.keys()):\n",
    "    print(kk)\n",
    "    if kk not in ['preds_all','probs_all']:\n",
    "        # print(dec_withintask1[kk].shape)\n",
    "        dec_withintask[kk] = np.concatenate([dec_withintask1[kk], dec_withintask2[kk]], axis=0)\n",
    "        print(dec_withintask[kk].shape)\n",
    "    else:\n",
    "        dec_withintask[kk] = dec_withintask1[kk]\n",
    "        # print(dec_withintask1[kk].keys())\n",
    "        for si in dec_withintask2[kk].keys():\n",
    "            # print(si, si+7)\n",
    "            dec_withintask[kk][si+7] = dec_withintask2[kk][si]\n",
    "        print(dec_withintask[kk].keys())\n",
    "        \n",
    "dec_withintask['roi_names'] = dec_withintask1['roi_names']\n",
    "dec_withintask['grid_pts'] = dec_withintask1['grid_pts']"
   ]
  },
  {
   "cell_type": "code",
   "execution_count": 6,
   "id": "93c057de-5b9c-48db-aca6-f1217ba1b3d6",
   "metadata": {},
   "outputs": [
    {
     "data": {
      "text/plain": [
       "['V1', 'V2', 'V3', 'V3AB', 'hV4', 'LO1', 'LO2', 'IPS']"
      ]
     },
     "execution_count": 6,
     "metadata": {},
     "output_type": "execute_result"
    }
   ],
   "source": [
    "roi_names = dec_withintask['roi_names']\n",
    "roi_names[-1] = 'IPS'\n",
    "n_rois = len(roi_names)\n",
    "roi_names"
   ]
  },
  {
   "cell_type": "markdown",
   "id": "4dc389b9-1ead-4c23-8b17-f55370555219",
   "metadata": {
    "tags": []
   },
   "source": [
    "#### compute Checker Task accuracy for different sets of trials\n",
    "far, medium are all in main grid, different positions relative to boundaries\n"
   ]
  },
  {
   "cell_type": "code",
   "execution_count": 7,
   "id": "35b85448-f076-41c2-afe4-7175f0062f85",
   "metadata": {},
   "outputs": [],
   "source": [
    "n_tasks = 3\n",
    "\n",
    "conf_fartrials = np.zeros((n_subjects, n_rois, n_tasks, 1))\n",
    "dprime_fartrials = np.zeros((n_subjects, n_rois, n_tasks, 1))\n",
    "acc_fartrials = np.zeros((n_subjects, n_rois, n_tasks, 1))\n",
    "\n",
    "conf_midtrials = np.zeros((n_subjects, n_rois, n_tasks, 1))\n",
    "dprime_midtrials = np.zeros((n_subjects, n_rois, n_tasks, 1))\n",
    "acc_midtrials = np.zeros((n_subjects, n_rois, n_tasks, 1))\n",
    "\n",
    "ii = 0;\n",
    "\n",
    "for si, ss in enumerate(subjects):\n",
    "\n",
    "    for ti, tt in enumerate([1,2,3]):\n",
    "        \n",
    "        l = lab[ss][lab[ss]['task']==tt]\n",
    "        \n",
    "        pt_labs = np.array([l['ptx'], l['pty']]).T\n",
    "        \n",
    "        is_main_grid = l['is_main_grid']==1\n",
    "        \n",
    "        dist = l['dist_from_bound3'].round(2)\n",
    "        \n",
    "        categ_actual = np.array(l['categ_task3']).astype(int)\n",
    "        \n",
    "        un_dist = np.unique(dist[is_main_grid])\n",
    "        \n",
    "        is_middle = is_main_grid & (dist==0.8)\n",
    "        is_far = is_main_grid & (dist==2.4)\n",
    "        \n",
    "        correct = np.array(l['subject_correct'])\n",
    "        \n",
    "        for ri in range(n_rois):\n",
    "\n",
    "            pred = dec_withintask['preds_all'][si][ri][ti].astype(int)\n",
    "\n",
    "            coords_pred = grid_pts[pred,:]\n",
    "            categ_pred = grid_utils.get_categ(coords_pred, 3)\n",
    "            \n",
    "            prob = dec_withintask['probs_all'][si][ri][ti]\n",
    "\n",
    "            # \"confidence\" in assignment to category 2 vs 1\n",
    "            # group the 16 points into categories w/r/t relevant axis\n",
    "            g1 = grid_utils.get_categ(grid_pts, 3)==1\n",
    "            p_categ1 = np.sum(prob[:,g1], axis=1)\n",
    "            g2 = grid_utils.get_categ(grid_pts, 3)==2\n",
    "            p_categ2 = np.sum(prob[:,g2], axis=1)\n",
    "\n",
    "            # signed confidence will be: p(correct) - p(incorrect)\n",
    "            signedconf = np.zeros_like(p_categ1)\n",
    "            signedconf[categ_actual==1] = p_categ1[categ_actual==1] - p_categ2[categ_actual==1]\n",
    "            signedconf[categ_actual==2] = p_categ2[categ_actual==2] - p_categ1[categ_actual==2]\n",
    "\n",
    "            # far trials\n",
    "            inds = is_far & correct\n",
    "\n",
    "            conf_fartrials[si,ri,ti,ii] = np.mean(signedconf[inds])\n",
    "\n",
    "            d = stats_utils.get_dprime(categ_pred[inds], categ_actual[inds])\n",
    "            dprime_fartrials[si,ri,ti,ii] = d;\n",
    "\n",
    "            acc_fartrials[si,ri,ti,ii] = np.mean(categ_pred[inds]==categ_actual[inds])\n",
    "\n",
    "            # middle trials\n",
    "            inds = is_middle & correct\n",
    "\n",
    "            conf_midtrials[si,ri,ti,ii] = np.mean(signedconf[inds])\n",
    "\n",
    "            d = stats_utils.get_dprime(categ_pred[inds], categ_actual[inds])\n",
    "            dprime_midtrials[si,ri,ti,ii] = d;\n",
    "\n",
    "            acc_midtrials[si,ri,ti,ii] = np.mean(categ_pred[inds]==categ_actual[inds])\n"
   ]
  },
  {
   "cell_type": "code",
   "execution_count": 8,
   "id": "443f5cfa-ea4f-4403-a004-a76a8f7e6cf6",
   "metadata": {},
   "outputs": [],
   "source": [
    "plt.rcParams['pdf.fonttype']=42\n",
    "plot_utils.set_all_font_sizes(fs = 16)\n",
    "figfolder = os.path.join(root, 'Analysis','figures')"
   ]
  },
  {
   "cell_type": "code",
   "execution_count": 9,
   "id": "b47da6bb-0452-4d5a-b60b-e85809b44d05",
   "metadata": {},
   "outputs": [
    {
     "name": "stdout",
     "output_type": "stream",
     "text": [
      "-0.04646217600541901 0.690038966129523\n",
      "-0.08290870292822126 0.785562649803857\n",
      "-0.07662004954781498 0.7134238638429601\n",
      "/usr/local/serenceslab/maggie/shapeDim/Analysis/figures/multinomial_nonlinear_confidence.pdf\n",
      "-0.02756616335026381 0.35567940150234756\n",
      "-0.04649450198976697 0.45605311025067324\n",
      "-0.04296986081105712 0.4143377649234035\n",
      "/usr/local/serenceslab/maggie/shapeDim/Analysis/figures/multinomial_nonlinear_confidence.pdf\n"
     ]
    },
    {
     "data": {
      "image/png": "[encoded data removed]",
      "text/plain": [
       "<Figure size 1296x288 with 2 Axes>"
      ]
     },
     "metadata": {
      "needs_background": "light"
     },
     "output_type": "display_data"
    }
   ],
   "source": [
    "ti_plot = [0,1,2]\n",
    "\n",
    "plt.figure(figsize=(18,4))\n",
    "\n",
    "x_jitter = np.linspace(-0.2, 0.2, 3)\n",
    "\n",
    "pi=0\n",
    "\n",
    "for rvals, name in zip([conf_fartrials, conf_midtrials], \\\n",
    "                     ['Far','Near']):\n",
    "\n",
    "    pi+=1\n",
    "    ax = plt.subplot(1,2,pi)\n",
    "    plt.axhline(0, color=[0.8, 0.8, 0.8])\n",
    "\n",
    "    lh = []\n",
    "\n",
    "    for ti in ti_plot:\n",
    "\n",
    "        x_ticks = np.arange(n_rois) + x_jitter[ti]\n",
    "\n",
    "        vals = rvals[:,:,ti,ii]\n",
    "        print(np.min(vals), np.max(vals))\n",
    "        \n",
    "        meanvals = np.mean(vals, axis=0)\n",
    "        semvals = np.std(vals, axis=0)/np.sqrt(n_subjects-1)\n",
    "\n",
    "        plt.plot(x_ticks, meanvals, 'o', color=task_colors[ti], alpha=1, \\\n",
    "                     markersize=8)\n",
    "        h = plt.errorbar(x_ticks, meanvals, semvals, xerr=None, color=task_colors[ti], linestyle='none')\n",
    "        lh.append(h)\n",
    "        \n",
    "    for ri in range(n_rois):\n",
    "        \n",
    "        plt.plot(ri+x_jitter, rvals[:,ri,ti_plot,ii].T, '.', color=[0.8, 0.8,0.8], zorder=-10)\n",
    "\n",
    "    ylims = [-0.12, 1.0]\n",
    "    # ylims = [-0.2, 0.6]\n",
    "    assert(np.all(rvals[:,:,ti_plot,:]>ylims[0]))\n",
    "    assert(np.all(rvals[:,:,ti_plot,:]<ylims[1]))\n",
    "    plt.ylim(ylims)\n",
    "\n",
    "    plt.xticks(np.arange(n_rois), roi_names)\n",
    "    plt.ylabel('confidence')\n",
    "\n",
    "    # plt.legend(lh,np.array(task_names)[ti_plot])\n",
    "    \n",
    "    ax.spines['top'].set_visible(False)\n",
    "    ax.spines['right'].set_visible(False)\n",
    "\n",
    "    plt.title(name)\n",
    "\n",
    "    # plt.suptitle('confidence for predicting correct checker category (2-way) - %s'%name)\n",
    "\n",
    "    figname = os.path.join(figfolder, 'multinomial_nonlinear_confidence.pdf')\n",
    "    print(figname)\n",
    "    plt.savefig(figname)"
   ]
  },
  {
   "cell_type": "code",
   "execution_count": 12,
   "id": "28c97caa-1b1f-4e50-8746-315c8daabb1b",
   "metadata": {},
   "outputs": [
    {
     "name": "stdout",
     "output_type": "stream",
     "text": [
      "/usr/local/serenceslab/maggie/shapeDim/Analysis/figures/checker_rm_anova_Far.csv\n",
      "/usr/local/serenceslab/maggie/shapeDim/Analysis/figures/checker_rm_anova_Near.csv\n"
     ]
    }
   ],
   "source": [
    "for rvals, diffname in zip([conf_fartrials, conf_midtrials], \\\n",
    "                     ['Far','Near']):\n",
    "\n",
    "    vals = rvals[:,:,:,0]\n",
    "\n",
    "    anova_result = stats_utils.rmanova_2way(vals, ['ROI','Task'], \n",
    "                                                do_shuffle=True, n_iter=10000, rndseed = 868679)\n",
    "\n",
    "    anova_result['Pr > F'] = anova_result['Pr > F'].round(4)\n",
    "\n",
    "    tablename = os.path.join(figfolder, 'checker_rm_anova_%s.csv'%(diffname))\n",
    "    \n",
    "    print(tablename)\n",
    "    anova_result.to_csv(tablename)\n"
   ]
  },
  {
   "cell_type": "code",
   "execution_count": 10,
   "id": "4f7a1f8f-e708-4f46-aaad-6a52c1c7b297",
   "metadata": {},
   "outputs": [
    {
     "name": "stdout",
     "output_type": "stream",
     "text": [
      "/usr/local/serenceslab/maggie/shapeDim/Analysis/figures/checker_rm_anova_Far.csv\n",
      "Sat Dec 14 09:08:06 2024\n",
      "\n",
      "Anova for Checker confidence, Far trials\n",
      "            F Value  Num DF  Den DF  Pr > F  p (permutation)\n",
      "ROI       41.697617     7.0    63.0  0.0000           0.0000\n",
      "Task       0.497021     2.0    18.0  0.6164           0.6179\n",
      "ROI:Task   0.669316    14.0   126.0  0.8004           0.8059\n",
      "/usr/local/serenceslab/maggie/shapeDim/Analysis/figures/checker_rm_anova_Near.csv\n",
      "Sat Dec 14 09:19:43 2024\n",
      "\n",
      "Anova for Checker confidence, Near trials\n",
      "            F Value  Num DF  Den DF  Pr > F  p (permutation)\n",
      "ROI       23.863028     7.0    63.0  0.0000           0.0000\n",
      "Task       0.509179     2.0    18.0  0.6094           0.6200\n",
      "ROI:Task   0.577307    14.0   126.0  0.8786           0.8854\n"
     ]
    }
   ],
   "source": [
    "for diffname in ['Far', 'Near']:\n",
    "    \n",
    "    tablename = os.path.join(figfolder, 'checker_rm_anova_%s.csv'%(diffname))\n",
    "    print(tablename)\n",
    "    print(time.ctime(os.path.getmtime(tablename)))\n",
    "    anova_result = pd.read_csv(tablename, index_col=0)\n",
    "    print('\\nAnova for Checker confidence, %s trials'%(diffname))\n",
    "    \n",
    "    print(anova_result)"
   ]
  }
 ],
 "metadata": {
  "kernelspec": {
   "display_name": "Python 3",
   "language": "python",
   "name": "python3"
  },
  "language_info": {
   "codemirror_mode": {
    "name": "ipython",
    "version": 3
   },
   "file_extension": ".py",
   "mimetype": "text/x-python",
   "name": "python",
   "nbconvert_exporter": "python",
   "pygments_lexer": "ipython3",
   "version": "3.7.10"
  }
 },
 "nbformat": 4,
 "nbformat_minor": 5
}
