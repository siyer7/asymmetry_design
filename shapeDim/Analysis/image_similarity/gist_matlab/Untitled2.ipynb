{
 "cells": [
  {
   "cell_type": "code",
   "execution_count": 1,
   "id": "cd9f3d5d-f135-4027-8f87-98e0d6ee6eec",
   "metadata": {},
   "outputs": [
    {
     "data": {
      "text/plain": [
       "['/mnt/neurocube/local/serenceslab/maggie/shapeDim/Analysis/image_similarity/gist_matlab',\n",
       " '/usr/local/serenceslab/maggie/conda_envs/shape_dim/lib/python37.zip',\n",
       " '/usr/local/serenceslab/maggie/conda_envs/shape_dim/lib/python3.7',\n",
       " '/usr/local/serenceslab/maggie/conda_envs/shape_dim/lib/python3.7/lib-dynload',\n",
       " '',\n",
       " '/usr/local/serenceslab/maggie/conda_envs/shape_dim/lib/python3.7/site-packages',\n",
       " '/usr/local/serenceslab/maggie/conda_envs/shape_dim/lib/python3.7/site-packages/IPython/extensions',\n",
       " '/mnt/neurocube/home/mmhender/.ipython']"
      ]
     },
     "execution_count": 1,
     "metadata": {},
     "output_type": "execute_result"
    }
   ],
   "source": [
    "import sys\n",
    "sys.path"
   ]
  },
  {
   "cell_type": "code",
   "execution_count": 4,
   "id": "804b1945-27e7-45f6-acdf-1fc61e4cbd60",
   "metadata": {},
   "outputs": [],
   "source": [
    "sys.path.append('/mnt/neurocube/home/mmhender/anaconda3/lib/python3.7/site-packages')"
   ]
  },
  {
   "cell_type": "code",
   "execution_count": 3,
   "id": "795ebbb0-d7ce-44cf-aa26-e6103cc712b4",
   "metadata": {},
   "outputs": [],
   "source": [
    "import simclr\n"
   ]
  }
 ],
 "metadata": {
  "kernelspec": {
   "display_name": "Python 3",
   "language": "python",
   "name": "python3"
  },
  "language_info": {
   "codemirror_mode": {
    "name": "ipython",
    "version": 3
   },
   "file_extension": ".py",
   "mimetype": "text/x-python",
   "name": "python",
   "nbconvert_exporter": "python",
   "pygments_lexer": "ipython3",
   "version": "3.7.10"
  }
 },
 "nbformat": 4,
 "nbformat_minor": 5
}
