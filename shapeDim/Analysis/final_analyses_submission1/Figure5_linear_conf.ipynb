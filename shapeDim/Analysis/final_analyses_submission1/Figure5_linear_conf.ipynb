{
 "cells": [
  {
   "cell_type": "code",
   "execution_count": 13,
   "id": "f32c0363-0598-489e-95ee-48129d8faaee",
   "metadata": {},
   "outputs": [],
   "source": [
    "import numpy as np\n",
    "import matplotlib.pyplot as plt\n",
    "from matplotlib import cm\n",
    "import os, sys\n",
    "import pandas as pd\n",
    "import copy\n",
    "\n",
    "root = '/usr/local/serenceslab/maggie/shapeDim/'\n",
    "\n",
    "sys.path.append(os.path.join(root, 'Analysis'))\n",
    "from code_utils import file_utils, data_utils\n",
    "from code_utils import stats_utils, plot_utils\n"
   ]
  },
  {
   "cell_type": "code",
   "execution_count": 2,
   "id": "6818bef5-eb13-454c-8275-50e5f9e09050",
   "metadata": {},
   "outputs": [],
   "source": [
    "task_names = ['Linear (1)','Linear (2)','Checker', 'Repeat'];\n",
    "n_tasks = len(task_names)\n",
    "task_colors = np.flipud(cm.GnBu(np.linspace(0,1,5))[1:,:])\n",
    "\n",
    "n_subjects = 7\n",
    "subjects = np.arange(1,8)\n",
    "subcolors = cm.Dark2(np.linspace(0,1,n_subjects))"
   ]
  },
  {
   "cell_type": "code",
   "execution_count": 3,
   "id": "d82ebade-17f9-4ea7-8ef8-60166c85b596",
   "metadata": {},
   "outputs": [],
   "source": [
    "lab = dict()\n",
    "for ss in subjects:\n",
    "    \n",
    "    # get labels for all the trials, this subject\n",
    "    main_labels = data_utils.load_main_task_labels(ss)\n",
    "    rep_labels = data_utils.load_repeat_task_labels(ss)\n",
    "    lab[ss] = pd.concat([main_labels, rep_labels], axis=0)\n",
    "   "
   ]
  },
  {
   "cell_type": "code",
   "execution_count": 4,
   "id": "02ea79a8-8d62-4c12-ab2f-97e99674a4eb",
   "metadata": {},
   "outputs": [],
   "source": [
    "from code_utils import grid_utils\n",
    "grid_pts = grid_utils.get_main_grid()\n",
    "# NOTE i am swapping the columns here\n",
    "# because this is the order you get from doing np.unique(pts)\n",
    "# this is the actual order that the predictions 1-16 of this classifier\n",
    "# correspond to. \n",
    "grid_pts = grid_pts[:,[1,0]] "
   ]
  },
  {
   "cell_type": "code",
   "execution_count": 5,
   "id": "089e0fb3-3afd-42b6-9a44-9ef1707b888f",
   "metadata": {},
   "outputs": [],
   "source": [
    "save_folder = os.path.join(root, 'Analysis', 'decoding_results')\n",
    "save_filename = os.path.join(save_folder, 'decode_multiclass_withintask.npy')\n",
    "dec_withintask = np.load(save_filename, allow_pickle=True).item()\n",
    "dec_withintask.keys()\n",
    "roi_names = dec_withintask['roi_names']\n",
    "roi_names[-1] = 'IPS'\n",
    "n_rois = len(roi_names)"
   ]
  },
  {
   "cell_type": "markdown",
   "id": "550f945f-6eaf-4e21-bb93-f138eb256ccd",
   "metadata": {
    "tags": []
   },
   "source": [
    "#### Compute binary classification accuracy for different sets of trials\n",
    "Far = furthest rows from boundary\n",
    "\n",
    "Middle = closer rows to boundary, but still in main grid\n"
   ]
  },
  {
   "cell_type": "code",
   "execution_count": 6,
   "id": "c69460c0-7c01-4edd-8e45-e9397f618e3f",
   "metadata": {},
   "outputs": [],
   "source": [
    "n_tasks = 4\n",
    "\n",
    "conf_allmaintrials = np.zeros((n_subjects, n_rois, n_tasks, 2))\n",
    "dprime_allmaintrials = np.zeros((n_subjects, n_rois, n_tasks, 2))\n",
    "acc_allmaintrials = np.zeros((n_subjects, n_rois, n_tasks, 2))\n",
    "\n",
    "conf_fartrials = np.zeros((n_subjects, n_rois, n_tasks, 2))\n",
    "dprime_fartrials = np.zeros((n_subjects, n_rois, n_tasks, 2))\n",
    "acc_fartrials = np.zeros((n_subjects, n_rois, n_tasks, 2))\n",
    "\n",
    "conf_midtrials = np.zeros((n_subjects, n_rois, n_tasks, 2))\n",
    "dprime_midtrials = np.zeros((n_subjects, n_rois, n_tasks, 2))\n",
    "acc_midtrials = np.zeros((n_subjects, n_rois, n_tasks, 2))\n",
    "\n",
    "for si, ss in enumerate(subjects):\n",
    "\n",
    "    # loop over tasks\n",
    "    for ti, tt in enumerate([1,2,3,4]):\n",
    "        \n",
    "        l = lab[ss][lab[ss]['task']==tt]\n",
    "        \n",
    "        pt_labs = np.array([l['ptx'], l['pty']]).T\n",
    "        \n",
    "        is_main_grid = l['is_main_grid']==1\n",
    "        \n",
    "        # use correct trials only here\n",
    "        correct = np.array(l['subject_correct'])\n",
    "        \n",
    "        # loop over \"axes\" - which boundary to compute accuracy for\n",
    "        for ii in [0,1]:\n",
    "\n",
    "            categ_actual = l['categ_task%d'%(ii+1)]\n",
    "            coord_actual = pt_labs[:,ii].round(2)\n",
    "           \n",
    "            # far is the furthest from bound\n",
    "            # middle is second furthest\n",
    "            dist_from_center = l['dist_from_bound%d'%(ii+1)].round(2)\n",
    "            is_near = dist_from_center<0.8\n",
    "            is_far = (dist_from_center==2.4) & is_main_grid\n",
    "            is_middle = (dist_from_center==0.8) & is_main_grid\n",
    "           \n",
    "            # loop over ROIs\n",
    "            for ri in range(n_rois):\n",
    "\n",
    "                pred = dec_withintask['preds_all'][si][ri][ti].astype(int)\n",
    "                \n",
    "                # binarize the predictions of 16-way classifier into 2 categories\n",
    "                # based on current axis \"ii\"\n",
    "                coords_pred = grid_pts[pred]\n",
    "                categ_pred = grid_utils.get_categ(coords_pred, ii+1)\n",
    "                \n",
    "                prob = dec_withintask['probs_all'][si][ri][ti]\n",
    "                \n",
    "                # \"confidence\" in assignment to category 2 vs 1\n",
    "                # group the 16 points into categories w/r/t relevant axis\n",
    "                g1 = grid_utils.get_categ(grid_pts, ii+1)==1\n",
    "                p_categ1 = np.sum(prob[:,g1], axis=1)\n",
    "                g2 = grid_utils.get_categ(grid_pts, ii+1)==2\n",
    "                p_categ2 = np.sum(prob[:,g2], axis=1)\n",
    "                \n",
    "                # signed confidence will be: p(correct) - p(incorrect)\n",
    "                signedconf = np.zeros_like(p_categ1)\n",
    "                signedconf[categ_actual==1] = p_categ1[categ_actual==1] - p_categ2[categ_actual==1]\n",
    "                signedconf[categ_actual==2] = p_categ2[categ_actual==2] - p_categ1[categ_actual==2]\n",
    "                \n",
    "                \n",
    "                inds = is_main_grid & correct\n",
    "                \n",
    "                conf_allmaintrials[si,ri,ti,ii] = np.mean(signedconf[inds])\n",
    "            \n",
    "                d = stats_utils.get_dprime(categ_pred[inds], categ_actual[inds])\n",
    "                dprime_allmaintrials[si,ri,ti,ii] = d;\n",
    "                \n",
    "                acc_allmaintrials[si,ri,ti,ii] = np.mean(categ_pred[inds]==categ_actual[inds])\n",
    "                \n",
    "                # far trials\n",
    "                inds = is_far & correct\n",
    "                                                          \n",
    "                conf_fartrials[si,ri,ti,ii] = np.mean(signedconf[inds])\n",
    "            \n",
    "                d = stats_utils.get_dprime(categ_pred[inds], categ_actual[inds])\n",
    "                dprime_fartrials[si,ri,ti,ii] = d;\n",
    "                \n",
    "                acc_fartrials[si,ri,ti,ii] = np.mean(categ_pred[inds]==categ_actual[inds])\n",
    "                \n",
    "                # middle trials\n",
    "                inds = is_middle & correct\n",
    "                                                      \n",
    "                conf_midtrials[si,ri,ti,ii] = np.mean(signedconf[inds])\n",
    "            \n",
    "                d = stats_utils.get_dprime(categ_pred[inds], categ_actual[inds])\n",
    "                dprime_midtrials[si,ri,ti,ii] = d;\n",
    "                \n",
    "                acc_midtrials[si,ri,ti,ii] = np.mean(categ_pred[inds]==categ_actual[inds])\n",
    "                \n",
    "                "
   ]
  },
  {
   "cell_type": "markdown",
   "id": "abc41888-75c0-43d2-8010-49220c7225f0",
   "metadata": {
    "tags": []
   },
   "source": [
    "#### Get confidence for nearest trials\n",
    "\n",
    "For the nearest trials, the average confidence values are generated by resampling \n",
    "the center grid trials so that the distribution of stims is more even across tasks.\n",
    "\n",
    "this is done in bootstrap_confidence.py (i saved it to disk because it takes ~10 minutes to run)\n",
    "\n",
    "can skip to next cell if it's done already"
   ]
  },
  {
   "cell_type": "code",
   "execution_count": 16,
   "id": "8892b891-d21d-4b2c-b398-80fb532f300e",
   "metadata": {},
   "outputs": [],
   "source": [
    "from multinomial_decoding import bootstrap_confidence\n",
    "# bootstrap_confidence.bootstrap_binary_hardtrials(n_boot_iter=1000)"
   ]
  },
  {
   "cell_type": "code",
   "execution_count": 7,
   "id": "7a46dd65-45d8-47f7-819a-3490c59e6f32",
   "metadata": {},
   "outputs": [
    {
     "name": "stdout",
     "output_type": "stream",
     "text": [
      "/usr/local/serenceslab/maggie/shapeDim/Analysis/decoding_results/decode_multiclass_binary_hardtrials_bootstrap_correctonly.npy\n"
     ]
    }
   ],
   "source": [
    "save_folder = os.path.join(root, 'Analysis', 'decoding_results')\n",
    "fn2load = os.path.join(save_folder, 'decode_multiclass_binary_hardtrials_bootstrap_correctonly.npy')\n",
    "print(fn2load)\n",
    "b = np.load(fn2load, allow_pickle=True).item()\n",
    "b.keys()\n",
    "signedconf_neartrials_boot = b['signedconf_hardtrials_boot']\n",
    "conf_neartrials = np.mean(signedconf_neartrials_boot, axis=4)"
   ]
  },
  {
   "cell_type": "code",
   "execution_count": 8,
   "id": "915da9af-7db5-4b3d-adda-270082a23e46",
   "metadata": {},
   "outputs": [],
   "source": [
    "plt.rcParams['pdf.fonttype']=42\n",
    "plot_utils.set_all_font_sizes(fs = 16)\n",
    "figfolder = os.path.join(root, 'Analysis','figures')"
   ]
  },
  {
   "cell_type": "code",
   "execution_count": 9,
   "id": "0f5bd2e3-7213-4c29-a761-1637d33a8421",
   "metadata": {},
   "outputs": [
    {
     "name": "stdout",
     "output_type": "stream",
     "text": [
      "[-0.04542350400620719, 0.7495612081475718]\n",
      "[-0.03898403468950567, 0.48325403153694135]\n",
      "[-0.3834570205272797, 0.4728628525302239]\n"
     ]
    },
    {
     "data": {
      "image/png": "[encoded data removed]",
      "text/plain": [
       "<Figure size 1296x288 with 2 Axes>"
      ]
     },
     "metadata": {
      "needs_background": "light"
     },
     "output_type": "display_data"
    },
    {
     "data": {
      "image/png": "[encoded data removed]",
      "text/plain": [
       "<Figure size 1296x288 with 2 Axes>"
      ]
     },
     "metadata": {
      "needs_background": "light"
     },
     "output_type": "display_data"
    },
    {
     "data": {
      "image/png": "[encoded data removed]",
      "text/plain": [
       "<Figure size 1296x288 with 2 Axes>"
      ]
     },
     "metadata": {
      "needs_background": "light"
     },
     "output_type": "display_data"
    }
   ],
   "source": [
    "ti_plot = [0,1]\n",
    "\n",
    "x_jitter = np.linspace(-0.15, 0.15,2)\n",
    "\n",
    "for rvals, name in zip([conf_fartrials, conf_midtrials, conf_neartrials], \\\n",
    "                     ['far','middle','near']):    \n",
    "    \n",
    "    print([np.min(rvals.ravel()),np.max(rvals.ravel())])\n",
    "    plt.figure(figsize=(18,4))\n",
    "\n",
    "    for ii, axis_name in enumerate(['axis 1 (x)','axis 2 (y)']):\n",
    "\n",
    "        ax = plt.subplot(1,2,ii+1)\n",
    "\n",
    "        plt.axhline(0, color=[0.8, 0.8, 0.8])\n",
    "\n",
    "        lh = []\n",
    "\n",
    "        for ti in ti_plot:\n",
    "\n",
    "            x_ticks = np.arange(n_rois) + x_jitter[ti]\n",
    "\n",
    "            vals = rvals[:,:,ti,ii]\n",
    "            meanvals = np.mean(vals, axis=0)\n",
    "            semvals = np.std(vals, axis=0)/np.sqrt(n_subjects)\n",
    "\n",
    "            plt.plot(x_ticks, meanvals, 'o', color=task_colors[ti], alpha=1, \\\n",
    "                     markersize=8, \\\n",
    "                     # markerfacecolor='none', \\\n",
    "                    )\n",
    "            h = plt.errorbar(x_ticks, meanvals, semvals, xerr=None, color=task_colors[ti], linestyle='none')\n",
    "            lh.append(h)\n",
    "            \n",
    "        for ri in range(n_rois):\n",
    "            \n",
    "            meanvals = np.mean(rvals[:,ri,ti_plot,ii], axis=0)\n",
    "            plt.plot([ri+x_jitter[0], ri+x_jitter[1]], meanvals,'-',color=[0.6, 0.6, 0.6],zorder=-5)\n",
    "\n",
    "            plt.plot(ri+x_jitter, rvals[:,ri,ti_plot,ii].T, '.', color=[0.8, 0.8, 0.8], zorder=-10)\n",
    "            \n",
    "        plt.ylim([-0.40, 0.8])\n",
    "        \n",
    "        ax.spines['top'].set_visible(False)\n",
    "        ax.spines['right'].set_visible(False)\n",
    "\n",
    "        plt.xticks(np.arange(n_rois), roi_names)\n",
    "        plt.ylabel('confidence')\n",
    "\n",
    "        # plt.legend(lh,np.array(task_names)[ti_plot])\n",
    "\n",
    "        plt.title('decode %s'%axis_name)\n",
    "\n",
    "    plt.suptitle('%s'%name)\n",
    "    \n",
    "    figname = os.path.join(figfolder, 'multi_binary_%s.pdf'%(name))\n",
    "    plt.savefig(figname)\n"
   ]
  },
  {
   "cell_type": "markdown",
   "id": "fd6d9f77-fcb8-4d59-92d5-5b3ab3d88cd7",
   "metadata": {
    "tags": []
   },
   "source": [
    "#### three-way RM anova\n",
    "save result to disk bc shuffled test is very slow"
   ]
  },
  {
   "cell_type": "code",
   "execution_count": 11,
   "id": "6a50e3c2-db8a-43b8-b551-1a09ae141b07",
   "metadata": {},
   "outputs": [
    {
     "name": "stdout",
     "output_type": "stream",
     "text": [
      "/usr/local/serenceslab/maggie/shapeDim/Analysis/figures/binary_conf_lin1vs2_rm_anova_far.csv\n",
      "/usr/local/serenceslab/maggie/shapeDim/Analysis/figures/binary_conf_lin1vs2_rm_anova_middle.csv\n",
      "/usr/local/serenceslab/maggie/shapeDim/Analysis/figures/binary_conf_lin1vs2_rm_anova_near.csv\n"
     ]
    }
   ],
   "source": [
    "for xx, [cvals, diffname] in enumerate(zip([conf_fartrials, conf_midtrials, conf_neartrials], \\\n",
    "                        ['far','middle','near'])):\n",
    "\n",
    "    \n",
    "    vals = copy.deepcopy(cvals[:,:,0:2,0:2])\n",
    "\n",
    "    anova_result = stats_utils.rmanova_3way(vals, ['ROI','Task','Boundary'], \\\n",
    "                                            # do_shuffle=False)\n",
    "                                           do_shuffle=True, n_iter=10000, rndseed = 675677+xx)\n",
    "\n",
    "    anova_result['Pr > F'] = anova_result['Pr > F'].round(4)\n",
    "\n",
    "    tablename = os.path.join(figfolder, 'binary_conf_lin1vs2_rm_anova_%s.csv'%(diffname))\n",
    "    \n",
    "    print(tablename)\n",
    "    anova_result.to_csv(tablename)"
   ]
  },
  {
   "cell_type": "markdown",
   "id": "c81c0c4c-340c-478f-a31c-bb7f3dcb1099",
   "metadata": {},
   "source": [
    "#### print test results"
   ]
  },
  {
   "cell_type": "code",
   "execution_count": 10,
   "id": "40e73f7b-764e-4967-957a-1759bfb3fe67",
   "metadata": {},
   "outputs": [
    {
     "name": "stdout",
     "output_type": "stream",
     "text": [
      "\n",
      "Anova for confidence, far trials\n",
      "                     F Value  Num DF  Den DF  Pr > F  p (permutation)\n",
      "ROI                43.490356     7.0    42.0  0.0000           0.0000\n",
      "Task                0.651793     1.0     6.0  0.4503           0.4532\n",
      "Boundary           22.091703     1.0     6.0  0.0033           0.0025\n",
      "ROI:Task            0.444169     7.0    42.0  0.8685           0.8710\n",
      "ROI:Boundary       12.066132     7.0    42.0  0.0000           0.0000\n",
      "Task:Boundary       0.646886     1.0     6.0  0.4519           0.4559\n",
      "ROI:Task:Boundary   0.712959     7.0    42.0  0.6613           0.6624\n",
      "\n",
      "Anova for confidence, middle trials\n",
      "                     F Value  Num DF  Den DF  Pr > F  p (permutation)\n",
      "ROI                24.368585     7.0    42.0  0.0000           0.0000\n",
      "Task                3.098721     1.0     6.0  0.1288           0.1243\n",
      "Boundary           21.205794     1.0     6.0  0.0037           0.0036\n",
      "ROI:Task            0.211044     7.0    42.0  0.9810           0.9826\n",
      "ROI:Boundary        6.513769     7.0    42.0  0.0000           0.0000\n",
      "Task:Boundary      12.163327     1.0     6.0  0.0130           0.0120\n",
      "ROI:Task:Boundary   0.544780     7.0    42.0  0.7955           0.8048\n",
      "\n",
      "Anova for confidence, near trials\n",
      "                    F Value  Num DF  Den DF  Pr > F  p (permutation)\n",
      "ROI                4.849987     7.0    42.0  0.0005           0.0006\n",
      "Task               6.555104     1.0     6.0  0.0429           0.0437\n",
      "Boundary           0.128617     1.0     6.0  0.7322           0.7400\n",
      "ROI:Task           0.427615     7.0    42.0  0.8794           0.8951\n",
      "ROI:Boundary       1.367045     7.0    42.0  0.2444           0.2427\n",
      "Task:Boundary      6.052273     1.0     6.0  0.0491           0.0453\n",
      "ROI:Task:Boundary  2.057512     7.0    42.0  0.0699           0.0647\n"
     ]
    }
   ],
   "source": [
    "for diffname in ['far','middle','near']:\n",
    "    \n",
    "    tablename = os.path.join(figfolder, 'binary_conf_lin1vs2_rm_anova_%s.csv'%(diffname))\n",
    "    anova_result = pd.read_csv(tablename, index_col=0)\n",
    "    print('\\nAnova for confidence, %s trials'%(diffname))\n",
    "    \n",
    "    print(anova_result)"
   ]
  },
  {
   "cell_type": "markdown",
   "id": "2a8d5fd4-7110-4b0f-b695-11adcc8acb1f",
   "metadata": {},
   "source": [
    "#### two-way RM anova, within each distance bin"
   ]
  },
  {
   "cell_type": "code",
   "execution_count": 13,
   "id": "fc08a84b-8018-4d83-af78-f54719950d93",
   "metadata": {},
   "outputs": [
    {
     "name": "stdout",
     "output_type": "stream",
     "text": [
      "/usr/local/serenceslab/maggie/shapeDim/Analysis/figures/binary_conf_rm_anova_axis1_far.csv\n",
      "/usr/local/serenceslab/maggie/shapeDim/Analysis/figures/binary_conf_rm_anova_axis2_far.csv\n",
      "/usr/local/serenceslab/maggie/shapeDim/Analysis/figures/binary_conf_rm_anova_axis1_middle.csv\n",
      "/usr/local/serenceslab/maggie/shapeDim/Analysis/figures/binary_conf_rm_anova_axis2_middle.csv\n",
      "/usr/local/serenceslab/maggie/shapeDim/Analysis/figures/binary_conf_rm_anova_axis1_near.csv\n",
      "/usr/local/serenceslab/maggie/shapeDim/Analysis/figures/binary_conf_rm_anova_axis2_near.csv\n"
     ]
    }
   ],
   "source": [
    "for cvals, diffname in zip([conf_fartrials, conf_midtrials, conf_neartrials], \\\n",
    "                        ['far','middle','near']):\n",
    "\n",
    "    for ii, axis_name in enumerate(['axis1','axis2']):\n",
    "\n",
    "        vals = copy.deepcopy(cvals[:,:,0:2,ii])\n",
    "\n",
    "        anova_result = stats_utils.rmanova_2way(vals, ['ROI','Task'], \\\n",
    "                                                do_shuffle=True, n_iter=10000, rndseed = 243434+ii)\n",
    "\n",
    "        \n",
    "        anova_result['Pr > F'] = anova_result['Pr > F'].round(4)\n",
    "    \n",
    "        tablename = os.path.join(figfolder, 'binary_conf_rm_anova_%s_%s.csv'%(axis_name, diffname))\n",
    "    \n",
    "        print(tablename)\n",
    "        anova_result.to_csv(tablename)"
   ]
  },
  {
   "cell_type": "code",
   "execution_count": 11,
   "id": "d1d887f3-82bb-4a8a-896c-29f977d7acdf",
   "metadata": {},
   "outputs": [
    {
     "name": "stdout",
     "output_type": "stream",
     "text": [
      "\n",
      "Anova for axis1 confidence, far trials\n",
      "            F Value  Num DF  Den DF  Pr > F  p (permutation)\n",
      "ROI       38.498475     7.0    42.0  0.0000           0.0000\n",
      "Task       0.216006     1.0     6.0  0.6585           0.6577\n",
      "ROI:Task   0.712520     7.0    42.0  0.6616           0.6625\n",
      "\n",
      "Anova for axis2 confidence, far trials\n",
      "            F Value  Num DF  Den DF  Pr > F  p (permutation)\n",
      "ROI       43.600532     7.0    42.0  0.0000           0.0000\n",
      "Task       1.594126     1.0     6.0  0.2536           0.2489\n",
      "ROI:Task   0.246491     7.0    42.0  0.9706           0.9697\n",
      "\n",
      "Anova for axis1 confidence, middle trials\n",
      "            F Value  Num DF  Den DF  Pr > F  p (permutation)\n",
      "ROI       18.123794     7.0    42.0  0.0000           0.0000\n",
      "Task       0.103215     1.0     6.0  0.7589           0.7553\n",
      "ROI:Task   0.459153     7.0    42.0  0.8582           0.8683\n",
      "\n",
      "Anova for axis2 confidence, middle trials\n",
      "            F Value  Num DF  Den DF  Pr > F  p (permutation)\n",
      "ROI       24.931762     7.0    42.0  0.0000           0.0000\n",
      "Task      10.216725     1.0     6.0  0.0187           0.0152\n",
      "ROI:Task   0.173503     7.0    42.0  0.9893           0.9897\n",
      "\n",
      "Anova for axis1 confidence, near trials\n",
      "           F Value  Num DF  Den DF  Pr > F  p (permutation)\n",
      "ROI       3.081473     7.0    42.0  0.0103           0.0060\n",
      "Task      0.011966     1.0     6.0  0.9165           0.9231\n",
      "ROI:Task  1.115004     7.0    42.0  0.3719           0.3793\n",
      "\n",
      "Anova for axis2 confidence, near trials\n",
      "            F Value  Num DF  Den DF  Pr > F  p (permutation)\n",
      "ROI        4.716691     7.0    42.0  0.0006           0.0006\n",
      "Task      10.252808     1.0     6.0  0.0186           0.0142\n",
      "ROI:Task   1.221744     7.0    42.0  0.3125           0.3146\n"
     ]
    }
   ],
   "source": [
    "for diffname in ['far','middle','near']:\n",
    "    for axis_name in ['axis1','axis2']:\n",
    "\n",
    "        tablename = os.path.join(figfolder, 'binary_conf_rm_anova_%s_%s.csv'%(axis_name, diffname))\n",
    "        anova_result = pd.read_csv(tablename, index_col=0)\n",
    "        print('\\nAnova for %s confidence, %s trials'%(axis_name, diffname))\n",
    "        print(anova_result)"
   ]
  },
  {
   "cell_type": "code",
   "execution_count": 14,
   "id": "dee17a9b-5757-4cbc-8ac9-2c45ef0487ef",
   "metadata": {},
   "outputs": [
    {
     "name": "stdout",
     "output_type": "stream",
     "text": [
      "\n",
      "middle trials, axis 1 (x)\n",
      "      t-stat for task 1 > task 2  pvalue  n_subs_indiv\n",
      "V1                         0.023   0.983             4\n",
      "V2                        -0.178   0.854             4\n",
      "V3                         0.209   0.826             4\n",
      "V3AB                      -1.329   0.240             5\n",
      "hV4                       -0.622   0.522             6\n",
      "LO1                       -0.347   0.755             4\n",
      "LO2                        0.716   0.519             4\n",
      "IPS                        0.986   0.319             5\n",
      "\n",
      "middle trials, axis 2 (y)\n",
      "      t-stat for task 1 > task 2  pvalue  n_subs_indiv\n",
      "V1                        -2.158   0.109             5\n",
      "V2                        -0.788   0.499             4\n",
      "V3                        -0.773   0.479             4\n",
      "V3AB                      -1.083   0.359             4\n",
      "hV4                       -0.964   0.415             4\n",
      "LO1                       -1.789   0.093             5\n",
      "LO2                       -0.392   0.711             4\n",
      "IPS                       -1.525   0.167             6\n",
      "\n",
      "near trials, axis 1 (x)\n",
      "      t-stat for task 1 > task 2  pvalue  n_subs_indiv\n",
      "V1                         0.924   0.378             4\n",
      "V2                         0.912   0.424             4\n",
      "V3                         1.284   0.249             5\n",
      "V3AB                      -0.073   0.952             4\n",
      "hV4                       -0.329   0.813             4\n",
      "LO1                       -0.390   0.807             4\n",
      "LO2                       -0.907   0.504             4\n",
      "IPS                       -1.850   0.188             5\n",
      "\n",
      "near trials, axis 2 (y)\n",
      "      t-stat for task 1 > task 2  pvalue  n_subs_indiv\n",
      "V1                        -3.724   0.030             6\n",
      "V2                        -1.072   0.284             5\n",
      "V3                        -1.596   0.062             6\n",
      "V3AB                      -1.545   0.190             5\n",
      "hV4                       -1.326   0.214             4\n",
      "LO1                        0.204   0.941             5\n",
      "LO2                       -1.131   0.367             5\n",
      "IPS                       -0.537   0.605             4\n"
     ]
    }
   ],
   "source": [
    "for cvals, diffname in zip([conf_midtrials, conf_neartrials], \\\n",
    "                        ['middle','near']):\n",
    "\n",
    "    for ii, axis_name in enumerate(['axis 1 (x)','axis 2 (y)']):\n",
    "\n",
    "        vals = copy.deepcopy(cvals[:,:,0:2,ii])\n",
    "        \n",
    "        tstats_task = np.zeros((n_rois,),dtype=float)\n",
    "        pvals_task = np.zeros((n_rois,),dtype=float)\n",
    "        n_subs_samedir = np.zeros((n_rois,),dtype=int)\n",
    "\n",
    "        rndseed = 8676786\n",
    "        for rr in range(n_rois):\n",
    "\n",
    "            t1_values = vals[:,rr,0]\n",
    "            t2_values = vals[:,rr,1]\n",
    "            p, t = stats_utils.paired_ttest_nonpar(t1_values, t2_values, \\\n",
    "                                                   # n_iter=2,\n",
    "                                                   n_iter=10000, \\\n",
    "                                                   rndseed=rndseed+rr)    \n",
    "            tstats_task[rr] = t\n",
    "            pvals_task[rr] = p\n",
    "\n",
    "            subj_diffs = t1_values - t2_values\n",
    "            n_subs_samedir[rr] = np.maximum(np.sum(subj_diffs>0), np.sum(subj_diffs<0))\n",
    "\n",
    "        print('\\n%s trials, %s'%(diffname, axis_name))\n",
    "        task_df = pd.DataFrame({'t-stat for task 1 > task 2': tstats_task, \\\n",
    "                                'pvalue': pvals_task, \\\n",
    "                                'n_subs_indiv': n_subs_samedir}, \\\n",
    "                                  index=roi_names)\n",
    "        print(task_df.round(3))"
   ]
  }
 ],
 "metadata": {
  "kernelspec": {
   "display_name": "Python 3",
   "language": "python",
   "name": "python3"
  },
  "language_info": {
   "codemirror_mode": {
    "name": "ipython",
    "version": 3
   },
   "file_extension": ".py",
   "mimetype": "text/x-python",
   "name": "python",
   "nbconvert_exporter": "python",
   "pygments_lexer": "ipython3",
   "version": "3.7.10"
  }
 },
 "nbformat": 4,
 "nbformat_minor": 5
}
