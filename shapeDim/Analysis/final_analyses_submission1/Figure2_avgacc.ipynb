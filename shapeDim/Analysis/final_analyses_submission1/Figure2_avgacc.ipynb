{
 "cells": [
  {
   "cell_type": "code",
   "execution_count": 1,
   "id": "f32c0363-0598-489e-95ee-48129d8faaee",
   "metadata": {},
   "outputs": [],
   "source": [
    "import numpy as np\n",
    "import matplotlib.pyplot as plt\n",
    "from matplotlib import cm\n",
    "import os, sys\n",
    "import pandas as pd\n",
    "\n",
    "root = '/usr/local/serenceslab/maggie/shapeDim/'\n",
    "\n",
    "sys.path.append(os.path.join(root, 'Analysis'))\n",
    "from code_utils import data_utils\n",
    "from code_utils import stats_utils, plot_utils\n"
   ]
  },
  {
   "cell_type": "code",
   "execution_count": 2,
   "id": "6818bef5-eb13-454c-8275-50e5f9e09050",
   "metadata": {},
   "outputs": [],
   "source": [
    "task_names = ['Linear (1)','Linear (2)','Checker'];\n",
    "n_tasks = len(task_names)\n",
    "task_colors = np.flipud(cm.GnBu(np.linspace(0,1,5))[2:5,:])\n",
    "# task_colors = np.flipud(cm.GnBu(np.linspace(0,1,6))[2:,:])\n",
    "\n",
    "n_subjects = 7\n",
    "subjects = np.arange(1,8)\n",
    "subcolors = cm.Dark2(np.linspace(0,1,n_subjects))"
   ]
  },
  {
   "cell_type": "code",
   "execution_count": 3,
   "id": "95d92bf0-1d7f-4e6e-b294-4824453e4c41",
   "metadata": {},
   "outputs": [],
   "source": [
    "# the original decoding analysis includes a fourth task (one-back or repeat detection)\n",
    "# but we aren't going to look at those results here\n",
    "tasks_use = np.array([0,1,2])"
   ]
  },
  {
   "cell_type": "code",
   "execution_count": 4,
   "id": "86857e75-c296-4b31-bb04-5e6f4d007c4f",
   "metadata": {},
   "outputs": [
    {
     "data": {
      "text/plain": [
       "array([[0.03137255, 0.25098039, 0.50588235, 1.        ],\n",
       "       [0.16539792, 0.54569781, 0.74343714, 1.        ],\n",
       "       [0.47958478, 0.79846213, 0.76955017, 1.        ]])"
      ]
     },
     "execution_count": 4,
     "metadata": {},
     "output_type": "execute_result"
    }
   ],
   "source": [
    "task_colors"
   ]
  },
  {
   "cell_type": "code",
   "execution_count": 7,
   "id": "cbc90403-db27-41f6-9729-69d6372277ec",
   "metadata": {},
   "outputs": [
    {
     "name": "stdout",
     "output_type": "stream",
     "text": [
      "/usr/local/serenceslab/maggie/shapeDim/Analysis/decoding_results/decode_multiclass_withintask.npy\n"
     ]
    },
    {
     "data": {
      "text/plain": [
       "dict_keys(['acc_bytask', 'dprime_bytask', 'preds_all', 'probs_all', 'acc_each_cval', 'best_cval', 'grid_pts', 'roi_names'])"
      ]
     },
     "execution_count": 7,
     "metadata": {},
     "output_type": "execute_result"
    }
   ],
   "source": [
    "save_folder = os.path.join(root, 'Analysis', 'decoding_results')\n",
    "save_filename = os.path.join(save_folder, 'decode_multiclass_withintask.npy')\n",
    "\n",
    "print(save_filename)\n",
    "\n",
    "dec_withintask = np.load(save_filename, allow_pickle=True).item()\n",
    "dec_withintask.keys()"
   ]
  },
  {
   "cell_type": "code",
   "execution_count": 8,
   "id": "15cd609b-ece9-43de-8139-179ed8d0ccab",
   "metadata": {},
   "outputs": [
    {
     "data": {
      "text/plain": [
       "0.023357214690901212"
      ]
     },
     "execution_count": 8,
     "metadata": {},
     "output_type": "execute_result"
    }
   ],
   "source": [
    "np.nanmedian(dec_withintask['best_cval'].ravel())"
   ]
  },
  {
   "cell_type": "code",
   "execution_count": 9,
   "id": "ba95d274-3f42-4910-9419-ab3bf9dc451b",
   "metadata": {},
   "outputs": [
    {
     "name": "stdout",
     "output_type": "stream",
     "text": [
      "/usr/local/serenceslab/maggie/shapeDim/Analysis/decoding_results/decode_multiclass_withintask_permutationtest.npy\n"
     ]
    }
   ],
   "source": [
    "save_filename = os.path.join(save_folder, 'decode_multiclass_withintask_permutationtest.npy')\n",
    "\n",
    "print(save_filename)\n",
    "\n",
    "dec_withintask_shuff = np.load(save_filename, allow_pickle=True).item()\n",
    "\n",
    "n_iter = dec_withintask_shuff['acc_bytask'].shape[3]"
   ]
  },
  {
   "cell_type": "code",
   "execution_count": 10,
   "id": "ba6f8a39-a29f-417d-ad4b-f5778749cfea",
   "metadata": {},
   "outputs": [
    {
     "data": {
      "text/plain": [
       "<matplotlib.lines.Line2D at 0x7f1baf4e0350>"
      ]
     },
     "execution_count": 10,
     "metadata": {},
     "output_type": "execute_result"
    },
    {
     "data": {
      "image/png": "[encoded data removed]",
      "text/plain": [
       "<Figure size 432x288 with 1 Axes>"
      ]
     },
     "metadata": {
      "needs_background": "light"
     },
     "output_type": "display_data"
    },
    {
     "data": {
      "image/png": "[encoded data removed]",
      "text/plain": [
       "<Figure size 432x288 with 1 Axes>"
      ]
     },
     "metadata": {
      "needs_background": "light"
     },
     "output_type": "display_data"
    }
   ],
   "source": [
    "# double checking the permuted values\n",
    "plt.figure()\n",
    "shuffvals = dec_withintask_shuff['acc_bytask']\n",
    "plt.hist(shuffvals.ravel())\n",
    "plt.axvline(1/16, color='k')\n",
    "\n",
    "# and real values\n",
    "plt.figure()\n",
    "realvals = dec_withintask['acc_bytask']\n",
    "plt.hist(realvals.ravel())\n",
    "plt.axvline(1/16, color='k')\n"
   ]
  },
  {
   "cell_type": "code",
   "execution_count": 11,
   "id": "e668ea11-632b-4ae5-8e9e-c52271eae4fb",
   "metadata": {},
   "outputs": [],
   "source": [
    "roi_names = dec_withintask['roi_names']\n",
    "roi_names[-1] = 'IPS'\n",
    "n_rois = len(roi_names)"
   ]
  },
  {
   "cell_type": "markdown",
   "id": "d67e5429-9b5d-456d-9b0d-57821f8abace",
   "metadata": {},
   "source": [
    "#### compute p-values for decoding accuracy."
   ]
  },
  {
   "cell_type": "code",
   "execution_count": 12,
   "id": "de0d3574-7725-4f80-815f-31ab5cab5299",
   "metadata": {},
   "outputs": [],
   "source": [
    "# first for single subjects\n",
    "p_onetailed_ss = np.mean(dec_withintask_shuff['acc_bytask'] >= \\\n",
    "                           np.tile(dec_withintask['acc_bytask'][:,:,:,None], [1,1,1,n_iter]), \\\n",
    "                          axis=3)\n",
    "p_onetailed_ss = p_onetailed_ss[:,:,tasks_use]\n",
    "\n",
    "# fdr correction\n",
    "_, p_onetailed_ss_fdr = stats_utils.fdr_keepshape(p_onetailed_ss, alpha=0.01, \\\n",
    "                                                       method='poscorr')\n",
    "# count how many subjects were significant individually\n",
    "n_subs_sig = np.sum(p_onetailed_ss_fdr<0.01, axis=0)\n",
    "\n",
    "# then for the subject-averaged accuracy values\n",
    "# average within iterations first, then compute p-value\n",
    "sub_avg_shuff = np.mean(dec_withintask_shuff['acc_bytask'], axis=0)\n",
    "sub_avg_real = np.mean(dec_withintask['acc_bytask'], axis=0)\n",
    "\n",
    "p_onetailed_subavg = np.mean(sub_avg_shuff >= \\\n",
    "                         np.tile(sub_avg_real[:,:,None], [1,1,n_iter]), \\\n",
    "                          axis=2)\n",
    "p_onetailed_subavg = p_onetailed_subavg[:,tasks_use]\n",
    "\n",
    "# fdr correction\n",
    "_, p_onetailed_subavg_fdr = stats_utils.fdr_keepshape(p_onetailed_subavg, alpha=0.01, \\\n",
    "                                                       method='poscorr')"
   ]
  },
  {
   "cell_type": "markdown",
   "id": "d0858737-879f-428f-9dcf-98e409097596",
   "metadata": {},
   "source": [
    "#### make a table of significance tests"
   ]
  },
  {
   "cell_type": "code",
   "execution_count": 13,
   "id": "f539c35c-cd08-447a-9fe9-bf4a2d288760",
   "metadata": {},
   "outputs": [
    {
     "data": {
      "text/html": [
       "<div>\n",
       "<style scoped>\n",
       "    .dataframe tbody tr th:only-of-type {\n",
       "        vertical-align: middle;\n",
       "    }\n",
       "\n",
       "    .dataframe tbody tr th {\n",
       "        vertical-align: top;\n",
       "    }\n",
       "\n",
       "    .dataframe thead th {\n",
       "        text-align: right;\n",
       "    }\n",
       "</style>\n",
       "<table border=\"1\" class=\"dataframe\">\n",
       "  <thead>\n",
       "    <tr style=\"text-align: right;\">\n",
       "      <th></th>\n",
       "      <th>Linear (1): mean acc</th>\n",
       "      <th>Linear (1): p-value</th>\n",
       "      <th>Linear (1): n subs sig</th>\n",
       "      <th>Linear (2): mean acc</th>\n",
       "      <th>Linear (2): p-value</th>\n",
       "      <th>Linear (2): n subs sig</th>\n",
       "      <th>Checker: mean acc</th>\n",
       "      <th>Checker: p-value</th>\n",
       "      <th>Checker: n subs sig</th>\n",
       "    </tr>\n",
       "  </thead>\n",
       "  <tbody>\n",
       "    <tr>\n",
       "      <th>V1</th>\n",
       "      <td>0.247619</td>\n",
       "      <td>0.0</td>\n",
       "      <td>7</td>\n",
       "      <td>0.260789</td>\n",
       "      <td>0.0</td>\n",
       "      <td>7</td>\n",
       "      <td>0.228186</td>\n",
       "      <td>0.0</td>\n",
       "      <td>7</td>\n",
       "    </tr>\n",
       "    <tr>\n",
       "      <th>V2</th>\n",
       "      <td>0.279167</td>\n",
       "      <td>0.0</td>\n",
       "      <td>7</td>\n",
       "      <td>0.300595</td>\n",
       "      <td>0.0</td>\n",
       "      <td>7</td>\n",
       "      <td>0.252367</td>\n",
       "      <td>0.0</td>\n",
       "      <td>7</td>\n",
       "    </tr>\n",
       "    <tr>\n",
       "      <th>V3</th>\n",
       "      <td>0.229241</td>\n",
       "      <td>0.0</td>\n",
       "      <td>7</td>\n",
       "      <td>0.225074</td>\n",
       "      <td>0.0</td>\n",
       "      <td>7</td>\n",
       "      <td>0.209821</td>\n",
       "      <td>0.0</td>\n",
       "      <td>7</td>\n",
       "    </tr>\n",
       "    <tr>\n",
       "      <th>V3AB</th>\n",
       "      <td>0.148363</td>\n",
       "      <td>0.0</td>\n",
       "      <td>6</td>\n",
       "      <td>0.145461</td>\n",
       "      <td>0.0</td>\n",
       "      <td>7</td>\n",
       "      <td>0.126319</td>\n",
       "      <td>0.0</td>\n",
       "      <td>6</td>\n",
       "    </tr>\n",
       "    <tr>\n",
       "      <th>hV4</th>\n",
       "      <td>0.103423</td>\n",
       "      <td>0.0</td>\n",
       "      <td>5</td>\n",
       "      <td>0.103795</td>\n",
       "      <td>0.0</td>\n",
       "      <td>4</td>\n",
       "      <td>0.096253</td>\n",
       "      <td>0.0</td>\n",
       "      <td>4</td>\n",
       "    </tr>\n",
       "    <tr>\n",
       "      <th>LO1</th>\n",
       "      <td>0.111905</td>\n",
       "      <td>0.0</td>\n",
       "      <td>5</td>\n",
       "      <td>0.127232</td>\n",
       "      <td>0.0</td>\n",
       "      <td>5</td>\n",
       "      <td>0.119859</td>\n",
       "      <td>0.0</td>\n",
       "      <td>6</td>\n",
       "    </tr>\n",
       "    <tr>\n",
       "      <th>LO2</th>\n",
       "      <td>0.097247</td>\n",
       "      <td>0.0</td>\n",
       "      <td>4</td>\n",
       "      <td>0.096354</td>\n",
       "      <td>0.0</td>\n",
       "      <td>4</td>\n",
       "      <td>0.086580</td>\n",
       "      <td>0.0</td>\n",
       "      <td>1</td>\n",
       "    </tr>\n",
       "    <tr>\n",
       "      <th>IPS</th>\n",
       "      <td>0.096652</td>\n",
       "      <td>0.0</td>\n",
       "      <td>3</td>\n",
       "      <td>0.084449</td>\n",
       "      <td>0.0</td>\n",
       "      <td>2</td>\n",
       "      <td>0.098620</td>\n",
       "      <td>0.0</td>\n",
       "      <td>1</td>\n",
       "    </tr>\n",
       "  </tbody>\n",
       "</table>\n",
       "</div>"
      ],
      "text/plain": [
       "      Linear (1): mean acc  Linear (1): p-value  Linear (1): n subs sig  \\\n",
       "V1                0.247619                  0.0                       7   \n",
       "V2                0.279167                  0.0                       7   \n",
       "V3                0.229241                  0.0                       7   \n",
       "V3AB              0.148363                  0.0                       6   \n",
       "hV4               0.103423                  0.0                       5   \n",
       "LO1               0.111905                  0.0                       5   \n",
       "LO2               0.097247                  0.0                       4   \n",
       "IPS               0.096652                  0.0                       3   \n",
       "\n",
       "      Linear (2): mean acc  Linear (2): p-value  Linear (2): n subs sig  \\\n",
       "V1                0.260789                  0.0                       7   \n",
       "V2                0.300595                  0.0                       7   \n",
       "V3                0.225074                  0.0                       7   \n",
       "V3AB              0.145461                  0.0                       7   \n",
       "hV4               0.103795                  0.0                       4   \n",
       "LO1               0.127232                  0.0                       5   \n",
       "LO2               0.096354                  0.0                       4   \n",
       "IPS               0.084449                  0.0                       2   \n",
       "\n",
       "      Checker: mean acc  Checker: p-value  Checker: n subs sig  \n",
       "V1             0.228186               0.0                    7  \n",
       "V2             0.252367               0.0                    7  \n",
       "V3             0.209821               0.0                    7  \n",
       "V3AB           0.126319               0.0                    6  \n",
       "hV4            0.096253               0.0                    4  \n",
       "LO1            0.119859               0.0                    6  \n",
       "LO2            0.086580               0.0                    1  \n",
       "IPS            0.098620               0.0                    1  "
      ]
     },
     "execution_count": 13,
     "metadata": {},
     "output_type": "execute_result"
    }
   ],
   "source": [
    "d = pd.DataFrame([], index=roi_names)\n",
    "\n",
    "for ti in tasks_use:\n",
    "    \n",
    "    vals = dec_withintask['acc_bytask'][:,:,ti]\n",
    "    meanvals = np.mean(vals, axis=0)\n",
    "    \n",
    "    d['%s: mean acc'%(task_names[ti])] = meanvals\n",
    "    d['%s: p-value'%(task_names[ti])] = p_onetailed_subavg_fdr[:,ti]\n",
    "    d['%s: n subs sig'%(task_names[ti])] = n_subs_sig[:,ti]\n",
    "    \n",
    "\n",
    "d"
   ]
  },
  {
   "cell_type": "code",
   "execution_count": 14,
   "id": "ccc9822e-f57c-43de-835b-41b564f09946",
   "metadata": {},
   "outputs": [],
   "source": [
    "plt.rcParams['pdf.fonttype']=42\n",
    "plot_utils.set_all_font_sizes(fs = 16)\n",
    "figfolder = os.path.join(root, 'Analysis','figures')"
   ]
  },
  {
   "cell_type": "markdown",
   "id": "389dbabe-f24a-4885-8f31-8f46fcd3b83f",
   "metadata": {
    "tags": []
   },
   "source": [
    "#### Overall accuracy of the 16-way classifier"
   ]
  },
  {
   "cell_type": "code",
   "execution_count": 15,
   "id": "531c5c90-91f5-43af-9b88-9bbe1c654f1d",
   "metadata": {},
   "outputs": [
    {
     "data": {
      "image/png": "[encoded data removed]",
      "text/plain": [
       "<Figure size 648x288 with 1 Axes>"
      ]
     },
     "metadata": {
      "needs_background": "light"
     },
     "output_type": "display_data"
    }
   ],
   "source": [
    "ti_plot = tasks_use\n",
    "\n",
    "x_jitter = np.linspace(-0.2, 0.2, 3)\n",
    "\n",
    "plt.figure(figsize=(9,4))\n",
    "\n",
    "ax = plt.subplot(1,1,1)\n",
    "\n",
    "plt.axhline(1/16, color=[0.6, 0.6, 0.6])\n",
    "\n",
    "lh = []\n",
    "\n",
    "for ti in ti_plot:\n",
    "\n",
    "    x_ticks = np.arange(n_rois) + x_jitter[ti]\n",
    "\n",
    "    vals = dec_withintask['acc_bytask'][:,:,ti]\n",
    "    meanvals = np.mean(vals, axis=0)\n",
    "    semvals = np.std(vals, axis=0)/np.sqrt(n_subjects-1)\n",
    "\n",
    "    plt.plot(x_ticks, meanvals, 'o', color=task_colors[ti], markersize=8, zorder=10)\n",
    "    h = plt.errorbar(x_ticks, meanvals, semvals, xerr=None, color=task_colors[ti], \\\n",
    "                     linestyle='none', zorder=10)\n",
    "    lh.append(h)\n",
    "\n",
    "    plt.plot(x_ticks, vals.T, '.', color=[0.8, 0.8, 0.8], zorder=-10)\n",
    "    \n",
    "plt.ylim([0, 0.5])\n",
    "\n",
    "plt.xticks(np.arange(n_rois), roi_names)\n",
    "plt.ylabel('Classifier accuracy')\n",
    "\n",
    "ax.spines['top'].set_visible(False)\n",
    "ax.spines['right'].set_visible(False)\n",
    "\n",
    "plt.legend(lh,np.array(task_names)[ti_plot])\n",
    "\n",
    "# plt.title('16-way logistic regression classifier, overall acc')\n",
    "\n",
    "figname = os.path.join(figfolder, 'multinomial_avg_categtasks.pdf')\n",
    "plt.savefig(figname)"
   ]
  },
  {
   "cell_type": "code",
   "execution_count": 16,
   "id": "a7c011d2-1ba5-413c-bb00-87d108743b57",
   "metadata": {},
   "outputs": [
    {
     "data": {
      "text/html": [
       "<div>\n",
       "<style scoped>\n",
       "    .dataframe tbody tr th:only-of-type {\n",
       "        vertical-align: middle;\n",
       "    }\n",
       "\n",
       "    .dataframe tbody tr th {\n",
       "        vertical-align: top;\n",
       "    }\n",
       "\n",
       "    .dataframe thead th {\n",
       "        text-align: right;\n",
       "    }\n",
       "</style>\n",
       "<table border=\"1\" class=\"dataframe\">\n",
       "  <thead>\n",
       "    <tr style=\"text-align: right;\">\n",
       "      <th></th>\n",
       "      <th>mean acc</th>\n",
       "      <th>sem acc</th>\n",
       "    </tr>\n",
       "  </thead>\n",
       "  <tbody>\n",
       "    <tr>\n",
       "      <th>V1</th>\n",
       "      <td>0.25</td>\n",
       "      <td>0.03</td>\n",
       "    </tr>\n",
       "    <tr>\n",
       "      <th>V2</th>\n",
       "      <td>0.28</td>\n",
       "      <td>0.03</td>\n",
       "    </tr>\n",
       "    <tr>\n",
       "      <th>V3</th>\n",
       "      <td>0.22</td>\n",
       "      <td>0.02</td>\n",
       "    </tr>\n",
       "    <tr>\n",
       "      <th>V3AB</th>\n",
       "      <td>0.14</td>\n",
       "      <td>0.01</td>\n",
       "    </tr>\n",
       "    <tr>\n",
       "      <th>hV4</th>\n",
       "      <td>0.10</td>\n",
       "      <td>0.01</td>\n",
       "    </tr>\n",
       "    <tr>\n",
       "      <th>LO1</th>\n",
       "      <td>0.12</td>\n",
       "      <td>0.01</td>\n",
       "    </tr>\n",
       "    <tr>\n",
       "      <th>LO2</th>\n",
       "      <td>0.09</td>\n",
       "      <td>0.01</td>\n",
       "    </tr>\n",
       "    <tr>\n",
       "      <th>IPS</th>\n",
       "      <td>0.09</td>\n",
       "      <td>0.00</td>\n",
       "    </tr>\n",
       "  </tbody>\n",
       "</table>\n",
       "</div>"
      ],
      "text/plain": [
       "      mean acc  sem acc\n",
       "V1        0.25     0.03\n",
       "V2        0.28     0.03\n",
       "V3        0.22     0.02\n",
       "V3AB      0.14     0.01\n",
       "hV4       0.10     0.01\n",
       "LO1       0.12     0.01\n",
       "LO2       0.09     0.01\n",
       "IPS       0.09     0.00"
      ]
     },
     "execution_count": 16,
     "metadata": {},
     "output_type": "execute_result"
    }
   ],
   "source": [
    "vals = dec_withintask['acc_bytask'][:,:,tasks_use]\n",
    "vals = np.mean(vals, axis=2)\n",
    "mvals = np.mean(vals, axis=0)\n",
    "svals = np.std(vals, axis=0)/np.sqrt(n_subjects)\n",
    "\n",
    "pd.DataFrame({'mean acc': mvals, \\\n",
    "              'sem acc': svals, }, \\\n",
    "             index=roi_names).round(2)\n"
   ]
  },
  {
   "cell_type": "code",
   "execution_count": 17,
   "id": "5e3102e8-b08a-4541-a927-e11435c700d2",
   "metadata": {},
   "outputs": [
    {
     "data": {
      "text/html": [
       "<div>\n",
       "<style scoped>\n",
       "    .dataframe tbody tr th:only-of-type {\n",
       "        vertical-align: middle;\n",
       "    }\n",
       "\n",
       "    .dataframe tbody tr th {\n",
       "        vertical-align: top;\n",
       "    }\n",
       "\n",
       "    .dataframe thead th {\n",
       "        text-align: right;\n",
       "    }\n",
       "</style>\n",
       "<table border=\"1\" class=\"dataframe\">\n",
       "  <thead>\n",
       "    <tr style=\"text-align: right;\">\n",
       "      <th></th>\n",
       "      <th>F Value</th>\n",
       "      <th>Num DF</th>\n",
       "      <th>Den DF</th>\n",
       "      <th>Pr &gt; F</th>\n",
       "      <th>p (permutation)</th>\n",
       "    </tr>\n",
       "  </thead>\n",
       "  <tbody>\n",
       "    <tr>\n",
       "      <th>ROI</th>\n",
       "      <td>27.379472</td>\n",
       "      <td>7.0</td>\n",
       "      <td>42.0</td>\n",
       "      <td>1.033294e-13</td>\n",
       "      <td>0.0000</td>\n",
       "    </tr>\n",
       "    <tr>\n",
       "      <th>task</th>\n",
       "      <td>1.328355</td>\n",
       "      <td>2.0</td>\n",
       "      <td>12.0</td>\n",
       "      <td>3.012093e-01</td>\n",
       "      <td>0.3077</td>\n",
       "    </tr>\n",
       "    <tr>\n",
       "      <th>ROI:task</th>\n",
       "      <td>2.007644</td>\n",
       "      <td>14.0</td>\n",
       "      <td>84.0</td>\n",
       "      <td>2.657685e-02</td>\n",
       "      <td>0.0227</td>\n",
       "    </tr>\n",
       "  </tbody>\n",
       "</table>\n",
       "</div>"
      ],
      "text/plain": [
       "            F Value  Num DF  Den DF        Pr > F  p (permutation)\n",
       "ROI       27.379472     7.0    42.0  1.033294e-13           0.0000\n",
       "task       1.328355     2.0    12.0  3.012093e-01           0.3077\n",
       "ROI:task   2.007644    14.0    84.0  2.657685e-02           0.0227"
      ]
     },
     "execution_count": 17,
     "metadata": {},
     "output_type": "execute_result"
    }
   ],
   "source": [
    "vals = dec_withintask['acc_bytask'][:,:,tasks_use]\n",
    "\n",
    "stats_utils.rmanova_2way(vals,['ROI','task'], do_shuffle=True, n_iter=10000, rndseed=968878)"
   ]
  }
 ],
 "metadata": {
  "kernelspec": {
   "display_name": "Python 3",
   "language": "python",
   "name": "python3"
  },
  "language_info": {
   "codemirror_mode": {
    "name": "ipython",
    "version": 3
   },
   "file_extension": ".py",
   "mimetype": "text/x-python",
   "name": "python",
   "nbconvert_exporter": "python",
   "pygments_lexer": "ipython3",
   "version": "3.7.10"
  }
 },
 "nbformat": 4,
 "nbformat_minor": 5
}
