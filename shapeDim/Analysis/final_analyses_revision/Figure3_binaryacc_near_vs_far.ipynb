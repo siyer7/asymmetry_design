{
 "cells": [
  {
   "cell_type": "code",
   "execution_count": 1,
   "id": "fa20586a-cc1d-41ef-b51c-e704c54814b9",
   "metadata": {},
   "outputs": [],
   "source": [
    "import numpy as np\n",
    "import matplotlib.pyplot as plt\n",
    "from matplotlib import cm\n",
    "import os, sys\n",
    "import pandas as pd\n",
    "import sklearn\n",
    "import sklearn.svm, sklearn.discriminant_analysis\n",
    "import time\n",
    "import scipy.stats\n",
    "import copy\n",
    "import statsmodels\n",
    "from statsmodels.stats.anova import AnovaRM\n",
    "\n",
    "root = '/usr/local/serenceslab/maggie/shapeDim/'\n",
    "sys.path.append(os.path.join(root, 'Analysis'))\n",
    "from code_utils import file_utils, data_utils, plot_utils, stats_utils, grid_utils"
   ]
  },
  {
   "cell_type": "code",
   "execution_count": 2,
   "id": "fdf19b84-75ac-44f3-be02-54ff71e34519",
   "metadata": {},
   "outputs": [],
   "source": [
    "plt.rcParams['pdf.fonttype']=42\n",
    "plot_utils.set_all_font_sizes(fs = 12)\n",
    "figfolder = os.path.join(root, 'Analysis','figures')"
   ]
  },
  {
   "cell_type": "code",
   "execution_count": 3,
   "id": "5b92fcb6-c2b4-445b-9718-6ae7fc296d7c",
   "metadata": {},
   "outputs": [],
   "source": [
    "task_names = ['Linear (1)','Linear (2)','Checker', 'Repeat'];\n",
    "n_tasks = len(task_names)\n",
    "task_colors = np.flipud(cm.GnBu(np.linspace(0,1,5))[1:,:])\n",
    "\n",
    "n_subjects = 10\n",
    "subjects = np.arange(1,11)\n",
    "subcolors = cm.Dark2(np.linspace(0,1,n_subjects))"
   ]
  },
  {
   "cell_type": "code",
   "execution_count": 4,
   "id": "dca49956-1866-44f5-8e07-6a44827cdf70",
   "metadata": {},
   "outputs": [],
   "source": [
    "lab = dict()\n",
    "for ss in subjects:\n",
    "    \n",
    "    # get labels for all the trials, this subject\n",
    "    main_labels = data_utils.load_main_task_labels(ss)\n",
    "    rep_labels = data_utils.load_repeat_task_labels(ss)\n",
    "    lab[ss] = pd.concat([main_labels, rep_labels], axis=0)\n",
    "    "
   ]
  },
  {
   "cell_type": "code",
   "execution_count": 5,
   "id": "394a4e54-f79e-4de2-a8b0-c9699c20bb4f",
   "metadata": {},
   "outputs": [
    {
     "name": "stdout",
     "output_type": "stream",
     "text": [
      "/usr/local/serenceslab/maggie/shapeDim/Analysis/decoding_results/decode_binary_withintask.npy\n",
      "Wed Aug 14 23:11:22 2024\n"
     ]
    }
   ],
   "source": [
    "save_folder = os.path.join(root, 'Analysis', 'decoding_results')\n",
    "save_filename = os.path.join(save_folder, 'decode_binary_withintask.npy')\n",
    "print(save_filename)\n",
    "print(time.ctime(os.path.getmtime(save_filename)))\n",
    "dec = np.load(save_filename, allow_pickle=True).item()\n",
    "dec.keys()\n",
    "roi_names = dec['roi_names']\n",
    "n_rois = len(roi_names)"
   ]
  },
  {
   "cell_type": "code",
   "execution_count": 6,
   "id": "fbe75959-8c85-4a0a-9d44-b17f63b6f951",
   "metadata": {},
   "outputs": [
    {
     "data": {
      "text/plain": [
       "(10, 8, 4, 3)"
      ]
     },
     "execution_count": 6,
     "metadata": {},
     "output_type": "execute_result"
    }
   ],
   "source": [
    "dec['acc_bytask'].shape"
   ]
  },
  {
   "cell_type": "markdown",
   "id": "3e9fb90f-94f4-44ca-b72b-d3df3a8f2b0b",
   "metadata": {},
   "source": [
    "#### accuracy along each linear axis, in each task"
   ]
  },
  {
   "cell_type": "code",
   "execution_count": 7,
   "id": "d36c0b96-27b9-4e76-b9f1-741fdcef7103",
   "metadata": {},
   "outputs": [],
   "source": [
    "n_tasks = 4\n",
    "\n",
    "acc_fartrials = np.zeros((n_subjects, n_rois, n_tasks, 2))\n",
    "\n",
    "acc_midtrials = np.zeros((n_subjects, n_rois, n_tasks, 2))\n",
    "\n",
    "for si, ss in enumerate(subjects):\n",
    "\n",
    "    for ti, tt in enumerate([1,2,3,4]):\n",
    "        \n",
    "        l = lab[ss][lab[ss]['task']==tt]\n",
    "        \n",
    "        pt_labs = np.array([l['ptx'], l['pty']]).T\n",
    "        is_main_grid = l['is_main_grid']==1\n",
    "        \n",
    "        for ii in [0,1]:\n",
    "\n",
    "            # actual category along this axis\n",
    "            categ_actual = np.array(l['categ_task%d'%(ii+1)])\n",
    "    \n",
    "            dist_from_center = np.array(l['dist_from_bound%d'%(ii+1)]).round(1)\n",
    "            \n",
    "            # separate near (i.e. middle) and far trials\n",
    "            # these are all in main grid, different distances from boundary.\n",
    "            is_far = (dist_from_center==2.4) & is_main_grid\n",
    "            is_middle = (dist_from_center==0.8) & is_main_grid\n",
    "           \n",
    "            is_correct = np.array(l['subject_correct'])\n",
    "            \n",
    "            for ri in range(n_rois):\n",
    "\n",
    "                # switching categs here so that 1=coord<center, 2=coord>center\n",
    "                categ_pred = 3-dec['preds_all'][si][ri][ti][ii].astype(int)\n",
    "             \n",
    "                # easy trials\n",
    "                inds = is_far & is_correct\n",
    "                \n",
    "                acc_fartrials[si,ri,ti,ii] = np.mean(categ_pred[inds]==categ_actual[inds])\n",
    "                \n",
    "                # medium trials\n",
    "                inds = is_middle & is_correct\n",
    "                \n",
    "                acc_midtrials[si,ri,ti,ii] = np.mean(categ_pred[inds]==categ_actual[inds])\n",
    "                "
   ]
  },
  {
   "cell_type": "code",
   "execution_count": 8,
   "id": "5008ff8d-9999-4227-9120-ff5e4c6292b8",
   "metadata": {},
   "outputs": [],
   "source": [
    "plt.rcParams['pdf.fonttype']=42\n",
    "plot_utils.set_all_font_sizes(fs = 16)\n",
    "figfolder = os.path.join(root, 'Analysis','figures')"
   ]
  },
  {
   "cell_type": "code",
   "execution_count": 9,
   "id": "77589872-a157-4194-8492-222254f4dd0c",
   "metadata": {},
   "outputs": [
    {
     "name": "stdout",
     "output_type": "stream",
     "text": [
      "/usr/local/serenceslab/maggie/shapeDim/Analysis/figures/binary_acc_Far.pdf\n",
      "/usr/local/serenceslab/maggie/shapeDim/Analysis/figures/binary_acc_Near.pdf\n"
     ]
    },
    {
     "data": {
      "image/png": "[encoded data removed]",
      "text/plain": [
       "<Figure size 1296x288 with 2 Axes>"
      ]
     },
     "metadata": {
      "needs_background": "light"
     },
     "output_type": "display_data"
    },
    {
     "data": {
      "image/png": "[encoded data removed]",
      "text/plain": [
       "<Figure size 1296x288 with 2 Axes>"
      ]
     },
     "metadata": {
      "needs_background": "light"
     },
     "output_type": "display_data"
    }
   ],
   "source": [
    "ti_plot = [0,1]\n",
    "\n",
    "x_jitter = np.linspace(-0.15, 0.15, 2)\n",
    "\n",
    "    \n",
    "for avals, name in zip([acc_fartrials, acc_midtrials], \\\n",
    "                     ['Far','Near']):\n",
    "    \n",
    "    plt.figure(figsize=(18,4))\n",
    "    \n",
    "    # rvals = rvals[0:7]\n",
    "\n",
    "    for ii, axis_name in enumerate(['axis 1 (x)','axis 2 (y)']):\n",
    "\n",
    "        ax = plt.subplot(1,2,ii+1)\n",
    "\n",
    "        plt.axhline(1/2, color=[0.8, 0.8, 0.8])\n",
    "\n",
    "        lh = []\n",
    "\n",
    "        for ti in ti_plot:\n",
    "\n",
    "            x_ticks = np.arange(n_rois) + x_jitter[ti]\n",
    "\n",
    "            vals = avals[:,:,ti,ii]\n",
    "            meanvals = np.mean(vals, axis=0)\n",
    "            semvals = np.std(vals, axis=0)/np.sqrt(n_subjects-1)\n",
    "\n",
    "            plt.plot(x_ticks, meanvals, 'o', color=task_colors[ti], markersize=8, zorder=10)\n",
    "            h = plt.errorbar(x_ticks, meanvals, semvals, xerr=None, color=task_colors[ti], \\\n",
    "                             linestyle='none', zorder=10)\n",
    "            lh.append(h)\n",
    "            \n",
    "        for ri in range(n_rois):\n",
    "            \n",
    "            meanvals = np.mean(avals[:,ri,ti_plot,ii], axis=0)\n",
    "            plt.plot([ri+x_jitter[0], ri+x_jitter[1]], meanvals,'-',color=[0.6, 0.6, 0.6])\n",
    "\n",
    "            plt.plot(ri+x_jitter, avals[:,ri,ti_plot,ii].T, '.', color=[0.8, 0.8, 0.8], zorder=-10)\n",
    "            \n",
    "        plt.ylim([0.4, 1.0])\n",
    "\n",
    "        plt.xticks(np.arange(n_rois), roi_names)\n",
    "        plt.ylabel('Classifier accuracy')\n",
    "\n",
    "        # plt.legend(lh,np.array(task_names)[ti_plot])\n",
    "\n",
    "        plt.title('decode %s'%axis_name)\n",
    "\n",
    "        ax.spines['top'].set_visible(False)\n",
    "        ax.spines['right'].set_visible(False)\n",
    "    \n",
    "    plt.suptitle('binary classifier accuracy - %s'%name)\n",
    "    \n",
    "    figname = os.path.join(figfolder, 'binary_acc_%s.pdf'%(name))\n",
    "    print(figname)\n",
    "    plt.savefig(figname)\n",
    "# \n"
   ]
  },
  {
   "cell_type": "code",
   "execution_count": 10,
   "id": "1e63501b-740f-4c56-8071-d199b7f71b3a",
   "metadata": {},
   "outputs": [
    {
     "data": {
      "text/plain": [
       "0.4344262295081967"
      ]
     },
     "execution_count": 10,
     "metadata": {},
     "output_type": "execute_result"
    }
   ],
   "source": [
    "np.min(avals)"
   ]
  },
  {
   "cell_type": "code",
   "execution_count": 11,
   "id": "128d04a1-3f27-4a64-870e-a1993d7f21f3",
   "metadata": {},
   "outputs": [
    {
     "data": {
      "text/plain": [
       "1.0"
      ]
     },
     "execution_count": 11,
     "metadata": {},
     "output_type": "execute_result"
    }
   ],
   "source": [
    "np.max(acc_fartrials)"
   ]
  },
  {
   "cell_type": "code",
   "execution_count": 13,
   "id": "63b2dbdf-3b9a-479d-8039-6447f618a67c",
   "metadata": {},
   "outputs": [],
   "source": [
    "\n",
    "for xx, [avals, diffname] in enumerate(zip([acc_fartrials, acc_midtrials], \\\n",
    "                        ['Far','Near'])):\n",
    "\n",
    "    \n",
    "    vals = copy.deepcopy(avals[:,:,0:2,0:2])\n",
    "\n",
    "    anova_result = stats_utils.rmanova_3way(vals, ['ROI','Task','Boundary'], \\\n",
    "                                            # do_shuffle=False)\n",
    "                                           do_shuffle=True, n_iter=10000, rndseed = 423443+xx)\n",
    "\n",
    "    anova_result['Pr > F'] = anova_result['Pr > F'].round(4)\n",
    "\n",
    "    tablename = os.path.join(figfolder, 'decodebinary_binary_acc_lin1vs2_rm_anova_%s.csv'%(diffname))\n",
    "    \n",
    "    print(tablename)\n",
    "    anova_result.to_csv(tablename)"
   ]
  },
  {
   "cell_type": "code",
   "execution_count": 12,
   "id": "d4298e5d-106b-4c97-96f3-b8cb0f27c539",
   "metadata": {},
   "outputs": [
    {
     "name": "stdout",
     "output_type": "stream",
     "text": [
      "/usr/local/serenceslab/maggie/shapeDim/Analysis/figures/decodebinary_binary_acc_lin1vs2_rm_anova_Far.csv\n",
      "Thu Dec 12 08:49:58 2024\n",
      "\n",
      "Anova for accuracy, Far trials\n",
      "                      F Value  Num DF  Den DF  Pr > F  p (permutation)\n",
      "ROI                100.805491     7.0    63.0  0.0000           0.0000\n",
      "Task                 2.914899     1.0     9.0  0.1219           0.1217\n",
      "Boundary            40.458370     1.0     9.0  0.0001           0.0003\n",
      "ROI:Task             2.610681     7.0    63.0  0.0197           0.0205\n",
      "ROI:Boundary         3.695309     7.0    63.0  0.0021           0.0016\n",
      "Task:Boundary        0.348788     1.0     9.0  0.5693           0.5659\n",
      "ROI:Task:Boundary    1.544911     7.0    63.0  0.1687           0.1727\n",
      "/usr/local/serenceslab/maggie/shapeDim/Analysis/figures/decodebinary_binary_acc_lin1vs2_rm_anova_Near.csv\n",
      "Thu Dec 12 09:00:49 2024\n",
      "\n",
      "Anova for accuracy, Near trials\n",
      "                     F Value  Num DF  Den DF  Pr > F  p (permutation)\n",
      "ROI                65.532968     7.0    63.0  0.0000           0.0000\n",
      "Task                5.372712     1.0     9.0  0.0456           0.0438\n",
      "Boundary            9.331390     1.0     9.0  0.0137           0.0135\n",
      "ROI:Task            0.456054     7.0    63.0  0.8624           0.8639\n",
      "ROI:Boundary        3.476841     7.0    63.0  0.0033           0.0020\n",
      "Task:Boundary       8.994438     1.0     9.0  0.0150           0.0113\n",
      "ROI:Task:Boundary   1.212333     7.0    63.0  0.3094           0.3065\n"
     ]
    }
   ],
   "source": [
    "for diffname in ['Far','Near']:\n",
    "    \n",
    "    tablename = os.path.join(figfolder, 'decodebinary_binary_acc_lin1vs2_rm_anova_%s.csv'%(diffname))\n",
    "    print(tablename)\n",
    "    print(time.ctime(os.path.getmtime(tablename)))\n",
    "    anova_result = pd.read_csv(tablename, index_col=0)\n",
    "    print('\\nAnova for accuracy, %s trials'%(diffname))\n",
    "    \n",
    "    print(anova_result)"
   ]
  },
  {
   "cell_type": "code",
   "execution_count": 11,
   "id": "6eb84362-0b77-4c6d-b2e7-bb551bf64fe8",
   "metadata": {},
   "outputs": [
    {
     "name": "stdout",
     "output_type": "stream",
     "text": [
      "/usr/local/serenceslab/maggie/shapeDim/Analysis/figures/decodebinary_binary_acc_rm_anova_axis1_Far.csv\n",
      "/usr/local/serenceslab/maggie/shapeDim/Analysis/figures/decodebinary_binary_acc_rm_anova_axis2_Far.csv\n",
      "/usr/local/serenceslab/maggie/shapeDim/Analysis/figures/decodebinary_binary_acc_rm_anova_axis1_Near.csv\n",
      "/usr/local/serenceslab/maggie/shapeDim/Analysis/figures/decodebinary_binary_acc_rm_anova_axis2_Near.csv\n"
     ]
    }
   ],
   "source": [
    "for avals, diffname in zip([acc_fartrials, acc_midtrials], \\\n",
    "                        ['Far','Near']):\n",
    "\n",
    "    for ii, axis_name in enumerate(['axis1','axis2']):\n",
    "\n",
    "        vals = copy.deepcopy(avals[:,:,0:2,ii])\n",
    "\n",
    "        anova_result = stats_utils.rmanova_2way(vals, ['ROI','Task'], \\\n",
    "                                                do_shuffle=False)\n",
    "                                                # do_shuffle=True, n_iter=10000, rndseed = 243434+ii)\n",
    "\n",
    "        \n",
    "        anova_result['Pr > F'] = anova_result['Pr > F'].round(4)\n",
    "    \n",
    "        tablename = os.path.join(figfolder, 'decodebinary_binary_acc_rm_anova_%s_%s.csv'%(axis_name, diffname))\n",
    "    \n",
    "        print(tablename)\n",
    "        anova_result.to_csv(tablename)"
   ]
  },
  {
   "cell_type": "code",
   "execution_count": 13,
   "id": "ec26b840-4d6d-4a03-91bc-959063d672cc",
   "metadata": {},
   "outputs": [
    {
     "name": "stdout",
     "output_type": "stream",
     "text": [
      "/usr/local/serenceslab/maggie/shapeDim/Analysis/figures/decodebinary_binary_acc_rm_anova_axis1_Far.csv\n",
      "Thu Dec 12 19:56:41 2024\n",
      "\n",
      "Anova for axis1 accuracy, Far trials\n",
      "            F Value  Num DF  Den DF  Pr > F\n",
      "ROI       74.824626     7.0    63.0  0.0000\n",
      "Task       2.757855     1.0     9.0  0.1311\n",
      "ROI:Task   3.678562     7.0    63.0  0.0022\n",
      "/usr/local/serenceslab/maggie/shapeDim/Analysis/figures/decodebinary_binary_acc_rm_anova_axis2_Far.csv\n",
      "Thu Dec 12 19:56:41 2024\n",
      "\n",
      "Anova for axis2 accuracy, Far trials\n",
      "            F Value  Num DF  Den DF  Pr > F\n",
      "ROI       75.711483     7.0    63.0  0.0000\n",
      "Task       0.594379     1.0     9.0  0.4605\n",
      "ROI:Task   0.935539     7.0    63.0  0.4858\n",
      "/usr/local/serenceslab/maggie/shapeDim/Analysis/figures/decodebinary_binary_acc_rm_anova_axis1_Near.csv\n",
      "Thu Dec 12 19:56:41 2024\n",
      "\n",
      "Anova for axis1 accuracy, Near trials\n",
      "            F Value  Num DF  Den DF  Pr > F\n",
      "ROI       42.383314     7.0    63.0  0.0000\n",
      "Task       0.049948     1.0     9.0  0.8281\n",
      "ROI:Task   0.754521     7.0    63.0  0.6271\n",
      "/usr/local/serenceslab/maggie/shapeDim/Analysis/figures/decodebinary_binary_acc_rm_anova_axis2_Near.csv\n",
      "Thu Dec 12 19:56:41 2024\n",
      "\n",
      "Anova for axis2 accuracy, Near trials\n",
      "            F Value  Num DF  Den DF  Pr > F\n",
      "ROI       49.997966     7.0    63.0  0.0000\n",
      "Task      10.299116     1.0     9.0  0.0107\n",
      "ROI:Task   0.825904     7.0    63.0  0.5696\n"
     ]
    }
   ],
   "source": [
    "for diffname in ['Far','Near']:\n",
    "    for axis_name in ['axis1','axis2']:\n",
    "\n",
    "        tablename = os.path.join(figfolder, 'decodebinary_binary_acc_rm_anova_%s_%s.csv'%(axis_name, diffname))\n",
    "        print(tablename)\n",
    "        print(time.ctime(os.path.getmtime(tablename)))\n",
    "        anova_result = pd.read_csv(tablename, index_col=0)\n",
    "        print('\\nAnova for %s accuracy, %s trials'%(axis_name, diffname))\n",
    "        print(anova_result)"
   ]
  },
  {
   "cell_type": "code",
   "execution_count": 14,
   "id": "3bd3893b-8b63-4f55-901a-3b42f0e962f7",
   "metadata": {},
   "outputs": [
    {
     "name": "stdout",
     "output_type": "stream",
     "text": [
      "\n",
      "Near trials, axis 1 (x)\n",
      "        t-stat for task 1 > task 2  pvalue  n_subs_indiv\n",
      "V1                           0.049   0.975             7\n",
      "V2                           0.383   0.709             7\n",
      "V3                          -0.060   0.951             6\n",
      "V3AB                         0.298   0.764             5\n",
      "hV4                         -0.988   0.353             6\n",
      "LO1                          1.243   0.304             7\n",
      "LO2                         -2.011   0.101             7\n",
      "IPSall                       0.109   0.916             5\n",
      "\n",
      "Near trials, axis 2 (y)\n",
      "        t-stat for task 1 > task 2  pvalue  n_subs_indiv\n",
      "V1                          -2.145   0.064             7\n",
      "V2                          -3.269   0.009             8\n",
      "V3                          -2.804   0.024             7\n",
      "V3AB                        -0.720   0.565             5\n",
      "hV4                         -0.865   0.409             7\n",
      "LO1                         -0.494   0.644             6\n",
      "LO2                         -0.049   0.983             5\n",
      "IPSall                      -1.487   0.169             5\n"
     ]
    }
   ],
   "source": [
    "for avals, diffname in zip([ acc_midtrials], \\\n",
    "                        ['Near']):\n",
    "\n",
    "    for ii, axis_name in enumerate(['axis 1 (x)','axis 2 (y)']):\n",
    "\n",
    "        vals = copy.deepcopy(avals[:,:,0:2,ii])\n",
    "        \n",
    "        tstats_task = np.zeros((n_rois,),dtype=float)\n",
    "        pvals_task = np.zeros((n_rois,),dtype=float)\n",
    "        n_subs_samedir = np.zeros((n_rois,),dtype=int)\n",
    "\n",
    "        rndseed = 8676786\n",
    "        for rr in range(n_rois):\n",
    "\n",
    "            t1_values = vals[:,rr,0]\n",
    "            t2_values = vals[:,rr,1]\n",
    "            p, t = stats_utils.paired_ttest_nonpar(t1_values, t2_values, \\\n",
    "                                                   # n_iter=2,\n",
    "                                                   n_iter=10000, \\\n",
    "                                                   rndseed=rndseed+rr)    \n",
    "            tstats_task[rr] = t\n",
    "            pvals_task[rr] = p\n",
    "\n",
    "            subj_diffs = t1_values - t2_values\n",
    "            n_subs_samedir[rr] = np.maximum(np.sum(subj_diffs>0), np.sum(subj_diffs<0))\n",
    "\n",
    "        print('\\n%s trials, %s'%(diffname, axis_name))\n",
    "        task_df = pd.DataFrame({'t-stat for task 1 > task 2': tstats_task, \\\n",
    "                                'pvalue': pvals_task, \\\n",
    "                                'n_subs_indiv': n_subs_samedir}, \\\n",
    "                                  index=roi_names)\n",
    "        print(task_df.round(3))"
   ]
  }
 ],
 "metadata": {
  "kernelspec": {
   "display_name": "Python 3",
   "language": "python",
   "name": "python3"
  },
  "language_info": {
   "codemirror_mode": {
    "name": "ipython",
    "version": 3
   },
   "file_extension": ".py",
   "mimetype": "text/x-python",
   "name": "python",
   "nbconvert_exporter": "python",
   "pygments_lexer": "ipython3",
   "version": "3.7.10"
  }
 },
 "nbformat": 4,
 "nbformat_minor": 5
}
