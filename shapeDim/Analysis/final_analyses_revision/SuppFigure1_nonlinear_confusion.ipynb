{
 "cells": [
  {
   "cell_type": "code",
   "execution_count": 1,
   "id": "08f2cec1-5a81-4c07-8d24-be79f9ab66ac",
   "metadata": {},
   "outputs": [],
   "source": [
    "import numpy as np\n",
    "import matplotlib.pyplot as plt\n",
    "from matplotlib import cm\n",
    "import os, sys\n",
    "import pandas as pd\n",
    "import time\n",
    "import copy\n",
    "\n",
    "root = '/usr/local/serenceslab/maggie/shapeDim/'\n",
    "\n",
    "sys.path.append(os.path.join(root, 'Analysis'))\n",
    "from code_utils import data_utils, stats_utils, plot_utils\n"
   ]
  },
  {
   "cell_type": "code",
   "execution_count": null,
   "id": "ec024b3e-f20c-4f74-9c3a-2b9e73dad910",
   "metadata": {},
   "outputs": [],
   "source": []
  },
  {
   "cell_type": "code",
   "execution_count": 2,
   "id": "b14f5631-6622-4d3e-9b4d-1a0a5f753a8a",
   "metadata": {},
   "outputs": [],
   "source": [
    "task_names = ['Linear (1)','Linear (2)','Checker', 'Repeat'];\n",
    "n_tasks = len(task_names)\n",
    "task_colors = np.flipud(cm.GnBu(np.linspace(0,1,5))[1:,:])\n",
    "\n",
    "n_subjects = 10\n",
    "subjects = np.arange(1,11)\n",
    "subcolors = cm.Dark2(np.linspace(0,1,n_subjects))"
   ]
  },
  {
   "cell_type": "code",
   "execution_count": 3,
   "id": "292ab003-d4aa-408f-84e8-b284aadc0050",
   "metadata": {},
   "outputs": [],
   "source": [
    "lab = dict()\n",
    "for ss in subjects:\n",
    "    \n",
    "    # get labels for all the trials, this subject\n",
    "    main_labels = data_utils.load_main_task_labels(ss)\n",
    "    rep_labels = data_utils.load_repeat_task_labels(ss)\n",
    "    lab[ss] = pd.concat([main_labels, rep_labels], axis=0)\n",
    "   "
   ]
  },
  {
   "cell_type": "code",
   "execution_count": 4,
   "id": "4b65a93f-0b76-442c-af4f-e23390a4c036",
   "metadata": {},
   "outputs": [],
   "source": [
    "from code_utils import grid_utils\n",
    "grid_pts = grid_utils.get_main_grid()\n",
    "# NOTE i am swapping the columns here\n",
    "# because this is the order you get from doing np.unique(pts)\n",
    "# this is the actual order that the predictions 1-16 of this classifier\n",
    "# correspond to. \n",
    "grid_pts = grid_pts[:,[1,0]] "
   ]
  },
  {
   "cell_type": "code",
   "execution_count": 5,
   "id": "7ba20672-eeac-4f31-84f1-8574c856f4f4",
   "metadata": {},
   "outputs": [
    {
     "name": "stdout",
     "output_type": "stream",
     "text": [
      "/usr/local/serenceslab/maggie/shapeDim/Analysis/decoding_results/decode_multiclass_withintask.npy\n",
      "Fri Jun  2 12:40:24 2023\n",
      "/usr/local/serenceslab/maggie/shapeDim/Analysis/decoding_results/decode_multiclass_withintask_newsubs.npy\n",
      "Tue Aug 13 08:41:26 2024\n"
     ]
    },
    {
     "data": {
      "text/plain": [
       "['V1', 'V2', 'V3', 'V3AB', 'hV4', 'LO1', 'LO2', 'IPS']"
      ]
     },
     "execution_count": 5,
     "metadata": {},
     "output_type": "execute_result"
    }
   ],
   "source": [
    "save_folder = os.path.join(root, 'Analysis', 'decoding_results')\n",
    "\n",
    "# this is the original analysis that I ran with 7 subjects, exactly as in first submission\n",
    "save_filename1 = os.path.join(save_folder, 'decode_multiclass_withintask.npy')\n",
    "print(save_filename1)\n",
    "print(time.ctime(os.path.getmtime(save_filename1)))\n",
    "d1 = np.load(save_filename1, allow_pickle=True).item()\n",
    "\n",
    "# this is the newest 3 subjects, for revision\n",
    "save_filename2 = os.path.join(save_folder, 'decode_multiclass_withintask_newsubs.npy')\n",
    "print(save_filename2)\n",
    "print(time.ctime(os.path.getmtime(save_filename2)))\n",
    "d2 = np.load(save_filename2, allow_pickle=True).item()\n",
    "d2.keys()\n",
    "\n",
    "# we're going to concatenate everything from these saved dictionaries\n",
    "dec = dict([])\n",
    "for kk in list(d1.keys()):\n",
    "    \n",
    "    if kk in ['preds_all', 'probs_all']:\n",
    "        # this element is a dictionary where keys are subjects\n",
    "        dec[kk] = d1[kk]\n",
    "        for si in d2[kk].keys():\n",
    "            # entry 0 in the new array becomes 7 in new array\n",
    "            dec[kk][si+7] = d2[kk][si]\n",
    "        \n",
    "    elif kk in ['grid_pts', 'roi_names']:\n",
    "        dec[kk] = d1[kk]\n",
    "        \n",
    "    else:\n",
    "        dec[kk] = np.concatenate([d1[kk], d2[kk]], axis=0)\n",
    "      \n",
    "    \n",
    "roi_names = dec['roi_names']\n",
    "roi_names[-1] = 'IPS'\n",
    "n_rois = len(roi_names)\n",
    "roi_names"
   ]
  },
  {
   "cell_type": "markdown",
   "id": "aa4ce65e-e49c-4f75-ba4b-694c43330611",
   "metadata": {},
   "source": [
    "#### compute confusion matrices for 16-way classifier"
   ]
  },
  {
   "cell_type": "code",
   "execution_count": 6,
   "id": "14e37882-8db3-4cec-8df2-a6b8823991be",
   "metadata": {},
   "outputs": [
    {
     "name": "stderr",
     "output_type": "stream",
     "text": [
      "/usr/local/serenceslab/maggie/conda_envs/shape_dim/lib/python3.7/site-packages/ipykernel_launcher.py:42: RuntimeWarning: invalid value encountered in true_divide\n"
     ]
    }
   ],
   "source": [
    "n_pts = grid_pts.shape[0]\n",
    "\n",
    "grid_confusion = np.zeros((n_subjects, n_rois, n_tasks, n_pts, n_pts), dtype=int)\n",
    "\n",
    "for si, ss in enumerate(subjects):\n",
    "\n",
    "    for ti, tt in enumerate([1,2,3,4]):\n",
    "        \n",
    "        l = lab[ss][lab[ss]['task']==tt]\n",
    "        \n",
    "        pt_labs = np.array([l['ptx'], l['pty']]).T.round(2)\n",
    "        # nn_pts = np.array([l['nn_ptx'], l['nn_pty']]).T.round(2)\n",
    "        \n",
    "        pt_inds = np.zeros((pt_labs.shape[0],), dtype=int)\n",
    "        for tr in range(pt_labs.shape[0]):\n",
    "            ind = np.argmin(np.sum((pt_labs[tr,:]-grid_pts)**2, axis=1))\n",
    "            pt_inds[tr] = ind\n",
    "            \n",
    "        \n",
    "        is_main_grid = l['is_main_grid']==1\n",
    "       \n",
    "        correct = np.array(l['subject_correct'])\n",
    "        \n",
    "        \n",
    "        for ri in range(n_rois):\n",
    "            \n",
    "            pred = dec['preds_all'][si][ri][ti].astype(int)\n",
    "            \n",
    "            for pi1 in range(n_pts):\n",
    "\n",
    "                for pi2 in range(n_pts):\n",
    "                    \n",
    "                    inds = (pt_inds==pi1) & (pred==pi2) & is_main_grid & correct\n",
    "\n",
    "                    grid_confusion[si,ri,ti,pi1,pi2] = np.sum(inds)\n",
    "                    \n",
    "                    \n",
    "# convert the counts into a proportion\n",
    "# out of the total trials with actual grid position pi1, how often was it assigned to pi2?\n",
    "# the last dim should sum to 1.\n",
    "counts_each = np.sum(grid_confusion, axis=4, keepdims=True)\n",
    "prop_confusion = grid_confusion / np.tile(counts_each, [1,1,1,1,n_pts])\n",
    "\n",
    "# nans are from zero denominator, turn these to 0 here\n",
    "# these only affect checker task, not either of two linear tasks\n",
    "assert(not np.any(np.isnan(prop_confusion[:,:,0:2,:,:])))\n",
    "prop_confusion[np.isnan(prop_confusion)] = 0"
   ]
  },
  {
   "cell_type": "code",
   "execution_count": 7,
   "id": "240d155f-d53d-4aae-b1e4-07924ba39c79",
   "metadata": {},
   "outputs": [
    {
     "data": {
      "text/plain": [
       "array([[0, 0, 0, 0, 0, 0, 0, 0],\n",
       "       [0, 0, 0, 0, 0, 0, 0, 0],\n",
       "       [0, 0, 0, 0, 0, 0, 0, 0],\n",
       "       [0, 0, 0, 0, 0, 0, 0, 0],\n",
       "       [0, 0, 0, 0, 0, 0, 0, 0],\n",
       "       [0, 0, 0, 0, 0, 0, 0, 0],\n",
       "       [0, 0, 0, 0, 0, 0, 0, 0],\n",
       "       [2, 2, 2, 2, 2, 2, 2, 2],\n",
       "       [0, 0, 0, 0, 0, 0, 0, 0],\n",
       "       [0, 0, 0, 0, 0, 0, 0, 0]])"
      ]
     },
     "execution_count": 7,
     "metadata": {},
     "output_type": "execute_result"
    }
   ],
   "source": [
    "np.sum(counts_each[:,:,2,:,0]==0, axis=2)"
   ]
  },
  {
   "cell_type": "code",
   "execution_count": 8,
   "id": "c4034f9a-3d88-4d9c-b7a4-8c645100f06c",
   "metadata": {},
   "outputs": [],
   "source": [
    "plt.rcParams['pdf.fonttype']=42\n",
    "plot_utils.set_all_font_sizes(fs = 16)\n",
    "figfolder = os.path.join(root, 'Analysis','figures')"
   ]
  },
  {
   "cell_type": "markdown",
   "id": "1cd23450-f0f1-41d3-8262-bd2b4d76b852",
   "metadata": {},
   "source": [
    "#### create templates"
   ]
  },
  {
   "cell_type": "code",
   "execution_count": 9,
   "id": "c81de2f6-44e9-4d82-b1e8-e8fab6368994",
   "metadata": {},
   "outputs": [],
   "source": [
    "template_names = ['Linear 1','Linear 2','Checker']\n",
    "n_templates = 3;\n",
    "\n",
    "ideal_conf_matrices = np.zeros((n_pts, n_pts, n_templates))\n",
    "\n",
    "\n",
    "for gg1 in range(n_pts):\n",
    "    \n",
    "    for gg2 in range(n_pts):\n",
    "        \n",
    "        pt1 = grid_pts[gg1:gg1+1,:]\n",
    "        pt2 = grid_pts[gg2:gg2+1,:]\n",
    "        \n",
    "        \n",
    "        if grid_utils.get_categ(pt1, 1)==grid_utils.get_categ(pt2, 1):\n",
    "            ideal_conf_matrices[gg1,gg2,0] = 1\n",
    "        \n",
    "        if grid_utils.get_categ(pt1, 2)==grid_utils.get_categ(pt2, 2):\n",
    "            ideal_conf_matrices[gg1,gg2,1] = 1\n",
    "        \n",
    "        if grid_utils.get_categ(pt1, 3)==grid_utils.get_categ(pt2, 3):\n",
    "            ideal_conf_matrices[gg1,gg2,2] = 1\n",
    "        "
   ]
  },
  {
   "cell_type": "code",
   "execution_count": 10,
   "id": "7c3a994a-83fe-4eaf-9d95-edc45fa5cca1",
   "metadata": {},
   "outputs": [
    {
     "data": {
      "text/plain": [
       "Text(0.5, 1.0, 'Checker')"
      ]
     },
     "execution_count": 10,
     "metadata": {},
     "output_type": "execute_result"
    },
    {
     "data": {
      "image/png": "[encoded data removed]",
      "text/plain": [
       "<Figure size 432x432 with 1 Axes>"
      ]
     },
     "metadata": {
      "needs_background": "light"
     },
     "output_type": "display_data"
    }
   ],
   "source": [
    "plt.figure(figsize=(6,6))\n",
    "\n",
    "ti = 2;\n",
    "    \n",
    "grid_pt_strs = np.array(['(%.1f, %.1f)'%(grid_pts[ii,0], grid_pts[ii,1]) for ii in range(len(grid_pts))])\n",
    "\n",
    "\n",
    "plt.pcolormesh(ideal_conf_matrices[:,:,ti], vmin=-0.2, vmax=1.4, cmap='gray_r')\n",
    "plt.axis('square')\n",
    "plt.gca().invert_yaxis()\n",
    "\n",
    "\n",
    "plt.xticks(np.arange(n_pts)+0.5, grid_pt_strs, rotation=45)\n",
    "plt.xlabel('predicted')\n",
    "\n",
    "plt.yticks(np.arange(n_pts)+0.5, grid_pt_strs)\n",
    "\n",
    "plt.ylabel('actual')\n",
    "\n",
    "\n",
    "plt.title('%s'%template_names[ti])\n",
    "\n",
    "# figname = os.path.join(figfolder, 'checker_task_template.pdf')\n",
    "# plt.savefig(figname)"
   ]
  },
  {
   "cell_type": "markdown",
   "id": "8cfedf5b-fabd-4448-99da-eef6f37ad2ec",
   "metadata": {},
   "source": [
    "#### compare actual confusions to templates"
   ]
  },
  {
   "cell_type": "code",
   "execution_count": 11,
   "id": "3af7a35f-8b7d-49a5-b366-742118bbac8c",
   "metadata": {},
   "outputs": [],
   "source": [
    "sim_each = np.zeros((n_subjects, n_rois, n_tasks, n_templates))\n",
    "sim_each_z = np.zeros((n_subjects, n_rois, n_tasks, n_templates))\n",
    "\n",
    "for si in range(n_subjects):\n",
    "\n",
    "    for ri in range(n_rois):\n",
    "\n",
    "        for ti in range(4):\n",
    "\n",
    "            props = prop_confusion[si,ri,ti,:,:]\n",
    "    \n",
    "            for tmpi in range(n_templates):\n",
    "\n",
    "                template = ideal_conf_matrices[:,:,tmpi]\n",
    "\n",
    "                r = np.corrcoef(props.ravel(), template.ravel())[0,1]\n",
    "                \n",
    "                sim_each[si,ri,ti,tmpi] = r\n",
    "                \n",
    "                # z-transforming the r values here.\n",
    "                # use the Fisher transform (inverse hyperbolic tangent)\n",
    "                # https://en.wikipedia.org/wiki/Fisher_transformation\n",
    "                \n",
    "                sim_each_z[si,ri,ti,tmpi] = np.arctanh(r)\n",
    "                "
   ]
  },
  {
   "cell_type": "markdown",
   "id": "a9928519-3931-4752-98fb-7f3c4061bb71",
   "metadata": {},
   "source": [
    "#### plot similarity to checker template"
   ]
  },
  {
   "cell_type": "code",
   "execution_count": 12,
   "id": "51366a5b-4fef-4c37-bc84-7127f6338285",
   "metadata": {},
   "outputs": [
    {
     "name": "stdout",
     "output_type": "stream",
     "text": [
      "-0.08677079871354215 0.32118217073414557\n",
      "-0.046525441391508986 0.34568256566335165\n",
      "-0.10549868681987701 0.35648673881593995\n",
      "/usr/local/serenceslab/maggie/shapeDim/Analysis/figures/checker_confusion_template_sim.pdf\n"
     ]
    },
    {
     "data": {
      "image/png": "[encoded data removed]",
      "text/plain": [
       "<Figure size 648x288 with 1 Axes>"
      ]
     },
     "metadata": {
      "needs_background": "light"
     },
     "output_type": "display_data"
    }
   ],
   "source": [
    "plt.figure(figsize=(9,4))\n",
    "\n",
    "ax = plt.subplot(1,1,1)\n",
    "ti_plot = [0,1,2]\n",
    "\n",
    "x_jitter = np.linspace(-0.2, 0.2, len(ti_plot))\n",
    "\n",
    "for tmpi in [2]:\n",
    "    \n",
    "    tmpname = template_names[tmpi]\n",
    "    \n",
    "    plt.axhline(0, color=[0.8, 0.8, 0.8])\n",
    "\n",
    "    lh = []\n",
    "\n",
    "    for tii, ti in enumerate(ti_plot):\n",
    "\n",
    "        x_ticks = np.arange(n_rois) + x_jitter[tii]\n",
    "\n",
    "        # vals = sim_each[:,:,ti,tmpi]\n",
    "        vals = sim_each_z[:,:,ti,tmpi]\n",
    "        print(np.min(vals), np.max(vals))\n",
    "        meanvals = np.mean(vals, axis=0)\n",
    "        semvals = np.std(vals, axis=0) / np.sqrt(n_subjects)\n",
    "        \n",
    "        plt.plot(x_ticks, meanvals, 'o', color=task_colors[ti], markersize=8, zorder=10)\n",
    "        h = plt.errorbar(x_ticks, meanvals, semvals, xerr=None, color=task_colors[ti], linestyle='none')\n",
    "        lh.append(h)\n",
    "\n",
    "    for ri in range(n_rois):\n",
    "            \n",
    "        meanvals = np.mean(sim_each_z[:,ri,ti_plot,tmpi], axis=0)\n",
    "        # plt.plot(ri+x_jitter, meanvals,'-',color=[0.6, 0.6, 0.6], zorder=-5)\n",
    "\n",
    "        plt.plot(ri+x_jitter, sim_each_z[:,ri,ti_plot,tmpi].T, '.', color=[0.8, 0.8, 0.8], zorder=-10)\n",
    "\n",
    "    ylims = [-0.12, 0.5]\n",
    "    assert(np.all(sim_each_z[:,:,ti_plot,tmpi]>ylims[0]))\n",
    "    assert(np.all(sim_each_z[:,:,ti_plot,tmpi]<ylims[1]))\n",
    "    plt.ylim(ylims)\n",
    "\n",
    "    plt.xticks(np.arange(n_rois), roi_names)\n",
    "    plt.ylabel('z-transformed r')\n",
    "\n",
    "    # plt.legend(lh,task_names)\n",
    "\n",
    "    ax.spines['top'].set_visible(False)\n",
    "    ax.spines['right'].set_visible(False)\n",
    "\n",
    "    plt.yticks(np.arange(-0.1, 0.51, 0.1))\n",
    "        \n",
    "    # plt.legend(lh,task_names)\n",
    "\n",
    "    plt.title('similarity to %s template'%tmpname)\n",
    "    \n",
    "figname = os.path.join(figfolder, 'checker_confusion_template_sim.pdf')\n",
    "print(figname)\n",
    "\n",
    "plt.savefig(figname)"
   ]
  },
  {
   "cell_type": "code",
   "execution_count": 17,
   "id": "c758d57a-0972-4668-bdf5-dc15c9ce683c",
   "metadata": {},
   "outputs": [
    {
     "name": "stdout",
     "output_type": "stream",
     "text": [
      "/usr/local/serenceslab/maggie/shapeDim/Analysis/figures/template_sim_includechecker_rm_anova_2way_template3.csv\n"
     ]
    }
   ],
   "source": [
    "ti_test = [0,1,2]\n",
    "tmpi_test = [2]\n",
    "\n",
    "for tmpi in tmpi_test:\n",
    "    \n",
    "    # vals = copy.deepcopy(sim_each[:,:,ti_test,tmpi])\n",
    "    vals = copy.deepcopy(sim_each_z[:,:,ti_test,tmpi])\n",
    "\n",
    "    anova_result = stats_utils.rmanova_2way(vals, ['roi','task'], \\\n",
    "                                            do_shuffle=True, n_iter=10000, rndseed = 1242335+tmpi)\n",
    "    # anova_result = stats_utils.rmanova_2way(vals, ['roi','task'], \\\n",
    "    #                                         do_shuffle=False, n_iter=10000, rndseed = 1242335+tmpi)\n",
    "\n",
    "    anova_result['Pr > F'] = anova_result['Pr > F'].round(4)\n",
    "\n",
    "    # print('\\nAnova for template similarity, %s'%template_names[tmpi])\n",
    "    # print(anova_result)\n",
    "    \n",
    "    tablename = os.path.join(figfolder, 'template_sim_includechecker_rm_anova_2way_template%d.csv'%(tmpi+1))\n",
    "\n",
    "    print(tablename)\n",
    "    anova_result.to_csv(tablename)\n"
   ]
  },
  {
   "cell_type": "code",
   "execution_count": 13,
   "id": "6dee2035-c445-4878-8d6d-f53bb9cc3590",
   "metadata": {},
   "outputs": [
    {
     "name": "stdout",
     "output_type": "stream",
     "text": [
      "\n",
      "Anova for template similarity, Checker\n",
      "/usr/local/serenceslab/maggie/shapeDim/Analysis/figures/template_sim_includechecker_rm_anova_2way_template3.csv\n",
      "Thu Dec 12 12:17:24 2024\n",
      "            F Value  Num DF  Den DF  Pr > F  p (permutation)\n",
      "roi       63.196602     7.0    63.0  0.0000           0.0000\n",
      "task       1.191598     2.0    18.0  0.3266           0.3290\n",
      "roi:task   1.286205    14.0   126.0  0.2249           0.2216\n"
     ]
    }
   ],
   "source": [
    "for tmpi in [2]:\n",
    "    tablename = os.path.join(figfolder, 'template_sim_includechecker_rm_anova_2way_template%d.csv'%(tmpi+1))\n",
    "    print('\\nAnova for template similarity, %s'%template_names[tmpi])\n",
    "    anova_result = pd.read_csv(tablename, index_col=0)\n",
    "    print(tablename)\n",
    "    print(time.ctime(os.path.getmtime(tablename)))\n",
    "    \n",
    "    print(anova_result)"
   ]
  }
 ],
 "metadata": {
  "kernelspec": {
   "display_name": "Python 3",
   "language": "python",
   "name": "python3"
  },
  "language_info": {
   "codemirror_mode": {
    "name": "ipython",
    "version": 3
   },
   "file_extension": ".py",
   "mimetype": "text/x-python",
   "name": "python",
   "nbconvert_exporter": "python",
   "pygments_lexer": "ipython3",
   "version": "3.7.10"
  }
 },
 "nbformat": 4,
 "nbformat_minor": 5
}
