{
 "cells": [
  {
   "cell_type": "code",
   "execution_count": 5,
   "id": "2ee21873-0745-440d-bad7-625a4a15080d",
   "metadata": {},
   "outputs": [],
   "source": [
    "import nibabel as nib\n",
    "import numpy as np\n",
    "import sys, os\n",
    "import subprocess"
   ]
  },
  {
   "cell_type": "code",
   "execution_count": 60,
   "id": "c769b3dd-f053-4952-9423-2dfc448c7e3d",
   "metadata": {},
   "outputs": [
    {
     "data": {
      "text/plain": [
       "(256, 256, 256)"
      ]
     },
     "execution_count": 60,
     "metadata": {},
     "output_type": "execute_result"
    }
   ],
   "source": [
    "# newfolder = '/usr/local/serenceslab/maggie/shapeDim/VOIs/from_afni/DA/'\n",
    "newfolder = '/usr/local/serenceslab/maggie/shapeDim/VOIs/from_afni_new/DA/'\n",
    "\n",
    "# roi_file = os.path.join(newfolder, 'lh_V1v.nii.gz')\n",
    "roi_file = os.path.join(newfolder, 'rh_IPS2.nii.gz')\n",
    "\n",
    "\n",
    "f = nib.load(roi_file)\n",
    "d = np.array(f.get_fdata())\n",
    "d.shape"
   ]
  },
  {
   "cell_type": "code",
   "execution_count": 63,
   "id": "e141bda5-11ac-4d35-815e-ed8ea45f56a8",
   "metadata": {},
   "outputs": [],
   "source": [
    "# roi_file_xfm = os.path.join(newfolder, 'lh_V1v_xfm.nii.gz')\n",
    "roi_file_xfm = os.path.join(newfolder, 'rh_IPS2_xfm.nii.gz')"
   ]
  },
  {
   "cell_type": "code",
   "execution_count": 7,
   "id": "2e51c3f9-d9d7-415c-a6f5-6cffe7ff7823",
   "metadata": {},
   "outputs": [
    {
     "data": {
      "text/plain": [
       "(80, 80, 68, 304)"
      ]
     },
     "execution_count": 7,
     "metadata": {},
     "output_type": "execute_result"
    }
   ],
   "source": [
    "folder = '/usr/local/serenceslab/Doreti/FUNC/DA/PreProc/AFNI/'\n",
    "file = os.path.join(folder, 'REG_MC_DET_ZNORM_VB_001.nii.gz')\n",
    "f = nib.load(file)\n",
    "d = np.array(f.get_fdata())\n",
    "d.shape"
   ]
  },
  {
   "cell_type": "code",
   "execution_count": 8,
   "id": "b8db92e3-80df-4eef-a18d-20d9e4291377",
   "metadata": {},
   "outputs": [
    {
     "data": {
      "text/plain": [
       "(100, 100, 68)"
      ]
     },
     "execution_count": 8,
     "metadata": {},
     "output_type": "execute_result"
    }
   ],
   "source": [
    "ss = 8\n",
    "mctemplate_file = '/usr/local/serenceslab/maggie/shapeDim/DataPreproc/S08/MCTemplateXFM01.nii.gz'\n",
    "f = nib.load(mctemplate_file)\n",
    "d = np.array(f.get_fdata())\n",
    "d.shape"
   ]
  },
  {
   "cell_type": "code",
   "execution_count": 9,
   "id": "776ce7df-2960-4819-a536-67c620a6391c",
   "metadata": {},
   "outputs": [],
   "source": []
  },
  {
   "cell_type": "code",
   "execution_count": 36,
   "id": "d3d5731a-80db-4733-9b01-e1fab19c331c",
   "metadata": {},
   "outputs": [],
   "source": [
    "xfm_file = os.path.join('/usr/local/serenceslab/maggie/shapeDim/DataPreproc/S08/', \n",
    "                        'Func2Anat_auto.dat')\n",
    "xfm_file_mat = os.path.join('/usr/local/serenceslab/maggie/shapeDim/DataPreproc/S08/', \n",
    "                        'Func2Anat_auto.mat')\n"
   ]
  },
  {
   "cell_type": "code",
   "execution_count": 38,
   "id": "2a72c280-9383-4fe4-bb07-3cc112def471",
   "metadata": {},
   "outputs": [
    {
     "name": "stdout",
     "output_type": "stream",
     "text": [
      "tkregister2 --s DA --mov /usr/local/serenceslab/maggie/shapeDim/DataPreproc/S08/MCTemplateXFM01.nii.gz --reg /usr/local/serenceslab/maggie/shapeDim/DataPreproc/S08/Func2Anat_auto.dat --fslregout /usr/local/serenceslab/maggie/shapeDim/DataPreproc/S08/Func2Anat_auto.mat --noedit\n"
     ]
    },
    {
     "data": {
      "text/plain": [
       "0"
      ]
     },
     "execution_count": 38,
     "metadata": {},
     "output_type": "execute_result"
    }
   ],
   "source": [
    "cmd = 'tkregister2 --s DA --mov %s --reg %s --fslregout %s --noedit'\\\n",
    "    %(mctemplate_file, xfm_file, xfm_file_mat)\n",
    "print(cmd)\n",
    "err = subprocess.call(cmd, shell=True)\n",
    "err"
   ]
  },
  {
   "cell_type": "code",
   "execution_count": 43,
   "id": "7ed6db8a-fa34-48b1-b025-0a0698ff1567",
   "metadata": {},
   "outputs": [],
   "source": [
    "xfm_file_mat_inv = os.path.join('/usr/local/serenceslab/maggie/shapeDim/DataPreproc/S08/', \n",
    "                        'Func2Anat_auto_inverse.mat')\n"
   ]
  },
  {
   "cell_type": "code",
   "execution_count": 48,
   "id": "98efc99f-0e7c-4d35-8d73-ceed7be4f84c",
   "metadata": {},
   "outputs": [],
   "source": [
    "xfm_file_inv = os.path.join('/usr/local/serenceslab/maggie/shapeDim/DataPreproc/S08/', \n",
    "                        'Func2Anat_auto_inverse.dat')\n"
   ]
  },
  {
   "cell_type": "code",
   "execution_count": null,
   "id": "2d4ad26b-0891-4f16-bbbf-871667fd32d1",
   "metadata": {},
   "outputs": [],
   "source": []
  },
  {
   "cell_type": "code",
   "execution_count": 47,
   "id": "2abc61d0-83c2-45d8-b737-68552885fa88",
   "metadata": {},
   "outputs": [
    {
     "name": "stdout",
     "output_type": "stream",
     "text": [
      "convert_xfm -omat /usr/local/serenceslab/maggie/shapeDim/DataPreproc/S08/Func2Anat_auto_inverse.mat -inverse /usr/local/serenceslab/maggie/shapeDim/DataPreproc/S08/Func2Anat_auto.mat\n"
     ]
    },
    {
     "data": {
      "text/plain": [
       "0"
      ]
     },
     "execution_count": 47,
     "metadata": {},
     "output_type": "execute_result"
    }
   ],
   "source": [
    "reffile = '/usr/local/serenceslab/Doreti/ANAT/DA/mri/orig.nii.gz'\n",
    "\n",
    "cmd = 'convert_xfm -omat %s -inverse %s'%\\\n",
    "    (xfm_file_mat_inv, xfm_file_mat)\n",
    "\n",
    "print(cmd)\n",
    "err = subprocess.call(cmd, shell=True)\n",
    "err"
   ]
  },
  {
   "cell_type": "code",
   "execution_count": 50,
   "id": "93387305-100b-49b1-b16d-afd2563970b0",
   "metadata": {},
   "outputs": [
    {
     "name": "stdout",
     "output_type": "stream",
     "text": [
      "convert_xfm -omat /usr/local/serenceslab/maggie/shapeDim/DataPreproc/S08/Func2Anat_auto_inverse.dat -inverse /usr/local/serenceslab/maggie/shapeDim/DataPreproc/S08/Func2Anat_auto.dat\n"
     ]
    },
    {
     "data": {
      "text/plain": [
       "134"
      ]
     },
     "execution_count": 50,
     "metadata": {},
     "output_type": "execute_result"
    }
   ],
   "source": [
    "reffile = '/usr/local/serenceslab/Doreti/ANAT/DA/mri/orig.nii.gz'\n",
    "\n",
    "cmd = 'convert_xfm -omat %s -inverse %s'%\\\n",
    "    (xfm_file_inv, xfm_file)\n",
    "\n",
    "print(cmd)\n",
    "err = subprocess.call(cmd, shell=True)\n",
    "err"
   ]
  },
  {
   "cell_type": "code",
   "execution_count": 39,
   "id": "72b55545-b45a-4cbd-9e87-b8509cddf549",
   "metadata": {},
   "outputs": [
    {
     "data": {
      "text/plain": [
       "True"
      ]
     },
     "execution_count": 39,
     "metadata": {},
     "output_type": "execute_result"
    }
   ],
   "source": [
    "os.path.exists(xfm_file_mat)"
   ]
  },
  {
   "cell_type": "code",
   "execution_count": 52,
   "id": "44b910dd-44c0-48e4-b3ee-a77232062d8e",
   "metadata": {},
   "outputs": [
    {
     "name": "stdout",
     "output_type": "stream",
     "text": [
      "flirt -in /usr/local/serenceslab/maggie/shapeDim/DataPreproc/S08/MCTemplateXFM01.nii.gz -ref /usr/local/serenceslab/Doreti/ANAT/DA/mri/orig.nii.gz -out /usr/local/serenceslab/maggie/shapeDim/VOIs/from_afni/DA/test_xfm2.nii.gz -init /usr/local/serenceslab/maggie/shapeDim/DataPreproc/S08/Func2Anat_auto.mat -applyxfm\n"
     ]
    },
    {
     "data": {
      "text/plain": [
       "0"
      ]
     },
     "execution_count": 52,
     "metadata": {},
     "output_type": "execute_result"
    }
   ],
   "source": [
    "# this goes from functional to anatomical\n",
    "\n",
    "\n",
    "outfile = os.path.join(newfolder, 'test_xfm.nii.gz')\n",
    "# folder = '/usr/local/serenceslab/Doreti/FUNC/DA/PreProc/AFNI/'\n",
    "# input_data = os.path.join(folder, 'REG_MC_DET_ZNORM_VB_001.nii.gz')\n",
    "input_data = '/usr/local/serenceslab/Doreti/ANAT/DA/mri/orig.nii.gz'\n",
    "\n",
    "# cmd = 'flirt -in %s '%(input_data) +\\\n",
    "#       '-ref %s '%(mctemplate_file) +\\\n",
    "#       '-out %s '%(outfile) +\\\n",
    "#       '-init %s '%(xfm_file) + \\\n",
    "#       '-applyxfm'\n",
    "\n",
    "cmd = 'flirt -in %s '%(mctemplate_file) +\\\n",
    "      '-ref %s '%(input_data) +\\\n",
    "      '-out %s '%(outfile) +\\\n",
    "      '-init %s '%(xfm_file_mat) + \\\n",
    "      '-applyxfm'\n",
    " \n",
    "print(cmd)\n",
    "err = subprocess.call(cmd, shell=True)\n",
    "err"
   ]
  },
  {
   "cell_type": "code",
   "execution_count": 51,
   "id": "2bc7df4f-7eba-476f-874f-0f081cfb76bf",
   "metadata": {},
   "outputs": [
    {
     "name": "stdout",
     "output_type": "stream",
     "text": [
      "flirt -in /usr/local/serenceslab/Doreti/ANAT/DA/mri/orig.nii.gz -ref /usr/local/serenceslab/maggie/shapeDim/DataPreproc/S08/MCTemplateXFM01.nii.gz -out /usr/local/serenceslab/maggie/shapeDim/VOIs/from_afni/DA/test_xfm2.nii.gz -init /usr/local/serenceslab/maggie/shapeDim/DataPreproc/S08/Func2Anat_auto_inverse.mat -applyxfm\n"
     ]
    },
    {
     "data": {
      "text/plain": [
       "0"
      ]
     },
     "execution_count": 51,
     "metadata": {},
     "output_type": "execute_result"
    }
   ],
   "source": [
    "# this goes anatomical to functional\n",
    "\n",
    "outfile = os.path.join(newfolder, 'test_xfm2.nii.gz')\n",
    "# folder = '/usr/local/serenceslab/Doreti/FUNC/DA/PreProc/AFNI/'\n",
    "# input_data = os.path.join(folder, 'REG_MC_DET_ZNORM_VB_001.nii.gz')\n",
    "input_data = '/usr/local/serenceslab/Doreti/ANAT/DA/mri/orig.nii.gz'\n",
    "\n",
    "# cmd = 'flirt -in %s '%(input_data) +\\\n",
    "#       '-ref %s '%(mctemplate_file) +\\\n",
    "#       '-out %s '%(outfile) +\\\n",
    "#       '-init %s '%(xfm_file) + \\\n",
    "#       '-applyxfm'\n",
    "\n",
    "cmd = 'flirt -in %s '%(input_data) +\\\n",
    "      '-ref %s '%(mctemplate_file) +\\\n",
    "      '-out %s '%(outfile) +\\\n",
    "      '-init %s '%(xfm_file_mat_inv) + \\\n",
    "      '-applyxfm'\n",
    " \n",
    "print(cmd)\n",
    "err = subprocess.call(cmd, shell=True)\n",
    "err"
   ]
  },
  {
   "cell_type": "code",
   "execution_count": 64,
   "id": "17d401ce-2c8d-4bf2-9e8c-3633bde51c72",
   "metadata": {},
   "outputs": [
    {
     "name": "stdout",
     "output_type": "stream",
     "text": [
      "flirt -in /usr/local/serenceslab/maggie/shapeDim/VOIs/from_afni_new/DA/rh_IPS2.nii.gz -ref /usr/local/serenceslab/maggie/shapeDim/DataPreproc/S08/MCTemplateXFM01.nii.gz -out /usr/local/serenceslab/maggie/shapeDim/VOIs/from_afni_new/DA/rh_IPS2_xfm.nii.gz -init /usr/local/serenceslab/maggie/shapeDim/DataPreproc/S08/Func2Anat_auto_inverse.mat -applyxfm\n"
     ]
    },
    {
     "data": {
      "text/plain": [
       "0"
      ]
     },
     "execution_count": 64,
     "metadata": {},
     "output_type": "execute_result"
    }
   ],
   "source": [
    "# this goes anatomical to functional\n",
    "\n",
    "outfile = roi_file_xfm\n",
    "\n",
    "input_data = roi_file\n",
    "\n",
    "# cmd = 'flirt -in %s '%(input_data) +\\\n",
    "#       '-ref %s '%(mctemplate_file) +\\\n",
    "#       '-out %s '%(outfile) +\\\n",
    "#       '-init %s '%(xfm_file) + \\\n",
    "#       '-applyxfm'\n",
    "\n",
    "cmd = 'flirt -in %s '%(input_data) +\\\n",
    "      '-ref %s '%(mctemplate_file) +\\\n",
    "      '-out %s '%(outfile) +\\\n",
    "      '-init %s '%(xfm_file_mat_inv) + \\\n",
    "      '-applyxfm'\n",
    " \n",
    "print(cmd)\n",
    "err = subprocess.call(cmd, shell=True)\n",
    "err"
   ]
  },
  {
   "cell_type": "code",
   "execution_count": 53,
   "id": "253525c3-5260-4323-b761-90fc480a9903",
   "metadata": {},
   "outputs": [
    {
     "name": "stdout",
     "output_type": "stream",
     "text": [
      "flirt -in /usr/local/serenceslab/Doreti/FUNC/DA/PreProc/AFNI/REG_MC_DET_ZNORM_VB_001.nii.gz -ref /usr/local/serenceslab/maggie/shapeDim/DataPreproc/S08/MCTemplateXFM01.nii.gz -out /usr/local/serenceslab/maggie/shapeDim/VOIs/from_afni/DA/test_xfm3.nii.gz -init /usr/local/serenceslab/maggie/shapeDim/DataPreproc/S08/Func2Anat_auto_inverse.mat -applyxfm\n"
     ]
    },
    {
     "data": {
      "text/plain": [
       "0"
      ]
     },
     "execution_count": 53,
     "metadata": {},
     "output_type": "execute_result"
    }
   ],
   "source": [
    "# want to go functional-retinotopy space to functional-shapedim space\n",
    "\n",
    "outfile = os.path.join(newfolder, 'test_xfm3.nii.gz')\n",
    "folder = '/usr/local/serenceslab/Doreti/FUNC/DA/PreProc/AFNI/'\n",
    "input_data = os.path.join(folder, 'REG_MC_DET_ZNORM_VB_001.nii.gz')\n",
    "# input_data = '/usr/local/serenceslab/Doreti/ANAT/DA/mri/orig.nii.gz'\n",
    "\n",
    "# cmd = 'flirt -in %s '%(input_data) +\\\n",
    "#       '-ref %s '%(mctemplate_file) +\\\n",
    "#       '-out %s '%(outfile) +\\\n",
    "#       '-init %s '%(xfm_file) + \\\n",
    "#       '-applyxfm'\n",
    "\n",
    "cmd = 'flirt -in %s '%(input_data) +\\\n",
    "      '-ref %s '%(mctemplate_file) +\\\n",
    "      '-out %s '%(outfile) +\\\n",
    "      '-init %s '%(xfm_file_mat_inv) + \\\n",
    "      '-applyxfm'\n",
    " \n",
    "print(cmd)\n",
    "err = subprocess.call(cmd, shell=True)\n",
    "err"
   ]
  },
  {
   "cell_type": "code",
   "execution_count": 27,
   "id": "62469e15-8f39-4e88-bf66-0ae22b6c8fc7",
   "metadata": {},
   "outputs": [
    {
     "name": "stdout",
     "output_type": "stream",
     "text": [
      "mris_convert /usr/local/serenceslab/Doreti/ANAT/DA/mri/orig.mgz /usr/local/serenceslab/maggie/shapeDim/VOIs/from_afni/DA/orig.nii.gz\n"
     ]
    },
    {
     "ename": "KeyboardInterrupt",
     "evalue": "",
     "output_type": "error",
     "traceback": [
      "\u001b[0;31m---------------------------------------------------------------------------\u001b[0m",
      "\u001b[0;31mKeyboardInterrupt\u001b[0m                         Traceback (most recent call last)",
      "\u001b[0;32m<ipython-input-27-04e79e6be05e>\u001b[0m in \u001b[0;36m<module>\u001b[0;34m\u001b[0m\n\u001b[1;32m      5\u001b[0m \u001b[0mprint\u001b[0m\u001b[0;34m(\u001b[0m\u001b[0mcmd\u001b[0m\u001b[0;34m)\u001b[0m\u001b[0;34m\u001b[0m\u001b[0;34m\u001b[0m\u001b[0m\n\u001b[1;32m      6\u001b[0m \u001b[0;34m\u001b[0m\u001b[0m\n\u001b[0;32m----> 7\u001b[0;31m \u001b[0merr\u001b[0m \u001b[0;34m=\u001b[0m \u001b[0msubprocess\u001b[0m\u001b[0;34m.\u001b[0m\u001b[0mcall\u001b[0m\u001b[0;34m(\u001b[0m\u001b[0mcmd\u001b[0m\u001b[0;34m,\u001b[0m \u001b[0mshell\u001b[0m\u001b[0;34m=\u001b[0m\u001b[0;32mTrue\u001b[0m\u001b[0;34m)\u001b[0m\u001b[0;34m\u001b[0m\u001b[0;34m\u001b[0m\u001b[0m\n\u001b[0m\u001b[1;32m      8\u001b[0m \u001b[0merr\u001b[0m\u001b[0;34m\u001b[0m\u001b[0;34m\u001b[0m\u001b[0m\n",
      "\u001b[0;32m/usr/local/serenceslab/maggie/conda_envs/shape_dim/lib/python3.7/subprocess.py\u001b[0m in \u001b[0;36mcall\u001b[0;34m(timeout, *popenargs, **kwargs)\u001b[0m\n\u001b[1;32m    339\u001b[0m     \u001b[0;32mwith\u001b[0m \u001b[0mPopen\u001b[0m\u001b[0;34m(\u001b[0m\u001b[0;34m*\u001b[0m\u001b[0mpopenargs\u001b[0m\u001b[0;34m,\u001b[0m \u001b[0;34m**\u001b[0m\u001b[0mkwargs\u001b[0m\u001b[0;34m)\u001b[0m \u001b[0;32mas\u001b[0m \u001b[0mp\u001b[0m\u001b[0;34m:\u001b[0m\u001b[0;34m\u001b[0m\u001b[0;34m\u001b[0m\u001b[0m\n\u001b[1;32m    340\u001b[0m         \u001b[0;32mtry\u001b[0m\u001b[0;34m:\u001b[0m\u001b[0;34m\u001b[0m\u001b[0;34m\u001b[0m\u001b[0m\n\u001b[0;32m--> 341\u001b[0;31m             \u001b[0;32mreturn\u001b[0m \u001b[0mp\u001b[0m\u001b[0;34m.\u001b[0m\u001b[0mwait\u001b[0m\u001b[0;34m(\u001b[0m\u001b[0mtimeout\u001b[0m\u001b[0;34m=\u001b[0m\u001b[0mtimeout\u001b[0m\u001b[0;34m)\u001b[0m\u001b[0;34m\u001b[0m\u001b[0;34m\u001b[0m\u001b[0m\n\u001b[0m\u001b[1;32m    342\u001b[0m         \u001b[0;32mexcept\u001b[0m\u001b[0;34m:\u001b[0m  \u001b[0;31m# Including KeyboardInterrupt, wait handled that.\u001b[0m\u001b[0;34m\u001b[0m\u001b[0;34m\u001b[0m\u001b[0m\n\u001b[1;32m    343\u001b[0m             \u001b[0mp\u001b[0m\u001b[0;34m.\u001b[0m\u001b[0mkill\u001b[0m\u001b[0;34m(\u001b[0m\u001b[0;34m)\u001b[0m\u001b[0;34m\u001b[0m\u001b[0;34m\u001b[0m\u001b[0m\n",
      "\u001b[0;32m/usr/local/serenceslab/maggie/conda_envs/shape_dim/lib/python3.7/subprocess.py\u001b[0m in \u001b[0;36mwait\u001b[0;34m(self, timeout)\u001b[0m\n\u001b[1;32m   1017\u001b[0m             \u001b[0mendtime\u001b[0m \u001b[0;34m=\u001b[0m \u001b[0m_time\u001b[0m\u001b[0;34m(\u001b[0m\u001b[0;34m)\u001b[0m \u001b[0;34m+\u001b[0m \u001b[0mtimeout\u001b[0m\u001b[0;34m\u001b[0m\u001b[0;34m\u001b[0m\u001b[0m\n\u001b[1;32m   1018\u001b[0m         \u001b[0;32mtry\u001b[0m\u001b[0;34m:\u001b[0m\u001b[0;34m\u001b[0m\u001b[0;34m\u001b[0m\u001b[0m\n\u001b[0;32m-> 1019\u001b[0;31m             \u001b[0;32mreturn\u001b[0m \u001b[0mself\u001b[0m\u001b[0;34m.\u001b[0m\u001b[0m_wait\u001b[0m\u001b[0;34m(\u001b[0m\u001b[0mtimeout\u001b[0m\u001b[0;34m=\u001b[0m\u001b[0mtimeout\u001b[0m\u001b[0;34m)\u001b[0m\u001b[0;34m\u001b[0m\u001b[0;34m\u001b[0m\u001b[0m\n\u001b[0m\u001b[1;32m   1020\u001b[0m         \u001b[0;32mexcept\u001b[0m \u001b[0mKeyboardInterrupt\u001b[0m\u001b[0;34m:\u001b[0m\u001b[0;34m\u001b[0m\u001b[0;34m\u001b[0m\u001b[0m\n\u001b[1;32m   1021\u001b[0m             \u001b[0;31m# https://bugs.python.org/issue25942\u001b[0m\u001b[0;34m\u001b[0m\u001b[0;34m\u001b[0m\u001b[0;34m\u001b[0m\u001b[0m\n",
      "\u001b[0;32m/usr/local/serenceslab/maggie/conda_envs/shape_dim/lib/python3.7/subprocess.py\u001b[0m in \u001b[0;36m_wait\u001b[0;34m(self, timeout)\u001b[0m\n\u001b[1;32m   1651\u001b[0m                         \u001b[0;32mif\u001b[0m \u001b[0mself\u001b[0m\u001b[0;34m.\u001b[0m\u001b[0mreturncode\u001b[0m \u001b[0;32mis\u001b[0m \u001b[0;32mnot\u001b[0m \u001b[0;32mNone\u001b[0m\u001b[0;34m:\u001b[0m\u001b[0;34m\u001b[0m\u001b[0;34m\u001b[0m\u001b[0m\n\u001b[1;32m   1652\u001b[0m                             \u001b[0;32mbreak\u001b[0m  \u001b[0;31m# Another thread waited.\u001b[0m\u001b[0;34m\u001b[0m\u001b[0;34m\u001b[0m\u001b[0m\n\u001b[0;32m-> 1653\u001b[0;31m                         \u001b[0;34m(\u001b[0m\u001b[0mpid\u001b[0m\u001b[0;34m,\u001b[0m \u001b[0msts\u001b[0m\u001b[0;34m)\u001b[0m \u001b[0;34m=\u001b[0m \u001b[0mself\u001b[0m\u001b[0;34m.\u001b[0m\u001b[0m_try_wait\u001b[0m\u001b[0;34m(\u001b[0m\u001b[0;36m0\u001b[0m\u001b[0;34m)\u001b[0m\u001b[0;34m\u001b[0m\u001b[0;34m\u001b[0m\u001b[0m\n\u001b[0m\u001b[1;32m   1654\u001b[0m                         \u001b[0;31m# Check the pid and loop as waitpid has been known to\u001b[0m\u001b[0;34m\u001b[0m\u001b[0;34m\u001b[0m\u001b[0;34m\u001b[0m\u001b[0m\n\u001b[1;32m   1655\u001b[0m                         \u001b[0;31m# return 0 even without WNOHANG in odd situations.\u001b[0m\u001b[0;34m\u001b[0m\u001b[0;34m\u001b[0m\u001b[0;34m\u001b[0m\u001b[0m\n",
      "\u001b[0;32m/usr/local/serenceslab/maggie/conda_envs/shape_dim/lib/python3.7/subprocess.py\u001b[0m in \u001b[0;36m_try_wait\u001b[0;34m(self, wait_flags)\u001b[0m\n\u001b[1;32m   1609\u001b[0m             \u001b[0;34m\"\"\"All callers to this function MUST hold self._waitpid_lock.\"\"\"\u001b[0m\u001b[0;34m\u001b[0m\u001b[0;34m\u001b[0m\u001b[0m\n\u001b[1;32m   1610\u001b[0m             \u001b[0;32mtry\u001b[0m\u001b[0;34m:\u001b[0m\u001b[0;34m\u001b[0m\u001b[0;34m\u001b[0m\u001b[0m\n\u001b[0;32m-> 1611\u001b[0;31m                 \u001b[0;34m(\u001b[0m\u001b[0mpid\u001b[0m\u001b[0;34m,\u001b[0m \u001b[0msts\u001b[0m\u001b[0;34m)\u001b[0m \u001b[0;34m=\u001b[0m \u001b[0mos\u001b[0m\u001b[0;34m.\u001b[0m\u001b[0mwaitpid\u001b[0m\u001b[0;34m(\u001b[0m\u001b[0mself\u001b[0m\u001b[0;34m.\u001b[0m\u001b[0mpid\u001b[0m\u001b[0;34m,\u001b[0m \u001b[0mwait_flags\u001b[0m\u001b[0;34m)\u001b[0m\u001b[0;34m\u001b[0m\u001b[0;34m\u001b[0m\u001b[0m\n\u001b[0m\u001b[1;32m   1612\u001b[0m             \u001b[0;32mexcept\u001b[0m \u001b[0mChildProcessError\u001b[0m\u001b[0;34m:\u001b[0m\u001b[0;34m\u001b[0m\u001b[0;34m\u001b[0m\u001b[0m\n\u001b[1;32m   1613\u001b[0m                 \u001b[0;31m# This happens if SIGCLD is set to be ignored or waiting\u001b[0m\u001b[0;34m\u001b[0m\u001b[0;34m\u001b[0m\u001b[0;34m\u001b[0m\u001b[0m\n",
      "\u001b[0;31mKeyboardInterrupt\u001b[0m: "
     ]
    }
   ],
   "source": [
    "mgzfile = '/usr/local/serenceslab/Doreti/ANAT/DA/mri/orig.mgz'\n",
    "niifile = os.path.join(newfolder, 'orig.nii.gz')\n",
    "\n",
    "cmd = 'mris_convert %s %s'%(mgzfile, niifile)\n",
    "print(cmd)\n",
    "   \n",
    "err = subprocess.call(cmd, shell=True)\n",
    "err"
   ]
  },
  {
   "cell_type": "code",
   "execution_count": null,
   "id": "09ca5270-61b4-4c01-9324-6161ce8ae6ea",
   "metadata": {},
   "outputs": [],
   "source": [
    "os.path.exists(mgzfile), os.path.exists(niifile)"
   ]
  },
  {
   "cell_type": "code",
   "execution_count": 25,
   "id": "4469b251-b1b4-48cc-be03-10c2a7583315",
   "metadata": {},
   "outputs": [
    {
     "data": {
      "text/plain": [
       "True"
      ]
     },
     "execution_count": 25,
     "metadata": {},
     "output_type": "execute_result"
    }
   ],
   "source": [
    "os.path.exists(input_data)"
   ]
  },
  {
   "cell_type": "code",
   "execution_count": 53,
   "id": "480ff560-df7f-4353-bedf-da973849fc4b",
   "metadata": {},
   "outputs": [
    {
     "data": {
      "text/plain": [
       "(array([0., 1.]), array([434887,    313]))"
      ]
     },
     "execution_count": 53,
     "metadata": {},
     "output_type": "execute_result"
    }
   ],
   "source": [
    "np.unique(d, return_counts=True)"
   ]
  },
  {
   "cell_type": "code",
   "execution_count": 47,
   "id": "611a245b-dde2-45d5-98ab-1468ce35f501",
   "metadata": {},
   "outputs": [
    {
     "data": {
      "text/plain": [
       "['rh_V1d.1D.roi',\n",
       " 'lh_V1d.1D.roi',\n",
       " 'rh_V1v.1D.dset',\n",
       " 'lh_V1v.nii.gz',\n",
       " 'rh_V1v.nii.gz',\n",
       " 'lh_V1d.1D.dset',\n",
       " 'rh_V1v.1D.roi',\n",
       " 'lh_V1v.1D.roi',\n",
       " 'lh_V1v.1D.dset',\n",
       " 'lh_V1d.nii.gz',\n",
       " 'rh_V1d.nii.gz',\n",
       " 'rh_V1d.1D.dset']"
      ]
     },
     "execution_count": 47,
     "metadata": {},
     "output_type": "execute_result"
    }
   ],
   "source": [
    "files = os.listdir(folder)\n",
    "[f for f in files if 'V1' in f]"
   ]
  },
  {
   "cell_type": "code",
   "execution_count": 48,
   "id": "827f1304-d9bc-4bae-b1e6-1fe780e170f4",
   "metadata": {},
   "outputs": [
    {
     "name": "stdout",
     "output_type": "stream",
     "text": [
      "/usr/local/serenceslab/Doreti/FUNC/DA/PreProc/AFNI/rh_hV4.1D.roi\n"
     ]
    }
   ],
   "source": [
    "folder = '/usr/local/serenceslab/Doreti/FUNC/DA/PreProc/AFNI/'\n",
    "file = os.path.join(folder, 'rh_hV4.1D.roi')\n",
    "print(file)"
   ]
  },
  {
   "cell_type": "code",
   "execution_count": 44,
   "id": "c7b538e9-09f4-4d55-8fd1-f66e9ea673c9",
   "metadata": {},
   "outputs": [
    {
     "name": "stdout",
     "output_type": "stream",
     "text": [
      "/usr/local/serenceslab/maggie/shapeDim/VOIs/from_afni/rh_hV4.nii\n"
     ]
    }
   ],
   "source": [
    "newfolder = '/usr/local/serenceslab/maggie/shapeDim/VOIs/from_afni/'\n",
    "if not os.path.exists(newfolder):\n",
    "    os.makedirs(newfolder)\n",
    "newfile = os.path.join(newfolder, 'rh_hV4.nii')\n",
    "print(newfile)"
   ]
  },
  {
   "cell_type": "code",
   "execution_count": 49,
   "id": "fdaaefa4-001c-49a8-80b7-497a3a7e5fed",
   "metadata": {},
   "outputs": [
    {
     "data": {
      "text/plain": [
       "0"
      ]
     },
     "execution_count": 49,
     "metadata": {},
     "output_type": "execute_result"
    }
   ],
   "source": [
    "cmd = 'ROI2dataset -prefix %s '%newfile.split('.nii')[0] +\\\n",
    "    '-of 1D ' + \\\n",
    "    '-input %s'%file\n",
    "err = subprocess.call(cmd, shell=True)\n",
    "err"
   ]
  },
  {
   "cell_type": "code",
   "execution_count": null,
   "id": "a090051c-3a6c-42a9-9709-982b1d45086d",
   "metadata": {},
   "outputs": [],
   "source": []
  },
  {
   "cell_type": "code",
   "execution_count": null,
   "id": "7b5f4cc4-f9f2-4a56-9b91-724d7c71eb7a",
   "metadata": {},
   "outputs": [],
   "source": [
    "# % convert .dset files (surface) to .nii.gz files (volume)\n",
    "cmd = '3dSurf2Vol -spec $SUBJECTS_DIR/' SUBJ '/SUMA/' SUBJ '_' hemis{hemi} '.spec \\'...\n",
    "    '-surf_A smoothwm \\'...\n",
    "    '-surf_B pial \\'...\n",
    "    '-sv $SUBJECTS_DIR/' SUBJ '/SUMA/' SUBJ '_SurfVol.nii \\'...\n",
    "    '-grid_parent REG_MC_DET_ZNORM_VB_avg.nii.gz \\'...\n",
    "    '-map_func max \\'...\n",
    "    '-f_steps 10 \\'...\n",
    "    '-f_p1_fr      -0.1  \\'...\n",
    "    '-f_pn_fr      -0.1  \\'...\n",
    "    '-f_index voxels  \\'...\n",
    "    '-sdata_1D ' roi_label '.1D.dset \\'...\n",
    "    '-prefix ' roi_label '.nii.gz']);"
   ]
  },
  {
   "cell_type": "code",
   "execution_count": 45,
   "id": "187d03a1-2617-4f94-ac28-95658bf49460",
   "metadata": {},
   "outputs": [
    {
     "data": {
      "text/plain": [
       "1"
      ]
     },
     "execution_count": 45,
     "metadata": {},
     "output_type": "execute_result"
    }
   ],
   "source": [
    "cmd = '3dAFNItoNIFTI -prefix %s '%(newfile.split('.nii.gz')[0]) +\\\n",
    "      '-verb %s'%file\n",
    "\n",
    "err = subprocess.call(cmd, shell=True)\n",
    "err"
   ]
  },
  {
   "cell_type": "code",
   "execution_count": 35,
   "id": "ad3a294f-6300-40b3-a40a-1b0785884bf0",
   "metadata": {},
   "outputs": [
    {
     "data": {
      "text/plain": [
       "'3dAFNItoNIFTI -prefix /usr/local/serenceslab/maggie/shapeDim/VOIs/from_afni/rh_hV4.nii -verb /usr/local/serenceslab/Doreti/FUNC/DA/PreProc/AFNI/rh_hV4.1D.roi'"
      ]
     },
     "execution_count": 35,
     "metadata": {},
     "output_type": "execute_result"
    }
   ],
   "source": [
    "cmd"
   ]
  },
  {
   "cell_type": "code",
   "execution_count": 36,
   "id": "d7c35d81-65d4-4f47-94ca-6d63febcd2f2",
   "metadata": {},
   "outputs": [
    {
     "data": {
      "text/plain": [
       "'/usr/local/serenceslab/maggie/shapeDim/VOIs/from_afni/rh_hV4.nii'"
      ]
     },
     "execution_count": 36,
     "metadata": {},
     "output_type": "execute_result"
    }
   ],
   "source": [
    "newfile"
   ]
  },
  {
   "cell_type": "code",
   "execution_count": 41,
   "id": "05a43c30-9f25-4c5e-8c03-bccf3598bb37",
   "metadata": {},
   "outputs": [
    {
     "data": {
      "text/plain": [
       "(737, 1, 1, 1, 2)"
      ]
     },
     "execution_count": 41,
     "metadata": {},
     "output_type": "execute_result"
    }
   ],
   "source": [
    "r = nib.load(newfile)\n",
    "r = np.array(r.get_fdata())\n",
    "r.shape"
   ]
  },
  {
   "cell_type": "code",
   "execution_count": 42,
   "id": "fdead2a0-9415-4bbd-95be-624ad6c2e2a8",
   "metadata": {},
   "outputs": [
    {
     "data": {
      "text/plain": [
       "array([[5.662e+03, 1.000e+00],\n",
       "       [5.663e+03, 1.000e+00],\n",
       "       [5.683e+03, 1.000e+00],\n",
       "       [5.684e+03, 1.000e+00],\n",
       "       [5.700e+03, 1.000e+00],\n",
       "       [5.701e+03, 1.000e+00],\n",
       "       [5.715e+03, 1.000e+00],\n",
       "       [5.716e+03, 1.000e+00],\n",
       "       [5.717e+03, 1.000e+00],\n",
       "       [6.399e+03, 1.000e+00]])"
      ]
     },
     "execution_count": 42,
     "metadata": {},
     "output_type": "execute_result"
    }
   ],
   "source": [
    "r[0:10,0,0,0,:]"
   ]
  }
 ],
 "metadata": {
  "kernelspec": {
   "display_name": "Python 3",
   "language": "python",
   "name": "python3"
  },
  "language_info": {
   "codemirror_mode": {
    "name": "ipython",
    "version": 3
   },
   "file_extension": ".py",
   "mimetype": "text/x-python",
   "name": "python",
   "nbconvert_exporter": "python",
   "pygments_lexer": "ipython3",
   "version": "3.7.10"
  }
 },
 "nbformat": 4,
 "nbformat_minor": 5
}
