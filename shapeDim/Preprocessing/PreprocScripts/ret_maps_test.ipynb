{
 "cells": [
  {
   "cell_type": "code",
   "execution_count": 54,
   "id": "3ab8d6d5-c707-434f-8cc9-11e473a2f8e6",
   "metadata": {},
   "outputs": [],
   "source": [
    "import os, sys\n",
    "import numpy as np\n",
    "import nibabel as nib\n",
    "import matplotlib.pyplot as plt\n",
    "import subprocess"
   ]
  },
  {
   "cell_type": "code",
   "execution_count": 55,
   "id": "3cd69efa-14bc-48e7-90ef-12fb04407731",
   "metadata": {},
   "outputs": [
    {
     "data": {
      "text/plain": [
       "(80, 80, 88, 14)"
      ]
     },
     "execution_count": 55,
     "metadata": {},
     "output_type": "execute_result"
    }
   ],
   "source": [
    "folder = '/usr/local/serenceslab/Doreti/FUNC/DF/PreProc/AFNI'\n",
    "file = 'sfaout_polar+orig'\n",
    "\n",
    "im = nib.load(os.path.join(folder, file+'.BRIK'))\n",
    "\n",
    "dat = np.array(im.get_fdata())\n",
    "dat.shape"
   ]
  },
  {
   "cell_type": "code",
   "execution_count": 77,
   "id": "007b8917-fafa-45f5-9d83-8f591b916ab2",
   "metadata": {},
   "outputs": [
    {
     "name": "stdout",
     "output_type": "stream",
     "text": [
      "3dcalc -a '/usr/local/serenceslab/Doreti/FUNC/DF/PreProc/AFNI/sfaout_polar+orig[13]' -expr 'a/2/pi*360 + 180' -prefix /usr/local/serenceslab/Doreti/FUNC/DF/PreProc/AFNI/polar_phz_adj_MMH\n"
     ]
    }
   ],
   "source": [
    "file_orig = os.path.join(folder, file)\n",
    "file_new = os.path.join(folder, 'polar_phz_adj_MMH')\n",
    "expr = \"'a/2/pi*360 + 180'\"\n",
    "a = \"'%s[13]'\"%file_orig\n",
    "\n",
    "cmd = '3dcalc -a %s -expr %s -prefix %s'%(a, expr, file_new)\n",
    "print(cmd)\n",
    "err = subprocess.call(cmd, shell=True)"
   ]
  },
  {
   "cell_type": "code",
   "execution_count": 79,
   "id": "9a167c0c-0dbf-449a-b827-dc29d1f56041",
   "metadata": {},
   "outputs": [
    {
     "name": "stdout",
     "output_type": "stream",
     "text": [
      "/usr/local/serenceslab/Doreti/FUNC/DF/PreProc/AFNI/polar_phz_adj_MMH+orig.BRIK\n"
     ]
    },
    {
     "data": {
      "text/plain": [
       "(80, 80, 88, 14)"
      ]
     },
     "execution_count": 79,
     "metadata": {},
     "output_type": "execute_result"
    }
   ],
   "source": [
    "im = nib.load(file_new + '+orig.BRIK')\n",
    "print(file_new + '+orig.BRIK')\n",
    "dat = np.array(im.get_fdata())\n",
    "dat.shape"
   ]
  },
  {
   "cell_type": "code",
   "execution_count": 66,
   "id": "1c05d938-8b69-4683-a01b-cc0d32a4e972",
   "metadata": {},
   "outputs": [
    {
     "name": "stdout",
     "output_type": "stream",
     "text": [
      "0.023463521152734756 359.96954345703125 180.0\n"
     ]
    },
    {
     "data": {
      "text/plain": [
       "(array([  2264.,   2504.,   3081.,   4431.,   5970., 533350.,   3538.,\n",
       "          3363.,   2582.,   2117.]),\n",
       " array([2.34635212e-02, 3.60180715e+01, 7.20126795e+01, 1.08007288e+02,\n",
       "        1.44001895e+02, 1.79996503e+02, 2.15991111e+02, 2.51985719e+02,\n",
       "        2.87980327e+02, 3.23974935e+02, 3.59969543e+02]),\n",
       " <BarContainer object of 10 artists>)"
      ]
     },
     "execution_count": 66,
     "metadata": {},
     "output_type": "execute_result"
    },
    {
     "data": {
      "image/png": "[encoded data removed]",
      "text/plain": [
       "<Figure size 432x288 with 1 Axes>"
      ]
     },
     "metadata": {
      "needs_background": "light"
     },
     "output_type": "display_data"
    }
   ],
   "source": [
    "vals =dat[:,:,:,13]\n",
    "\n",
    "vals = vals[vals>0]\n",
    "\n",
    "print(np.min(vals), np.max(vals), np.median(vals))\n",
    "\n",
    "plt.figure()\n",
    "plt.hist(vals.ravel())"
   ]
  },
  {
   "cell_type": "code",
   "execution_count": 32,
   "id": "0dfeca32-28ae-4e6a-9db0-2c4805d37873",
   "metadata": {},
   "outputs": [],
   "source": [
    "phz = dat[:,:,:,9]\n",
    "sigphz = dat[:,:,:,13]"
   ]
  },
  {
   "cell_type": "code",
   "execution_count": 33,
   "id": "839d58de-81b0-4381-af0d-227736da8b39",
   "metadata": {},
   "outputs": [
    {
     "data": {
      "text/plain": [
       "(array([  2264.,   2504.,   3081.,   4431.,   5970., 533350.,   3538.,\n",
       "          3363.,   2582.,   2117.]),\n",
       " array([-3.14118314e+00, -2.51295874e+00, -1.88473434e+00, -1.25650995e+00,\n",
       "        -6.28285551e-01, -6.11543655e-05,  6.28163242e-01,  1.25638764e+00,\n",
       "         1.88461204e+00,  2.51283643e+00,  3.14106083e+00]),\n",
       " <BarContainer object of 10 artists>)"
      ]
     },
     "execution_count": 33,
     "metadata": {},
     "output_type": "execute_result"
    },
    {
     "data": {
      "image/png": "[encoded data removed]",
      "text/plain": [
       "<Figure size 432x288 with 1 Axes>"
      ]
     },
     "metadata": {
      "needs_background": "light"
     },
     "output_type": "display_data"
    }
   ],
   "source": [
    "\n",
    "vals = sigphz\n",
    "\n",
    "plt.figure()\n",
    "plt.hist(vals.ravel())"
   ]
  },
  {
   "cell_type": "code",
   "execution_count": 34,
   "id": "39098884-7dff-4db9-a73d-87d95de4922f",
   "metadata": {},
   "outputs": [
    {
     "data": {
      "text/plain": [
       "(array([ 36433.,  37240.,  39761.,  43228., 205684.,  46809.,  41820.,\n",
       "         38994.,  36807.,  36424.]),\n",
       " array([-3.14148688e+00, -2.51317940e+00, -1.88487191e+00, -1.25656443e+00,\n",
       "        -6.28256941e-01,  5.05447388e-05,  6.28358030e-01,  1.25666552e+00,\n",
       "         1.88497300e+00,  2.51328049e+00,  3.14158797e+00]),\n",
       " <BarContainer object of 10 artists>)"
      ]
     },
     "execution_count": 34,
     "metadata": {},
     "output_type": "execute_result"
    },
    {
     "data": {
      "image/png": "[encoded data removed]",
      "text/plain": [
       "<Figure size 432x288 with 1 Axes>"
      ]
     },
     "metadata": {
      "needs_background": "light"
     },
     "output_type": "display_data"
    }
   ],
   "source": [
    "vals = phz\n",
    "\n",
    "plt.figure()\n",
    "plt.hist(vals.ravel())"
   ]
  },
  {
   "cell_type": "code",
   "execution_count": 35,
   "id": "4c29d229-9454-4d63-98f3-87c4e4cbf90d",
   "metadata": {},
   "outputs": [
    {
     "name": "stdout",
     "output_type": "stream",
     "text": [
      "0.023463521031828805 359.96952870487974 176.71195034865045\n"
     ]
    },
    {
     "data": {
      "text/plain": [
       "(array([2264., 2504., 3081., 4431., 5970., 5303., 3538., 3363., 2582.,\n",
       "        2117.]),\n",
       " array([2.34635210e-02, 3.60180700e+01, 7.20126766e+01, 1.08007283e+02,\n",
       "        1.44001890e+02, 1.79996496e+02, 2.15991103e+02, 2.51985709e+02,\n",
       "        2.87980316e+02, 3.23974922e+02, 3.59969529e+02]),\n",
       " <BarContainer object of 10 artists>)"
      ]
     },
     "execution_count": 35,
     "metadata": {},
     "output_type": "execute_result"
    },
    {
     "data": {
      "image/png": "[encoded data removed]",
      "text/plain": [
       "<Figure size 432x288 with 1 Axes>"
      ]
     },
     "metadata": {
      "needs_background": "light"
     },
     "output_type": "display_data"
    }
   ],
   "source": [
    "phz_adj = phz/2/np.pi*360 + 180\n",
    "\n",
    "phz_adj[sigphz==0] = -1\n",
    "\n",
    "vals = phz_adj[phz_adj>0]\n",
    "\n",
    "print(np.min(vals), np.max(vals), np.median(vals))\n",
    "\n",
    "plt.figure()\n",
    "plt.hist(vals.ravel())"
   ]
  },
  {
   "cell_type": "code",
   "execution_count": 27,
   "id": "ec6e56c9-ac3c-493d-a5a3-0679dc09c717",
   "metadata": {},
   "outputs": [
    {
     "data": {
      "text/plain": [
       "(80, 80, 88)"
      ]
     },
     "execution_count": 27,
     "metadata": {},
     "output_type": "execute_result"
    }
   ],
   "source": [
    "phz_adj.shape"
   ]
  },
  {
   "cell_type": "code",
   "execution_count": 51,
   "id": "7ff4b679-edb2-442a-a0f2-2b3020fe5a90",
   "metadata": {},
   "outputs": [],
   "source": [
    "# newfile = os.path.join(folder, 'polar_phz_adj_MMH.nii')\n",
    "newfile = os.path.join(folder, 'polar_phz_adj_MMH.BRIK')"
   ]
  },
  {
   "cell_type": "code",
   "execution_count": 52,
   "id": "b0613c51-a750-4e34-9875-a7618acba299",
   "metadata": {},
   "outputs": [
    {
     "name": "stdout",
     "output_type": "stream",
     "text": [
      "/usr/local/serenceslab/Doreti/FUNC/DF/PreProc/AFNI/polar_phz_adj_MMH+orig.BRIK\n"
     ]
    },
    {
     "ename": "ImageFileError",
     "evalue": "Cannot work out file type of \"/usr/local/serenceslab/Doreti/FUNC/DF/PreProc/AFNI/polar_phz_adj_MMH+orig.BRIK\"",
     "output_type": "error",
     "traceback": [
      "\u001b[0;31m---------------------------------------------------------------------------\u001b[0m",
      "\u001b[0;31mImageFileError\u001b[0m                            Traceback (most recent call last)",
      "\u001b[0;32m<ipython-input-52-28d66cfc08ca>\u001b[0m in \u001b[0;36m<module>\u001b[0;34m\u001b[0m\n\u001b[1;32m      1\u001b[0m \u001b[0mim_new\u001b[0m \u001b[0;34m=\u001b[0m \u001b[0mnib\u001b[0m\u001b[0;34m.\u001b[0m\u001b[0mNifti1Image\u001b[0m\u001b[0;34m(\u001b[0m\u001b[0mphz_adj\u001b[0m\u001b[0;34m[\u001b[0m\u001b[0;34m:\u001b[0m\u001b[0;34m,\u001b[0m\u001b[0;34m:\u001b[0m\u001b[0;34m,\u001b[0m\u001b[0;34m:\u001b[0m\u001b[0;34m,\u001b[0m\u001b[0;32mNone\u001b[0m\u001b[0;34m]\u001b[0m\u001b[0;34m,\u001b[0m \u001b[0mim\u001b[0m\u001b[0;34m.\u001b[0m\u001b[0maffine\u001b[0m\u001b[0;34m,\u001b[0m \u001b[0mim\u001b[0m\u001b[0;34m.\u001b[0m\u001b[0mheader\u001b[0m\u001b[0;34m)\u001b[0m\u001b[0;34m\u001b[0m\u001b[0;34m\u001b[0m\u001b[0m\n\u001b[1;32m      2\u001b[0m \u001b[0mprint\u001b[0m\u001b[0;34m(\u001b[0m\u001b[0mnewfile\u001b[0m\u001b[0;34m)\u001b[0m\u001b[0;34m\u001b[0m\u001b[0;34m\u001b[0m\u001b[0m\n\u001b[0;32m----> 3\u001b[0;31m \u001b[0mnib\u001b[0m\u001b[0;34m.\u001b[0m\u001b[0msave\u001b[0m\u001b[0;34m(\u001b[0m\u001b[0mim_new\u001b[0m\u001b[0;34m,\u001b[0m \u001b[0mnewfile\u001b[0m\u001b[0;34m)\u001b[0m\u001b[0;34m\u001b[0m\u001b[0;34m\u001b[0m\u001b[0m\n\u001b[0m",
      "\u001b[0;32m/usr/local/serenceslab/maggie/conda_envs/shape_dim/lib/python3.7/site-packages/nibabel/loadsave.py\u001b[0m in \u001b[0;36msave\u001b[0;34m(img, filename, **kwargs)\u001b[0m\n\u001b[1;32m    181\u001b[0m                          if ext in klass.valid_exts]\n\u001b[1;32m    182\u001b[0m         \u001b[0;32mif\u001b[0m \u001b[0;32mnot\u001b[0m \u001b[0mvalid_klasses\u001b[0m\u001b[0;34m:\u001b[0m  \u001b[0;31m# if list is empty\u001b[0m\u001b[0;34m\u001b[0m\u001b[0;34m\u001b[0m\u001b[0m\n\u001b[0;32m--> 183\u001b[0;31m             \u001b[0;32mraise\u001b[0m \u001b[0mImageFileError\u001b[0m\u001b[0;34m(\u001b[0m\u001b[0;34mf'Cannot work out file type of \"{filename}\"'\u001b[0m\u001b[0;34m)\u001b[0m\u001b[0;34m\u001b[0m\u001b[0;34m\u001b[0m\u001b[0m\n\u001b[0m\u001b[1;32m    184\u001b[0m \u001b[0;34m\u001b[0m\u001b[0m\n\u001b[1;32m    185\u001b[0m         \u001b[0;31m# Got a list of valid extensions, but that's no guarantee\u001b[0m\u001b[0;34m\u001b[0m\u001b[0;34m\u001b[0m\u001b[0;34m\u001b[0m\u001b[0m\n",
      "\u001b[0;31mImageFileError\u001b[0m: Cannot work out file type of \"/usr/local/serenceslab/Doreti/FUNC/DF/PreProc/AFNI/polar_phz_adj_MMH+orig.BRIK\""
     ]
    }
   ],
   "source": [
    "im_new = nib.Nifti1Image(phz_adj[:,:,:,None], im.affine, im.header)\n",
    "print(newfile)\n",
    "nib.save(im_new, newfile)"
   ]
  },
  {
   "cell_type": "code",
   "execution_count": 46,
   "id": "ec44471a-bced-4877-9570-4c7d9303d298",
   "metadata": {},
   "outputs": [
    {
     "name": "stdout",
     "output_type": "stream",
     "text": [
      "/usr/local/serenceslab/Doreti/FUNC/DF/PreProc/AFNI/polar_phz_adj_MMH.nii\n"
     ]
    },
    {
     "data": {
      "text/plain": [
       "(80, 80, 88, 1)"
      ]
     },
     "execution_count": 46,
     "metadata": {},
     "output_type": "execute_result"
    }
   ],
   "source": [
    "print(newfile)\n",
    "d = np.array(nib.load(newfile).get_fdata())\n",
    "d.shape"
   ]
  },
  {
   "cell_type": "code",
   "execution_count": 7,
   "id": "b23ef089-d00c-4bd8-b17c-aa24d382fc38",
   "metadata": {},
   "outputs": [
    {
     "name": "stdout",
     "output_type": "stream",
     "text": [
      "0\n",
      "-323.00518798828125 322.2270202636719 0.013295419244046128\n",
      "1\n",
      "-321.7591857910156 319.6065979003906 0.024798276349058557\n",
      "2\n",
      "-311.0416259765625 313.04876708984375 0.06640800584474087\n",
      "3\n",
      "0.0 9478.8662109375 6.932396966342379\n",
      "4\n",
      "-70.02216339111328 77.32960510253906 -0.0008574184684112726\n",
      "5\n",
      "-73.30111694335938 96.70494079589844 0.09492697588288701\n",
      "6\n",
      "2.8382081985473633 100000.0 28111.879152650647\n",
      "7\n",
      "-23528.388671875 24168.87109375 17.61467885859723\n",
      "8\n",
      "-21287.20703125 33735.38671875 1.1835838914472785\n",
      "9\n",
      "-3.141486883163452 3.141587972640991 -0.007116027893804517\n",
      "10\n",
      "-250.85110473632812 11208.1123046875 470.06506581277057\n",
      "11\n",
      "-5.29074441146804e-07 6.255195330595598e-07 -4.164622631097846e-11\n",
      "12\n",
      "0.0 41499.5234375 119.5767014643399\n",
      "13\n",
      "-3.1411831378936768 3.1410608291625977 -0.0015595467127350173\n"
     ]
    }
   ],
   "source": [
    "for ii in range(14):\n",
    "\n",
    "    vals = dat[:,:,:,ii]\n",
    "\n",
    "    print(ii)\n",
    "    print(np.min(vals), np.max(vals), np.mean(vals))"
   ]
  },
  {
   "cell_type": "code",
   "execution_count": null,
   "id": "2f7b216c-70b9-4340-8305-39abcc64b8be",
   "metadata": {},
   "outputs": [],
   "source": []
  }
 ],
 "metadata": {
  "kernelspec": {
   "display_name": "Python 3",
   "language": "python",
   "name": "python3"
  },
  "language_info": {
   "codemirror_mode": {
    "name": "ipython",
    "version": 3
   },
   "file_extension": ".py",
   "mimetype": "text/x-python",
   "name": "python",
   "nbconvert_exporter": "python",
   "pygments_lexer": "ipython3",
   "version": "3.7.10"
  }
 },
 "nbformat": 4,
 "nbformat_minor": 5
}
