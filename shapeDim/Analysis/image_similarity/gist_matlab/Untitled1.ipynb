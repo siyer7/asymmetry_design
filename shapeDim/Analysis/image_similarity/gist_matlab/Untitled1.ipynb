{
 "cells": [
  {
   "cell_type": "code",
   "execution_count": 1,
   "id": "82a2ac0f-6943-433d-9983-d56120d8e762",
   "metadata": {},
   "outputs": [
    {
     "ename": "ModuleNotFoundError",
     "evalue": "No module named 'simclr'",
     "output_type": "error",
     "traceback": [
      "\u001b[0;31m---------------------------------------------------------------------------\u001b[0m",
      "\u001b[0;31mModuleNotFoundError\u001b[0m                       Traceback (most recent call last)",
      "\u001b[0;32m<ipython-input-1-3dd07fd2724f>\u001b[0m in \u001b[0;36m<module>\u001b[0;34m\u001b[0m\n\u001b[0;32m----> 1\u001b[0;31m \u001b[0;32mimport\u001b[0m \u001b[0msimclr\u001b[0m\u001b[0;34m\u001b[0m\u001b[0;34m\u001b[0m\u001b[0m\n\u001b[0m",
      "\u001b[0;31mModuleNotFoundError\u001b[0m: No module named 'simclr'"
     ]
    }
   ],
   "source": [
    "import simclr\n"
   ]
  },
  {
   "cell_type": "code",
   "execution_count": 3,
   "id": "e27dd123-f7d6-41ce-9882-52bc25c0955f",
   "metadata": {},
   "outputs": [
    {
     "data": {
      "text/plain": [
       "['/mnt/neurocube/local/serenceslab/maggie/shapeDim/Analysis/image_similarity/gist_matlab',\n",
       " '/usr/local/serenceslab/maggie/conda_envs/shape_dim/lib/python37.zip',\n",
       " '/usr/local/serenceslab/maggie/conda_envs/shape_dim/lib/python3.7',\n",
       " '/usr/local/serenceslab/maggie/conda_envs/shape_dim/lib/python3.7/lib-dynload',\n",
       " '',\n",
       " '/usr/local/serenceslab/maggie/conda_envs/shape_dim/lib/python3.7/site-packages',\n",
       " '/usr/local/serenceslab/maggie/conda_envs/shape_dim/lib/python3.7/site-packages/IPython/extensions',\n",
       " '/mnt/neurocube/home/mmhender/.ipython']"
      ]
     },
     "execution_count": 3,
     "metadata": {},
     "output_type": "execute_result"
    }
   ],
   "source": [
    "sys.path"
   ]
  },
  {
   "cell_type": "code",
   "execution_count": 2,
   "id": "f9b4255f-9733-4f7a-843c-52343e8fa52f",
   "metadata": {},
   "outputs": [
    {
     "data": {
      "text/plain": [
       "'/usr/local/serenceslab/maggie/conda_envs/shape_dim/bin/python'"
      ]
     },
     "execution_count": 2,
     "metadata": {},
     "output_type": "execute_result"
    }
   ],
   "source": [
    "import sys\n",
    "sys.executable"
   ]
  }
 ],
 "metadata": {
  "kernelspec": {
   "display_name": "Python [conda env:shape_dim]",
   "language": "python",
   "name": "conda-env-shape_dim-py"
  },
  "language_info": {
   "codemirror_mode": {
    "name": "ipython",
    "version": 3
   },
   "file_extension": ".py",
   "mimetype": "text/x-python",
   "name": "python",
   "nbconvert_exporter": "python",
   "pygments_lexer": "ipython3",
   "version": "3.7.10"
  }
 },
 "nbformat": 4,
 "nbformat_minor": 5
}
