{
 "cells": [
  {
   "cell_type": "code",
   "execution_count": 1,
   "id": "f32c0363-0598-489e-95ee-48129d8faaee",
   "metadata": {},
   "outputs": [],
   "source": [
    "import numpy as np\n",
    "import matplotlib.pyplot as plt\n",
    "from matplotlib import cm\n",
    "import os, sys\n",
    "import pandas as pd\n",
    "import sklearn\n",
    "import sklearn.svm, sklearn.discriminant_analysis, sklearn.linear_model\n",
    "import time\n",
    "import scipy.stats\n",
    "import statsmodels\n",
    "from statsmodels.stats.anova import AnovaRM\n",
    "import copy\n",
    "\n",
    "\n",
    "root = '/usr/local/serenceslab/maggie/shapeDim/'\n",
    "\n",
    "sys.path.append(os.path.join(root, 'Analysis'))\n",
    "from code_utils import file_utils, data_utils\n",
    "from code_utils import decoding_utils\n",
    "from code_utils import stats_utils, plot_utils\n"
   ]
  },
  {
   "cell_type": "code",
   "execution_count": 2,
   "id": "6818bef5-eb13-454c-8275-50e5f9e09050",
   "metadata": {},
   "outputs": [],
   "source": [
    "task_names = ['Linear (1)','Linear (2)','Checker', 'Repeat'];\n",
    "n_tasks = len(task_names)\n",
    "task_colors = np.flipud(cm.GnBu(np.linspace(0,1,5))[1:,:])\n",
    "\n",
    "n_subjects = 10\n",
    "# n_subjects = 3;\n",
    "# subjects = np.arange(8, 11)\n",
    "subjects = np.arange(1, 11)\n",
    "subcolors = cm.Dark2(np.linspace(0,1,n_subjects))"
   ]
  },
  {
   "cell_type": "code",
   "execution_count": 3,
   "id": "d82ebade-17f9-4ea7-8ef8-60166c85b596",
   "metadata": {},
   "outputs": [],
   "source": [
    "lab = dict()\n",
    "for ss in subjects:\n",
    "    \n",
    "    # get labels for all the trials, this subject\n",
    "    main_labels = data_utils.load_main_task_labels(ss)\n",
    "    rep_labels = data_utils.load_repeat_task_labels(ss)\n",
    "    lab[ss] = pd.concat([main_labels, rep_labels], axis=0)\n",
    "   "
   ]
  },
  {
   "cell_type": "code",
   "execution_count": 4,
   "id": "02ea79a8-8d62-4c12-ab2f-97e99674a4eb",
   "metadata": {},
   "outputs": [],
   "source": [
    "from code_utils import grid_utils\n",
    "grid_pts = grid_utils.get_main_grid()\n",
    "# NOTE i am swapping the columns here\n",
    "# because this is the order you get from doing np.unique(pts)\n",
    "# this is the actual order that the predictions 1-16 of this classifier\n",
    "# correspond to. \n",
    "grid_pts = grid_pts[:,[1,0]] "
   ]
  },
  {
   "cell_type": "code",
   "execution_count": 5,
   "id": "089e0fb3-3afd-42b6-9a44-9ef1707b888f",
   "metadata": {},
   "outputs": [],
   "source": [
    "# save_folder = os.path.join(root, 'Analysis', 'decoding_results')\n",
    "# save_filename = os.path.join(save_folder, 'decode_multiclass_withintask.npy')\n",
    "# dec_withintask = np.load(save_filename, allow_pickle=True).item()\n",
    "# dec_withintask.keys()\n"
   ]
  },
  {
   "cell_type": "code",
   "execution_count": 6,
   "id": "de5caf97-7d62-4f39-9b85-6d41368c564c",
   "metadata": {},
   "outputs": [
    {
     "name": "stdout",
     "output_type": "stream",
     "text": [
      "/usr/local/serenceslab/maggie/shapeDim/Analysis/decoding_results/decode_multiclass_withintask.npy\n",
      "Fri Jun  2 12:40:24 2023\n",
      "/usr/local/serenceslab/maggie/shapeDim/Analysis/decoding_results/decode_multiclass_withintask_newsubs.npy\n",
      "Tue Aug 13 08:41:26 2024\n",
      "acc_bytask\n",
      "(10, 8, 4)\n",
      "dprime_bytask\n",
      "(10, 8, 4)\n",
      "preds_all\n",
      "dict_keys([0, 1, 2, 3, 4, 5, 6, 7, 8, 9])\n",
      "probs_all\n",
      "dict_keys([0, 1, 2, 3, 4, 5, 6, 7, 8, 9])\n",
      "acc_each_cval\n",
      "(10, 8, 4, 12, 20)\n",
      "best_cval\n",
      "(10, 8, 4, 12)\n",
      "grid_pts\n",
      "(32, 2)\n",
      "roi_names\n",
      "(16,)\n"
     ]
    }
   ],
   "source": [
    "save_folder = os.path.join(root, 'Analysis', 'decoding_results')\n",
    "\n",
    "save_filename1 = os.path.join(save_folder, 'decode_multiclass_withintask.npy')\n",
    "print(save_filename1)\n",
    "print(time.ctime(os.path.getmtime(save_filename1)))\n",
    "dec_withintask1 = np.load(save_filename1, allow_pickle=True).item()\n",
    "\n",
    "save_filename2 = os.path.join(save_folder, 'decode_multiclass_withintask_newsubs.npy')\n",
    "print(save_filename2)\n",
    "print(time.ctime(os.path.getmtime(save_filename2)))\n",
    "dec_withintask2 = np.load(save_filename2, allow_pickle=True).item()\n",
    "dec_withintask2.keys()\n",
    "\n",
    "dec_withintask = dict([])\n",
    "for kk in list(dec_withintask1.keys()):\n",
    "    print(kk)\n",
    "    if kk not in ['preds_all','probs_all']:\n",
    "        # print(dec_withintask1[kk].shape)\n",
    "        dec_withintask[kk] = np.concatenate([dec_withintask1[kk], dec_withintask2[kk]], axis=0)\n",
    "        print(dec_withintask[kk].shape)\n",
    "    else:\n",
    "        dec_withintask[kk] = dec_withintask1[kk]\n",
    "        # print(dec_withintask1[kk].keys())\n",
    "        for si in dec_withintask2[kk].keys():\n",
    "            # print(si, si+7)\n",
    "            dec_withintask[kk][si+7] = dec_withintask2[kk][si]\n",
    "        print(dec_withintask[kk].keys())\n",
    "        \n",
    "dec_withintask['roi_names'] = dec_withintask1['roi_names']\n",
    "dec_withintask['grid_pts'] = dec_withintask1['grid_pts']"
   ]
  },
  {
   "cell_type": "code",
   "execution_count": 7,
   "id": "182368f3-e4ad-4f6e-bec2-ce2176bae98e",
   "metadata": {},
   "outputs": [
    {
     "data": {
      "text/plain": [
       "['V1', 'V2', 'V3', 'V3AB', 'hV4', 'LO1', 'LO2', 'IPS']"
      ]
     },
     "execution_count": 7,
     "metadata": {},
     "output_type": "execute_result"
    }
   ],
   "source": [
    "roi_names = dec_withintask['roi_names']\n",
    "roi_names[-1] = 'IPS'\n",
    "n_rois = len(roi_names)\n",
    "roi_names"
   ]
  },
  {
   "cell_type": "markdown",
   "id": "550f945f-6eaf-4e21-bb93-f138eb256ccd",
   "metadata": {
    "tags": []
   },
   "source": [
    "#### Compute binary classification accuracy for different sets of trials\n",
    "Far = furthest rows from boundary\n",
    "\n",
    "Middle = closer rows to boundary, but still in main grid\n"
   ]
  },
  {
   "cell_type": "code",
   "execution_count": 8,
   "id": "c69460c0-7c01-4edd-8e45-e9397f618e3f",
   "metadata": {},
   "outputs": [],
   "source": [
    "n_tasks = 4\n",
    "\n",
    "conf_fartrials = np.zeros((n_subjects, n_rois, n_tasks, 2))\n",
    "dprime_fartrials = np.zeros((n_subjects, n_rois, n_tasks, 2))\n",
    "acc_fartrials = np.zeros((n_subjects, n_rois, n_tasks, 2))\n",
    "\n",
    "conf_midtrials = np.zeros((n_subjects, n_rois, n_tasks, 2))\n",
    "dprime_midtrials = np.zeros((n_subjects, n_rois, n_tasks, 2))\n",
    "acc_midtrials = np.zeros((n_subjects, n_rois, n_tasks, 2))\n",
    "\n",
    "for si, ss in enumerate(subjects):\n",
    "\n",
    "    # loop over tasks\n",
    "    for ti, tt in enumerate([1,2,3,4]):\n",
    "        \n",
    "        l = lab[ss][lab[ss]['task']==tt]\n",
    "        \n",
    "        pt_labs = np.array([l['ptx'], l['pty']]).T\n",
    "        \n",
    "        is_main_grid = l['is_main_grid']==1\n",
    "        \n",
    "        # use correct trials only here\n",
    "        correct = np.array(l['subject_correct'])\n",
    "        \n",
    "        # loop over \"axes\" - which boundary to compute accuracy for\n",
    "        for ii in [0,1]:\n",
    "\n",
    "            categ_actual = l['categ_task%d'%(ii+1)]\n",
    "            coord_actual = pt_labs[:,ii].round(2)\n",
    "           \n",
    "            # far is the furthest from bound\n",
    "            # middle is second furthest\n",
    "            dist_from_center = l['dist_from_bound%d'%(ii+1)].round(2)\n",
    "            # is_near = dist_from_center<0.8\n",
    "            is_far = (dist_from_center==2.4) & is_main_grid\n",
    "            is_middle = (dist_from_center==0.8) & is_main_grid\n",
    "           \n",
    "            # loop over ROIs\n",
    "            for ri in range(n_rois):\n",
    "\n",
    "                pred = dec_withintask['preds_all'][si][ri][ti].astype(int)\n",
    "                \n",
    "                # binarize the predictions of 16-way classifier into 2 categories\n",
    "                # based on current axis \"ii\"\n",
    "                coords_pred = grid_pts[pred]\n",
    "                categ_pred = grid_utils.get_categ(coords_pred, ii+1)\n",
    "                \n",
    "                prob = dec_withintask['probs_all'][si][ri][ti]\n",
    "                \n",
    "                # \"confidence\" in assignment to category 2 vs 1\n",
    "                # group the 16 points into categories w/r/t relevant axis\n",
    "                g1 = grid_utils.get_categ(grid_pts, ii+1)==1\n",
    "                p_categ1 = np.sum(prob[:,g1], axis=1)\n",
    "                g2 = grid_utils.get_categ(grid_pts, ii+1)==2\n",
    "                p_categ2 = np.sum(prob[:,g2], axis=1)\n",
    "                \n",
    "                # signed confidence will be: p(correct) - p(incorrect)\n",
    "                signedconf = np.zeros_like(p_categ1)\n",
    "                signedconf[categ_actual==1] = p_categ1[categ_actual==1] - p_categ2[categ_actual==1]\n",
    "                signedconf[categ_actual==2] = p_categ2[categ_actual==2] - p_categ1[categ_actual==2]\n",
    "                \n",
    "                # far trials\n",
    "                inds = is_far & correct\n",
    "                                                          \n",
    "                conf_fartrials[si,ri,ti,ii] = np.mean(signedconf[inds])\n",
    "            \n",
    "                d = stats_utils.get_dprime(categ_pred[inds], categ_actual[inds])\n",
    "                dprime_fartrials[si,ri,ti,ii] = d;\n",
    "                \n",
    "                acc_fartrials[si,ri,ti,ii] = np.mean(categ_pred[inds]==categ_actual[inds])\n",
    "                \n",
    "                # middle trials\n",
    "                inds = is_middle & correct\n",
    "                                                      \n",
    "                conf_midtrials[si,ri,ti,ii] = np.mean(signedconf[inds])\n",
    "            \n",
    "                d = stats_utils.get_dprime(categ_pred[inds], categ_actual[inds])\n",
    "                dprime_midtrials[si,ri,ti,ii] = d;\n",
    "                \n",
    "                acc_midtrials[si,ri,ti,ii] = np.mean(categ_pred[inds]==categ_actual[inds])\n",
    "                \n",
    "                "
   ]
  },
  {
   "cell_type": "code",
   "execution_count": 11,
   "id": "915da9af-7db5-4b3d-adda-270082a23e46",
   "metadata": {},
   "outputs": [],
   "source": [
    "plt.rcParams['pdf.fonttype']=42\n",
    "plot_utils.set_all_font_sizes(fs = 16)\n",
    "figfolder = os.path.join(root, 'Analysis','figures')"
   ]
  },
  {
   "cell_type": "code",
   "execution_count": 13,
   "id": "0f5bd2e3-7213-4c29-a761-1637d33a8421",
   "metadata": {},
   "outputs": [
    {
     "name": "stdout",
     "output_type": "stream",
     "text": [
      "[-0.04542350400620719, 0.8686700305046519]\n",
      "/usr/local/serenceslab/maggie/shapeDim/Analysis/figures/multi_binary_conf_Far.pdf\n",
      "[-0.03898403468950567, 0.5543294697509205]\n",
      "/usr/local/serenceslab/maggie/shapeDim/Analysis/figures/multi_binary_conf_Near.pdf\n"
     ]
    },
    {
     "data": {
      "image/png": "[encoded data removed]",
      "text/plain": [
       "<Figure size 1296x288 with 2 Axes>"
      ]
     },
     "metadata": {
      "needs_background": "light"
     },
     "output_type": "display_data"
    },
    {
     "data": {
      "image/png": "[encoded data removed]",
      "text/plain": [
       "<Figure size 1296x288 with 2 Axes>"
      ]
     },
     "metadata": {
      "needs_background": "light"
     },
     "output_type": "display_data"
    }
   ],
   "source": [
    "ti_plot = [0,1]\n",
    "\n",
    "x_jitter = np.linspace(-0.15, 0.15,2)\n",
    "\n",
    "for conf_vals, name in zip([conf_fartrials, conf_midtrials], \\\n",
    "                     ['Far','Near']):    \n",
    "    \n",
    "    print([np.min(conf_vals.ravel()),np.max(conf_vals.ravel())])\n",
    "    plt.figure(figsize=(18,4))\n",
    "\n",
    "    for ii, axis_name in enumerate(['axis 1 (x)','axis 2 (y)']):\n",
    "\n",
    "        ax = plt.subplot(1,2,ii+1)\n",
    "\n",
    "        plt.axhline(0, color=[0.8, 0.8, 0.8])\n",
    "\n",
    "        lh = []\n",
    "\n",
    "        for ti in ti_plot:\n",
    "\n",
    "            x_ticks = np.arange(n_rois) + x_jitter[ti]\n",
    "\n",
    "            vals = conf_vals[:,:,ti,ii]\n",
    "            meanvals = np.mean(vals, axis=0)\n",
    "            semvals = np.std(vals, axis=0)/np.sqrt(n_subjects)\n",
    "\n",
    "            plt.plot(x_ticks, meanvals, 'o', color=task_colors[ti], alpha=1, \\\n",
    "                     markersize=8, \\\n",
    "                     # markerfacecolor='none', \\\n",
    "                    )\n",
    "            h = plt.errorbar(x_ticks, meanvals, semvals, xerr=None, color=task_colors[ti], linestyle='none')\n",
    "            lh.append(h)\n",
    "            \n",
    "        for ri in range(n_rois):\n",
    "            \n",
    "            meanvals = np.mean(conf_vals[:,ri,ti_plot,ii], axis=0)\n",
    "            plt.plot([ri+x_jitter[0], ri+x_jitter[1]], meanvals,'-',color=[0.6, 0.6, 0.6],zorder=-5)\n",
    "\n",
    "            plt.plot(ri+x_jitter, conf_vals[:,ri,ti_plot,ii].T, '.', color=[0.8, 0.8, 0.8], zorder=-10)\n",
    "            \n",
    "        # plt.ylim([-0.10, 0.90])\n",
    "        plt.ylim([-0.12, 1.0])\n",
    "        \n",
    "        ax.spines['top'].set_visible(False)\n",
    "        ax.spines['right'].set_visible(False)\n",
    "\n",
    "        plt.xticks(np.arange(n_rois), roi_names)\n",
    "        plt.ylabel('confidence')\n",
    "\n",
    "        # plt.legend(lh,np.array(task_names)[ti_plot])\n",
    "\n",
    "        plt.title('decode %s'%axis_name)\n",
    "\n",
    "    plt.suptitle('%s'%name)\n",
    "    \n",
    "    figname = os.path.join(figfolder, 'multi_binary_conf_%s.pdf'%(name))\n",
    "    print(figname)\n",
    "    plt.savefig(figname)\n"
   ]
  },
  {
   "cell_type": "markdown",
   "id": "fd6d9f77-fcb8-4d59-92d5-5b3ab3d88cd7",
   "metadata": {},
   "source": [
    "#### three-way RM anova\n",
    "save result to disk bc shuffled test is very slow"
   ]
  },
  {
   "cell_type": "code",
   "execution_count": 20,
   "id": "6a50e3c2-db8a-43b8-b551-1a09ae141b07",
   "metadata": {},
   "outputs": [
    {
     "name": "stdout",
     "output_type": "stream",
     "text": [
      "/usr/local/serenceslab/maggie/shapeDim/Analysis/figures/decode_16way_binary_conf_lin1vs2_rm_anova_Far.csv\n",
      "/usr/local/serenceslab/maggie/shapeDim/Analysis/figures/decode_16way_binary_conf_lin1vs2_rm_anova_Near.csv\n"
     ]
    }
   ],
   "source": [
    "figfolder = os.path.join(root, 'Analysis','figures')\n",
    "\n",
    "for xx, [cvals, diffname] in enumerate(zip([conf_fartrials, conf_midtrials], \\\n",
    "                        ['Far','Near'])):\n",
    "\n",
    "    \n",
    "    vals = copy.deepcopy(cvals[:,:,0:2,0:2])\n",
    "\n",
    "    anova_result = stats_utils.rmanova_3way(vals, ['ROI','Task','Boundary'], \\\n",
    "                                            # do_shuffle=False)\n",
    "                                           do_shuffle=True, n_iter=10000, rndseed = 675677+xx)\n",
    "\n",
    "    anova_result['Pr > F'] = anova_result['Pr > F'].round(4)\n",
    "\n",
    "    tablename = os.path.join(figfolder, 'decode_16way_binary_conf_lin1vs2_rm_anova_%s.csv'%(diffname))\n",
    "    \n",
    "    print(tablename)\n",
    "    anova_result.to_csv(tablename)"
   ]
  },
  {
   "cell_type": "markdown",
   "id": "c81c0c4c-340c-478f-a31c-bb7f3dcb1099",
   "metadata": {},
   "source": [
    "#### print test results"
   ]
  },
  {
   "cell_type": "code",
   "execution_count": 14,
   "id": "40e73f7b-764e-4967-957a-1759bfb3fe67",
   "metadata": {},
   "outputs": [
    {
     "name": "stdout",
     "output_type": "stream",
     "text": [
      "/usr/local/serenceslab/maggie/shapeDim/Analysis/figures/decode_16way_binary_conf_lin1vs2_rm_anova_Far.csv\n",
      "Thu Dec 12 12:16:25 2024\n",
      "\n",
      "Anova for confidence, Far trials\n",
      "                     F Value  Num DF  Den DF  Pr > F  p (permutation)\n",
      "ROI                54.435483     7.0    63.0  0.0000           0.0000\n",
      "Task                0.218732     1.0     9.0  0.6511           0.6569\n",
      "Boundary           49.963924     1.0     9.0  0.0001           0.0000\n",
      "ROI:Task            0.818205     7.0    63.0  0.5757           0.5706\n",
      "ROI:Boundary        6.583088     7.0    63.0  0.0000           0.0000\n",
      "Task:Boundary       0.035206     1.0     9.0  0.8553           0.8568\n",
      "ROI:Task:Boundary   1.149758     7.0    63.0  0.3444           0.3475\n",
      "/usr/local/serenceslab/maggie/shapeDim/Analysis/figures/decode_16way_binary_conf_lin1vs2_rm_anova_Near.csv\n",
      "Thu Dec 12 12:27:51 2024\n",
      "\n",
      "Anova for confidence, Near trials\n",
      "                     F Value  Num DF  Den DF  Pr > F  p (permutation)\n",
      "ROI                30.129950     7.0    63.0  0.0000           0.0000\n",
      "Task                1.882459     1.0     9.0  0.2033           0.1975\n",
      "Boundary           17.030539     1.0     9.0  0.0026           0.0011\n",
      "ROI:Task            0.386767     7.0    63.0  0.9068           0.9128\n",
      "ROI:Boundary        4.687871     7.0    63.0  0.0003           0.0002\n",
      "Task:Boundary      11.049511     1.0     9.0  0.0089           0.0075\n",
      "ROI:Task:Boundary   0.775511     7.0    63.0  0.6100           0.6281\n"
     ]
    }
   ],
   "source": [
    "for diffname in ['Far','Near']:\n",
    "    \n",
    "    tablename = os.path.join(figfolder, 'decode_16way_binary_conf_lin1vs2_rm_anova_%s.csv'%(diffname))\n",
    "    print(tablename)\n",
    "    print(time.ctime(os.path.getmtime(tablename)))\n",
    "    anova_result = pd.read_csv(tablename, index_col=0)\n",
    "    print('\\nAnova for confidence, %s trials'%(diffname))\n",
    "    \n",
    "    print(anova_result)"
   ]
  },
  {
   "cell_type": "markdown",
   "id": "2a8d5fd4-7110-4b0f-b695-11adcc8acb1f",
   "metadata": {},
   "source": [
    "#### two-way RM anova, within each distance bin"
   ]
  },
  {
   "cell_type": "code",
   "execution_count": 22,
   "id": "fc08a84b-8018-4d83-af78-f54719950d93",
   "metadata": {},
   "outputs": [
    {
     "name": "stdout",
     "output_type": "stream",
     "text": [
      "/usr/local/serenceslab/maggie/shapeDim/Analysis/figures/decode_16way_binary_conf_rm_anova_axis1_Far.csv\n",
      "/usr/local/serenceslab/maggie/shapeDim/Analysis/figures/decode_16way_binary_conf_rm_anova_axis2_Far.csv\n",
      "/usr/local/serenceslab/maggie/shapeDim/Analysis/figures/decode_16way_binary_conf_rm_anova_axis1_Near.csv\n",
      "/usr/local/serenceslab/maggie/shapeDim/Analysis/figures/decode_16way_binary_conf_rm_anova_axis2_Near.csv\n"
     ]
    }
   ],
   "source": [
    "for cvals, diffname in zip([conf_fartrials, conf_midtrials], \\\n",
    "                        ['Far','Near']):\n",
    "\n",
    "    for ii, axis_name in enumerate(['axis1','axis2']):\n",
    "\n",
    "        vals = copy.deepcopy(cvals[:,:,0:2,ii])\n",
    "\n",
    "        anova_result = stats_utils.rmanova_2way(vals, ['ROI','Task'], \\\n",
    "                                                # do_shuffle=False);\n",
    "                                                do_shuffle=True, n_iter=10000, rndseed = 243434+ii)\n",
    "\n",
    "        \n",
    "        anova_result['Pr > F'] = anova_result['Pr > F'].round(4)\n",
    "    \n",
    "        tablename = os.path.join(figfolder, 'decode_16way_binary_conf_rm_anova_%s_%s.csv'%(axis_name, diffname))\n",
    "    \n",
    "        print(tablename)\n",
    "        anova_result.to_csv(tablename)"
   ]
  },
  {
   "cell_type": "code",
   "execution_count": 15,
   "id": "d1d887f3-82bb-4a8a-896c-29f977d7acdf",
   "metadata": {},
   "outputs": [
    {
     "name": "stdout",
     "output_type": "stream",
     "text": [
      "/usr/local/serenceslab/maggie/shapeDim/Analysis/figures/decode_16way_binary_conf_rm_anova_axis1_Far.csv\n",
      "Thu Dec 12 12:34:23 2024\n",
      "\n",
      "Anova for axis1 confidence, Far trials\n",
      "            F Value  Num DF  Den DF  Pr > F  p (permutation)\n",
      "ROI       46.498774     7.0    63.0  0.0000           0.0000\n",
      "Task       0.133690     1.0     9.0  0.7231           0.7281\n",
      "ROI:Task   1.257827     7.0    63.0  0.2857           0.2855\n",
      "/usr/local/serenceslab/maggie/shapeDim/Analysis/figures/decode_16way_binary_conf_rm_anova_axis2_Far.csv\n",
      "Thu Dec 12 12:40:51 2024\n",
      "\n",
      "Anova for axis2 confidence, Far trials\n",
      "            F Value  Num DF  Den DF  Pr > F  p (permutation)\n",
      "ROI       52.924861     7.0    63.0  0.0000           0.0000\n",
      "Task       0.316234     1.0     9.0  0.5876           0.5853\n",
      "ROI:Task   0.460675     7.0    63.0  0.8592           0.8522\n",
      "/usr/local/serenceslab/maggie/shapeDim/Analysis/figures/decode_16way_binary_conf_rm_anova_axis1_Near.csv\n",
      "Thu Dec 12 12:47:29 2024\n",
      "\n",
      "Anova for axis1 confidence, Near trials\n",
      "            F Value  Num DF  Den DF  Pr > F  p (permutation)\n",
      "ROI       23.583124     7.0    63.0  0.0000           0.0000\n",
      "Task       0.103284     1.0     9.0  0.7553           0.7569\n",
      "ROI:Task   0.616605     7.0    63.0  0.7402           0.7514\n",
      "/usr/local/serenceslab/maggie/shapeDim/Analysis/figures/decode_16way_binary_conf_rm_anova_axis2_Near.csv\n",
      "Thu Dec 12 12:53:54 2024\n",
      "\n",
      "Anova for axis2 confidence, Near trials\n",
      "            F Value  Num DF  Den DF  Pr > F  p (permutation)\n",
      "ROI       30.050261     7.0    63.0  0.0000           0.0000\n",
      "Task      13.651626     1.0     9.0  0.0050           0.0049\n",
      "ROI:Task   0.361063     7.0    63.0  0.9213           0.9249\n"
     ]
    }
   ],
   "source": [
    "for diffname in ['Far','Near']:\n",
    "    for axis_name in ['axis1','axis2']:\n",
    "\n",
    "        tablename = os.path.join(figfolder, 'decode_16way_binary_conf_rm_anova_%s_%s.csv'%(axis_name, diffname))\n",
    "        print(tablename)\n",
    "        print(time.ctime(os.path.getmtime(tablename)))\n",
    "        anova_result = pd.read_csv(tablename, index_col=0)\n",
    "        print('\\nAnova for %s confidence, %s trials'%(axis_name, diffname))\n",
    "        print(anova_result)"
   ]
  },
  {
   "cell_type": "code",
   "execution_count": 17,
   "id": "dee17a9b-5757-4cbc-8ac9-2c45ef0487ef",
   "metadata": {},
   "outputs": [
    {
     "name": "stdout",
     "output_type": "stream",
     "text": [
      "\n",
      "Near trials, axis 1 (x)\n",
      "      t-stat for task 1 > task 2  pvalue  n_subs_indiv\n",
      "V1                        -0.699   0.489             7\n",
      "V2                         0.064   0.944             6\n",
      "V3                         0.648   0.527             6\n",
      "V3AB                      -0.964   0.358             6\n",
      "hV4                        0.783   0.460             7\n",
      "LO1                       -0.766   0.442             6\n",
      "LO2                        0.900   0.401             5\n",
      "IPS                        0.838   0.455             6\n",
      "\n",
      "Near trials, axis 2 (y)\n",
      "      t-stat for task 1 > task 2  pvalue  n_subs_indiv\n",
      "V1                        -1.257   0.246             7\n",
      "V2                        -1.050   0.330             5\n",
      "V3                        -1.162   0.260             6\n",
      "V3AB                      -0.543   0.604             5\n",
      "hV4                       -0.065   0.975             6\n",
      "LO1                       -1.721   0.116             7\n",
      "LO2                       -0.733   0.472             5\n",
      "IPS                       -2.214   0.056             8\n"
     ]
    }
   ],
   "source": [
    "for cvals, diffname in zip([conf_midtrials], \\\n",
    "                        ['Near']):\n",
    "\n",
    "    for ii, axis_name in enumerate(['axis 1 (x)','axis 2 (y)']):\n",
    "\n",
    "        vals = copy.deepcopy(cvals[:,:,0:2,ii])\n",
    "        \n",
    "        tstats_task = np.zeros((n_rois,),dtype=float)\n",
    "        pvals_task = np.zeros((n_rois,),dtype=float)\n",
    "        n_subs_samedir = np.zeros((n_rois,),dtype=int)\n",
    "\n",
    "        rndseed = 8676786\n",
    "        for rr in range(n_rois):\n",
    "\n",
    "            t1_values = vals[:,rr,0]\n",
    "            t2_values = vals[:,rr,1]\n",
    "            p, t = stats_utils.paired_ttest_nonpar(t1_values, t2_values, \\\n",
    "                                                   # n_iter=2,\n",
    "                                                   n_iter=10000, \\\n",
    "                                                   rndseed=rndseed+rr)    \n",
    "            tstats_task[rr] = t\n",
    "            pvals_task[rr] = p\n",
    "\n",
    "            subj_diffs = t1_values - t2_values\n",
    "            n_subs_samedir[rr] = np.maximum(np.sum(subj_diffs>0), np.sum(subj_diffs<0))\n",
    "\n",
    "        print('\\n%s trials, %s'%(diffname, axis_name))\n",
    "        task_df = pd.DataFrame({'t-stat for task 1 > task 2': tstats_task, \\\n",
    "                                'pvalue': pvals_task, \\\n",
    "                                'n_subs_indiv': n_subs_samedir}, \\\n",
    "                                  index=roi_names)\n",
    "        print(task_df.round(3))"
   ]
  }
 ],
 "metadata": {
  "kernelspec": {
   "display_name": "Python 3",
   "language": "python",
   "name": "python3"
  },
  "language_info": {
   "codemirror_mode": {
    "name": "ipython",
    "version": 3
   },
   "file_extension": ".py",
   "mimetype": "text/x-python",
   "name": "python",
   "nbconvert_exporter": "python",
   "pygments_lexer": "ipython3",
   "version": "3.7.10"
  }
 },
 "nbformat": 4,
 "nbformat_minor": 5
}
