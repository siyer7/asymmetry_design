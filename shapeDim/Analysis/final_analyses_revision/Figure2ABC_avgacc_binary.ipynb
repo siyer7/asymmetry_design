{
 "cells": [
  {
   "cell_type": "code",
   "execution_count": 1,
   "id": "fa20586a-cc1d-41ef-b51c-e704c54814b9",
   "metadata": {},
   "outputs": [],
   "source": [
    "import numpy as np\n",
    "import matplotlib.pyplot as plt\n",
    "from matplotlib import cm\n",
    "import os, sys\n",
    "import pandas as pd\n",
    "import sklearn\n",
    "import sklearn.svm, sklearn.discriminant_analysis\n",
    "import time\n",
    "import scipy.stats\n",
    "import copy\n",
    "import statsmodels\n",
    "from statsmodels.stats.anova import AnovaRM\n",
    "\n",
    "root = '/usr/local/serenceslab/maggie/shapeDim/'\n",
    "sys.path.append(os.path.join(root, 'Analysis'))\n",
    "from code_utils import file_utils, data_utils, plot_utils, stats_utils, grid_utils"
   ]
  },
  {
   "cell_type": "code",
   "execution_count": 2,
   "id": "5b92fcb6-c2b4-445b-9718-6ae7fc296d7c",
   "metadata": {},
   "outputs": [],
   "source": [
    "task_names = ['Linear (1)','Linear (2)','Checker', 'Repeat'];\n",
    "n_tasks = len(task_names)\n",
    "task_colors = np.flipud(cm.GnBu(np.linspace(0,1,5))[1:,:])\n",
    "\n",
    "n_subjects = 10\n",
    "subjects = np.arange(1,11)\n",
    "subcolors = cm.Dark2(np.linspace(0,1,n_subjects))"
   ]
  },
  {
   "cell_type": "code",
   "execution_count": 3,
   "id": "dca49956-1866-44f5-8e07-6a44827cdf70",
   "metadata": {},
   "outputs": [],
   "source": [
    "lab = dict()\n",
    "for ss in subjects:\n",
    "    \n",
    "    # get labels for all the trials, this subject\n",
    "    main_labels = data_utils.load_main_task_labels(ss)\n",
    "    rep_labels = data_utils.load_repeat_task_labels(ss)\n",
    "    lab[ss] = pd.concat([main_labels, rep_labels], axis=0)\n",
    "    "
   ]
  },
  {
   "cell_type": "code",
   "execution_count": 4,
   "id": "7fb557b0-5dfa-4592-a07d-44e5bb855706",
   "metadata": {},
   "outputs": [
    {
     "name": "stdout",
     "output_type": "stream",
     "text": [
      "/usr/local/serenceslab/maggie/shapeDim/Analysis/decoding_results/decode_binary_withintask.npy\n",
      "Wed Aug 14 23:11:22 2024\n"
     ]
    },
    {
     "data": {
      "text/plain": [
       "dict_keys(['acc_bytask', 'dprime_bytask', 'preds_all', 'probs_all', 'acc_each_cval', 'best_cval', 'roi_names'])"
      ]
     },
     "execution_count": 4,
     "metadata": {},
     "output_type": "execute_result"
    }
   ],
   "source": [
    "save_folder = os.path.join(root, 'Analysis', 'decoding_results')\n",
    "save_filename = os.path.join(save_folder, 'decode_binary_withintask.npy')\n",
    "print(save_filename)\n",
    "print(time.ctime(os.path.getmtime(save_filename)))\n",
    "dec_withintask = np.load(save_filename, allow_pickle=True).item()\n",
    "dec_withintask.keys()"
   ]
  },
  {
   "cell_type": "code",
   "execution_count": 5,
   "id": "a81bc1d7-8844-4d0e-a010-fcee18697871",
   "metadata": {},
   "outputs": [
    {
     "data": {
      "text/plain": [
       "(10, 8, 4, 3)"
      ]
     },
     "execution_count": 5,
     "metadata": {},
     "output_type": "execute_result"
    }
   ],
   "source": [
    "dec_withintask['acc_bytask'].shape"
   ]
  },
  {
   "cell_type": "code",
   "execution_count": 6,
   "id": "b31f21ae-9d2a-4821-90c3-ca4970a2ce74",
   "metadata": {},
   "outputs": [
    {
     "name": "stdout",
     "output_type": "stream",
     "text": [
      "/usr/local/serenceslab/maggie/shapeDim/Analysis/decoding_results/decode_binary_withintask_permutationtest.npy\n",
      "Mon Sep  9 02:52:06 2024\n"
     ]
    }
   ],
   "source": [
    "save_filename = os.path.join(save_folder, 'decode_binary_withintask_permutationtest.npy')\n",
    "print(save_filename)\n",
    "print(time.ctime(os.path.getmtime(save_filename)))\n",
    "dec_withintask_shuff = np.load(save_filename, allow_pickle=True).item()\n",
    "\n",
    "n_iter = dec_withintask_shuff['acc_bytask'].shape[4]"
   ]
  },
  {
   "cell_type": "code",
   "execution_count": 7,
   "id": "41090aab-e553-4f50-8b5d-9fa65ed39e27",
   "metadata": {},
   "outputs": [
    {
     "data": {
      "text/plain": [
       "(10, 8, 4, 3, 1000)"
      ]
     },
     "execution_count": 7,
     "metadata": {},
     "output_type": "execute_result"
    }
   ],
   "source": [
    "dec_withintask_shuff['acc_bytask'].shape"
   ]
  },
  {
   "cell_type": "code",
   "execution_count": 8,
   "id": "421163da-e946-486e-b665-fce0d87a09ee",
   "metadata": {},
   "outputs": [
    {
     "name": "stdout",
     "output_type": "stream",
     "text": [
      "(10, 8, 4, 3, 12)\n"
     ]
    },
    {
     "data": {
      "text/plain": [
       "0.0069519279617756054"
      ]
     },
     "execution_count": 8,
     "metadata": {},
     "output_type": "execute_result"
    }
   ],
   "source": [
    "print(dec_withintask['best_cval'].shape)\n",
    "np.nanmedian(dec_withintask['best_cval'].ravel())"
   ]
  },
  {
   "cell_type": "code",
   "execution_count": 9,
   "id": "920df822-1ef8-4f15-83c9-9008850e077f",
   "metadata": {},
   "outputs": [],
   "source": [
    "roi_names = dec_withintask['roi_names']\n",
    "roi_names[-1] = 'IPS'\n",
    "n_rois = len(roi_names)"
   ]
  },
  {
   "cell_type": "code",
   "execution_count": 10,
   "id": "5741cfde-6daf-47b8-9608-cd73c226d0e6",
   "metadata": {},
   "outputs": [
    {
     "data": {
      "text/plain": [
       "(10, 8, 4, 3, 1000)"
      ]
     },
     "execution_count": 10,
     "metadata": {},
     "output_type": "execute_result"
    }
   ],
   "source": [
    "dec_withintask_shuff['acc_bytask'].shape"
   ]
  },
  {
   "cell_type": "markdown",
   "id": "98ca1118-719d-4c13-b05c-a1782b32659e",
   "metadata": {},
   "source": [
    "#### compute p-values for decoding accuracy."
   ]
  },
  {
   "cell_type": "code",
   "execution_count": 12,
   "id": "4d5b906e-cfe9-4f09-a0ad-ce16894eedef",
   "metadata": {},
   "outputs": [],
   "source": [
    "ti_use = [0,1,2]\n",
    "\n",
    "# first for single subjects\n",
    "p_onetailed_ss = np.mean(dec_withintask_shuff['acc_bytask'] >= \\\n",
    "                           np.tile(dec_withintask['acc_bytask'][:,:,:,:,None], [1,1,1,1,n_iter]), \\\n",
    "                          axis=4)\n",
    "\n",
    "p_onetailed_ss = p_onetailed_ss[:,:,ti_use,:]\n",
    "\n",
    "# fdr correction\n",
    "_, p_onetailed_ss_fdr = stats_utils.fdr_keepshape(p_onetailed_ss, alpha=0.01, \\\n",
    "                                                       method='poscorr')\n",
    "# count how many subjects were significant individually\n",
    "n_subs_sig = np.sum(p_onetailed_ss_fdr<0.01, axis=0)\n",
    "\n",
    "# then for the subject-averaged accuracy values\n",
    "# average within iterations first, then compute p-value\n",
    "sub_avg_shuff = np.mean(dec_withintask_shuff['acc_bytask'], axis=0)\n",
    "sub_avg_real = np.mean(dec_withintask['acc_bytask'], axis=0)\n",
    "\n",
    "p_onetailed_subavg = np.mean(sub_avg_shuff >= \\\n",
    "                         np.tile(sub_avg_real[:,:,:,None], [1,1,1,n_iter]), \\\n",
    "                          axis=3)\n",
    "\n",
    "p_onetailed_subavg = p_onetailed_subavg[:,ti_use,:]\n",
    "\n",
    "# fdr correction\n",
    "_, p_onetailed_subavg_fdr = stats_utils.fdr_keepshape(p_onetailed_subavg, alpha=0.01, \\\n",
    "                                                       method='poscorr')"
   ]
  },
  {
   "cell_type": "code",
   "execution_count": 13,
   "id": "b560f101-4bd7-4797-9b7d-2e86d2e34be5",
   "metadata": {},
   "outputs": [],
   "source": [
    "bound_names = ['Decode: Linear (1)','Decode: Linear (2)','Decode: Checker'];\n",
    "    "
   ]
  },
  {
   "cell_type": "markdown",
   "id": "e4eab983-c830-4f55-8519-33cbd181d7df",
   "metadata": {},
   "source": [
    "#### make a table of significance tests"
   ]
  },
  {
   "cell_type": "code",
   "execution_count": 14,
   "id": "6e67cf59-b07e-489d-9d91-de6d9b9f4578",
   "metadata": {},
   "outputs": [
    {
     "name": "stdout",
     "output_type": "stream",
     "text": [
      "Decode: Linear (1)\n"
     ]
    },
    {
     "data": {
      "text/html": [
       "<div>\n",
       "<style scoped>\n",
       "    .dataframe tbody tr th:only-of-type {\n",
       "        vertical-align: middle;\n",
       "    }\n",
       "\n",
       "    .dataframe tbody tr th {\n",
       "        vertical-align: top;\n",
       "    }\n",
       "\n",
       "    .dataframe thead th {\n",
       "        text-align: right;\n",
       "    }\n",
       "</style>\n",
       "<table border=\"1\" class=\"dataframe\">\n",
       "  <thead>\n",
       "    <tr style=\"text-align: right;\">\n",
       "      <th></th>\n",
       "      <th>Linear (1): mean acc</th>\n",
       "      <th>Linear (1): p-value</th>\n",
       "      <th>Linear (1): n subs sig</th>\n",
       "      <th>Linear (2): mean acc</th>\n",
       "      <th>Linear (2): p-value</th>\n",
       "      <th>Linear (2): n subs sig</th>\n",
       "      <th>Checker: mean acc</th>\n",
       "      <th>Checker: p-value</th>\n",
       "      <th>Checker: n subs sig</th>\n",
       "    </tr>\n",
       "  </thead>\n",
       "  <tbody>\n",
       "    <tr>\n",
       "      <th>V1</th>\n",
       "      <td>0.796771</td>\n",
       "      <td>0.0</td>\n",
       "      <td>10</td>\n",
       "      <td>0.795573</td>\n",
       "      <td>0.0</td>\n",
       "      <td>10</td>\n",
       "      <td>0.779072</td>\n",
       "      <td>0.0</td>\n",
       "      <td>10</td>\n",
       "    </tr>\n",
       "    <tr>\n",
       "      <th>V2</th>\n",
       "      <td>0.809688</td>\n",
       "      <td>0.0</td>\n",
       "      <td>10</td>\n",
       "      <td>0.804167</td>\n",
       "      <td>0.0</td>\n",
       "      <td>10</td>\n",
       "      <td>0.795407</td>\n",
       "      <td>0.0</td>\n",
       "      <td>10</td>\n",
       "    </tr>\n",
       "    <tr>\n",
       "      <th>V3</th>\n",
       "      <td>0.791562</td>\n",
       "      <td>0.0</td>\n",
       "      <td>10</td>\n",
       "      <td>0.789323</td>\n",
       "      <td>0.0</td>\n",
       "      <td>10</td>\n",
       "      <td>0.794602</td>\n",
       "      <td>0.0</td>\n",
       "      <td>10</td>\n",
       "    </tr>\n",
       "    <tr>\n",
       "      <th>V3AB</th>\n",
       "      <td>0.695937</td>\n",
       "      <td>0.0</td>\n",
       "      <td>10</td>\n",
       "      <td>0.716667</td>\n",
       "      <td>0.0</td>\n",
       "      <td>10</td>\n",
       "      <td>0.691477</td>\n",
       "      <td>0.0</td>\n",
       "      <td>9</td>\n",
       "    </tr>\n",
       "    <tr>\n",
       "      <th>hV4</th>\n",
       "      <td>0.615625</td>\n",
       "      <td>0.0</td>\n",
       "      <td>7</td>\n",
       "      <td>0.617448</td>\n",
       "      <td>0.0</td>\n",
       "      <td>8</td>\n",
       "      <td>0.622112</td>\n",
       "      <td>0.0</td>\n",
       "      <td>8</td>\n",
       "    </tr>\n",
       "    <tr>\n",
       "      <th>LO1</th>\n",
       "      <td>0.648229</td>\n",
       "      <td>0.0</td>\n",
       "      <td>10</td>\n",
       "      <td>0.644792</td>\n",
       "      <td>0.0</td>\n",
       "      <td>10</td>\n",
       "      <td>0.643655</td>\n",
       "      <td>0.0</td>\n",
       "      <td>9</td>\n",
       "    </tr>\n",
       "    <tr>\n",
       "      <th>LO2</th>\n",
       "      <td>0.576615</td>\n",
       "      <td>0.0</td>\n",
       "      <td>7</td>\n",
       "      <td>0.610156</td>\n",
       "      <td>0.0</td>\n",
       "      <td>8</td>\n",
       "      <td>0.620833</td>\n",
       "      <td>0.0</td>\n",
       "      <td>8</td>\n",
       "    </tr>\n",
       "    <tr>\n",
       "      <th>IPS</th>\n",
       "      <td>0.583698</td>\n",
       "      <td>0.0</td>\n",
       "      <td>8</td>\n",
       "      <td>0.613542</td>\n",
       "      <td>0.0</td>\n",
       "      <td>9</td>\n",
       "      <td>0.615767</td>\n",
       "      <td>0.0</td>\n",
       "      <td>9</td>\n",
       "    </tr>\n",
       "  </tbody>\n",
       "</table>\n",
       "</div>"
      ],
      "text/plain": [
       "      Linear (1): mean acc  Linear (1): p-value  Linear (1): n subs sig  \\\n",
       "V1                0.796771                  0.0                      10   \n",
       "V2                0.809688                  0.0                      10   \n",
       "V3                0.791562                  0.0                      10   \n",
       "V3AB              0.695937                  0.0                      10   \n",
       "hV4               0.615625                  0.0                       7   \n",
       "LO1               0.648229                  0.0                      10   \n",
       "LO2               0.576615                  0.0                       7   \n",
       "IPS               0.583698                  0.0                       8   \n",
       "\n",
       "      Linear (2): mean acc  Linear (2): p-value  Linear (2): n subs sig  \\\n",
       "V1                0.795573                  0.0                      10   \n",
       "V2                0.804167                  0.0                      10   \n",
       "V3                0.789323                  0.0                      10   \n",
       "V3AB              0.716667                  0.0                      10   \n",
       "hV4               0.617448                  0.0                       8   \n",
       "LO1               0.644792                  0.0                      10   \n",
       "LO2               0.610156                  0.0                       8   \n",
       "IPS               0.613542                  0.0                       9   \n",
       "\n",
       "      Checker: mean acc  Checker: p-value  Checker: n subs sig  \n",
       "V1             0.779072               0.0                   10  \n",
       "V2             0.795407               0.0                   10  \n",
       "V3             0.794602               0.0                   10  \n",
       "V3AB           0.691477               0.0                    9  \n",
       "hV4            0.622112               0.0                    8  \n",
       "LO1            0.643655               0.0                    9  \n",
       "LO2            0.620833               0.0                    8  \n",
       "IPS            0.615767               0.0                    9  "
      ]
     },
     "execution_count": 14,
     "metadata": {},
     "output_type": "execute_result"
    }
   ],
   "source": [
    "bi = 0;\n",
    "\n",
    "print(bound_names[bi])\n",
    "\n",
    "d = pd.DataFrame([], index=roi_names)\n",
    "\n",
    "for ti in [0,1,2]:\n",
    "    \n",
    "    vals = dec_withintask['acc_bytask'][:,:,ti,bi]\n",
    "    meanvals = np.mean(vals, axis=0)\n",
    "    \n",
    "    d['%s: mean acc'%(task_names[ti])] = meanvals\n",
    "    d['%s: p-value'%(task_names[ti])] = p_onetailed_subavg_fdr[:,ti,bi]\n",
    "    d['%s: n subs sig'%(task_names[ti])] = n_subs_sig[:,ti,bi]\n",
    "    \n",
    "\n",
    "d"
   ]
  },
  {
   "cell_type": "code",
   "execution_count": 15,
   "id": "78de642d-6c70-493c-9e57-7f8ed4e7578c",
   "metadata": {},
   "outputs": [
    {
     "name": "stdout",
     "output_type": "stream",
     "text": [
      "Decode: Linear (2)\n"
     ]
    },
    {
     "data": {
      "text/html": [
       "<div>\n",
       "<style scoped>\n",
       "    .dataframe tbody tr th:only-of-type {\n",
       "        vertical-align: middle;\n",
       "    }\n",
       "\n",
       "    .dataframe tbody tr th {\n",
       "        vertical-align: top;\n",
       "    }\n",
       "\n",
       "    .dataframe thead th {\n",
       "        text-align: right;\n",
       "    }\n",
       "</style>\n",
       "<table border=\"1\" class=\"dataframe\">\n",
       "  <thead>\n",
       "    <tr style=\"text-align: right;\">\n",
       "      <th></th>\n",
       "      <th>Linear (1): mean acc</th>\n",
       "      <th>Linear (1): p-value</th>\n",
       "      <th>Linear (1): n subs sig</th>\n",
       "      <th>Linear (2): mean acc</th>\n",
       "      <th>Linear (2): p-value</th>\n",
       "      <th>Linear (2): n subs sig</th>\n",
       "      <th>Checker: mean acc</th>\n",
       "      <th>Checker: p-value</th>\n",
       "      <th>Checker: n subs sig</th>\n",
       "    </tr>\n",
       "  </thead>\n",
       "  <tbody>\n",
       "    <tr>\n",
       "      <th>V1</th>\n",
       "      <td>0.822969</td>\n",
       "      <td>0.0</td>\n",
       "      <td>10</td>\n",
       "      <td>0.838021</td>\n",
       "      <td>0.0</td>\n",
       "      <td>10</td>\n",
       "      <td>0.827296</td>\n",
       "      <td>0.0</td>\n",
       "      <td>10</td>\n",
       "    </tr>\n",
       "    <tr>\n",
       "      <th>V2</th>\n",
       "      <td>0.851615</td>\n",
       "      <td>0.0</td>\n",
       "      <td>10</td>\n",
       "      <td>0.862500</td>\n",
       "      <td>0.0</td>\n",
       "      <td>10</td>\n",
       "      <td>0.851586</td>\n",
       "      <td>0.0</td>\n",
       "      <td>10</td>\n",
       "    </tr>\n",
       "    <tr>\n",
       "      <th>V3</th>\n",
       "      <td>0.823854</td>\n",
       "      <td>0.0</td>\n",
       "      <td>10</td>\n",
       "      <td>0.834115</td>\n",
       "      <td>0.0</td>\n",
       "      <td>10</td>\n",
       "      <td>0.823698</td>\n",
       "      <td>0.0</td>\n",
       "      <td>10</td>\n",
       "    </tr>\n",
       "    <tr>\n",
       "      <th>V3AB</th>\n",
       "      <td>0.712135</td>\n",
       "      <td>0.0</td>\n",
       "      <td>10</td>\n",
       "      <td>0.725000</td>\n",
       "      <td>0.0</td>\n",
       "      <td>10</td>\n",
       "      <td>0.720881</td>\n",
       "      <td>0.0</td>\n",
       "      <td>10</td>\n",
       "    </tr>\n",
       "    <tr>\n",
       "      <th>hV4</th>\n",
       "      <td>0.668750</td>\n",
       "      <td>0.0</td>\n",
       "      <td>8</td>\n",
       "      <td>0.673177</td>\n",
       "      <td>0.0</td>\n",
       "      <td>9</td>\n",
       "      <td>0.670218</td>\n",
       "      <td>0.0</td>\n",
       "      <td>9</td>\n",
       "    </tr>\n",
       "    <tr>\n",
       "      <th>LO1</th>\n",
       "      <td>0.659219</td>\n",
       "      <td>0.0</td>\n",
       "      <td>9</td>\n",
       "      <td>0.675781</td>\n",
       "      <td>0.0</td>\n",
       "      <td>9</td>\n",
       "      <td>0.671354</td>\n",
       "      <td>0.0</td>\n",
       "      <td>9</td>\n",
       "    </tr>\n",
       "    <tr>\n",
       "      <th>LO2</th>\n",
       "      <td>0.609687</td>\n",
       "      <td>0.0</td>\n",
       "      <td>8</td>\n",
       "      <td>0.628385</td>\n",
       "      <td>0.0</td>\n",
       "      <td>8</td>\n",
       "      <td>0.619792</td>\n",
       "      <td>0.0</td>\n",
       "      <td>8</td>\n",
       "    </tr>\n",
       "    <tr>\n",
       "      <th>IPS</th>\n",
       "      <td>0.563281</td>\n",
       "      <td>0.0</td>\n",
       "      <td>5</td>\n",
       "      <td>0.576302</td>\n",
       "      <td>0.0</td>\n",
       "      <td>6</td>\n",
       "      <td>0.586245</td>\n",
       "      <td>0.0</td>\n",
       "      <td>5</td>\n",
       "    </tr>\n",
       "  </tbody>\n",
       "</table>\n",
       "</div>"
      ],
      "text/plain": [
       "      Linear (1): mean acc  Linear (1): p-value  Linear (1): n subs sig  \\\n",
       "V1                0.822969                  0.0                      10   \n",
       "V2                0.851615                  0.0                      10   \n",
       "V3                0.823854                  0.0                      10   \n",
       "V3AB              0.712135                  0.0                      10   \n",
       "hV4               0.668750                  0.0                       8   \n",
       "LO1               0.659219                  0.0                       9   \n",
       "LO2               0.609687                  0.0                       8   \n",
       "IPS               0.563281                  0.0                       5   \n",
       "\n",
       "      Linear (2): mean acc  Linear (2): p-value  Linear (2): n subs sig  \\\n",
       "V1                0.838021                  0.0                      10   \n",
       "V2                0.862500                  0.0                      10   \n",
       "V3                0.834115                  0.0                      10   \n",
       "V3AB              0.725000                  0.0                      10   \n",
       "hV4               0.673177                  0.0                       9   \n",
       "LO1               0.675781                  0.0                       9   \n",
       "LO2               0.628385                  0.0                       8   \n",
       "IPS               0.576302                  0.0                       6   \n",
       "\n",
       "      Checker: mean acc  Checker: p-value  Checker: n subs sig  \n",
       "V1             0.827296               0.0                   10  \n",
       "V2             0.851586               0.0                   10  \n",
       "V3             0.823698               0.0                   10  \n",
       "V3AB           0.720881               0.0                   10  \n",
       "hV4            0.670218               0.0                    9  \n",
       "LO1            0.671354               0.0                    9  \n",
       "LO2            0.619792               0.0                    8  \n",
       "IPS            0.586245               0.0                    5  "
      ]
     },
     "execution_count": 15,
     "metadata": {},
     "output_type": "execute_result"
    }
   ],
   "source": [
    "bi = 1;\n",
    "\n",
    "print(bound_names[bi])\n",
    "\n",
    "d = pd.DataFrame([], index=roi_names)\n",
    "\n",
    "for ti in [0,1,2]:\n",
    "    \n",
    "    vals = dec_withintask['acc_bytask'][:,:,ti,bi]\n",
    "    meanvals = np.mean(vals, axis=0)\n",
    "    \n",
    "    d['%s: mean acc'%(task_names[ti])] = meanvals\n",
    "    d['%s: p-value'%(task_names[ti])] = p_onetailed_subavg_fdr[:,ti,bi]\n",
    "    d['%s: n subs sig'%(task_names[ti])] = n_subs_sig[:,ti,bi]\n",
    "    \n",
    "\n",
    "d"
   ]
  },
  {
   "cell_type": "code",
   "execution_count": 16,
   "id": "afadaa09-2ff4-4fcf-b223-9dcb2edf27c7",
   "metadata": {},
   "outputs": [
    {
     "name": "stdout",
     "output_type": "stream",
     "text": [
      "Decode: Checker\n"
     ]
    },
    {
     "data": {
      "text/html": [
       "<div>\n",
       "<style scoped>\n",
       "    .dataframe tbody tr th:only-of-type {\n",
       "        vertical-align: middle;\n",
       "    }\n",
       "\n",
       "    .dataframe tbody tr th {\n",
       "        vertical-align: top;\n",
       "    }\n",
       "\n",
       "    .dataframe thead th {\n",
       "        text-align: right;\n",
       "    }\n",
       "</style>\n",
       "<table border=\"1\" class=\"dataframe\">\n",
       "  <thead>\n",
       "    <tr style=\"text-align: right;\">\n",
       "      <th></th>\n",
       "      <th>Linear (1): mean acc</th>\n",
       "      <th>Linear (1): p-value</th>\n",
       "      <th>Linear (1): n subs sig</th>\n",
       "      <th>Linear (2): mean acc</th>\n",
       "      <th>Linear (2): p-value</th>\n",
       "      <th>Linear (2): n subs sig</th>\n",
       "      <th>Checker: mean acc</th>\n",
       "      <th>Checker: p-value</th>\n",
       "      <th>Checker: n subs sig</th>\n",
       "    </tr>\n",
       "  </thead>\n",
       "  <tbody>\n",
       "    <tr>\n",
       "      <th>V1</th>\n",
       "      <td>0.716042</td>\n",
       "      <td>0.0</td>\n",
       "      <td>10</td>\n",
       "      <td>0.720573</td>\n",
       "      <td>0.0</td>\n",
       "      <td>10</td>\n",
       "      <td>0.705658</td>\n",
       "      <td>0.000</td>\n",
       "      <td>10</td>\n",
       "    </tr>\n",
       "    <tr>\n",
       "      <th>V2</th>\n",
       "      <td>0.729583</td>\n",
       "      <td>0.0</td>\n",
       "      <td>10</td>\n",
       "      <td>0.724219</td>\n",
       "      <td>0.0</td>\n",
       "      <td>10</td>\n",
       "      <td>0.714205</td>\n",
       "      <td>0.000</td>\n",
       "      <td>10</td>\n",
       "    </tr>\n",
       "    <tr>\n",
       "      <th>V3</th>\n",
       "      <td>0.674427</td>\n",
       "      <td>0.0</td>\n",
       "      <td>10</td>\n",
       "      <td>0.683594</td>\n",
       "      <td>0.0</td>\n",
       "      <td>10</td>\n",
       "      <td>0.663518</td>\n",
       "      <td>0.000</td>\n",
       "      <td>10</td>\n",
       "    </tr>\n",
       "    <tr>\n",
       "      <th>V3AB</th>\n",
       "      <td>0.568542</td>\n",
       "      <td>0.0</td>\n",
       "      <td>5</td>\n",
       "      <td>0.560937</td>\n",
       "      <td>0.0</td>\n",
       "      <td>7</td>\n",
       "      <td>0.563518</td>\n",
       "      <td>0.000</td>\n",
       "      <td>4</td>\n",
       "    </tr>\n",
       "    <tr>\n",
       "      <th>hV4</th>\n",
       "      <td>0.548906</td>\n",
       "      <td>0.0</td>\n",
       "      <td>2</td>\n",
       "      <td>0.545052</td>\n",
       "      <td>0.0</td>\n",
       "      <td>3</td>\n",
       "      <td>0.540317</td>\n",
       "      <td>0.000</td>\n",
       "      <td>3</td>\n",
       "    </tr>\n",
       "    <tr>\n",
       "      <th>LO1</th>\n",
       "      <td>0.535208</td>\n",
       "      <td>0.0</td>\n",
       "      <td>1</td>\n",
       "      <td>0.548958</td>\n",
       "      <td>0.0</td>\n",
       "      <td>5</td>\n",
       "      <td>0.544247</td>\n",
       "      <td>0.000</td>\n",
       "      <td>5</td>\n",
       "    </tr>\n",
       "    <tr>\n",
       "      <th>LO2</th>\n",
       "      <td>0.529479</td>\n",
       "      <td>0.0</td>\n",
       "      <td>1</td>\n",
       "      <td>0.549219</td>\n",
       "      <td>0.0</td>\n",
       "      <td>5</td>\n",
       "      <td>0.519223</td>\n",
       "      <td>0.014</td>\n",
       "      <td>2</td>\n",
       "    </tr>\n",
       "    <tr>\n",
       "      <th>IPS</th>\n",
       "      <td>0.527292</td>\n",
       "      <td>0.0</td>\n",
       "      <td>0</td>\n",
       "      <td>0.541406</td>\n",
       "      <td>0.0</td>\n",
       "      <td>1</td>\n",
       "      <td>0.536790</td>\n",
       "      <td>0.000</td>\n",
       "      <td>2</td>\n",
       "    </tr>\n",
       "  </tbody>\n",
       "</table>\n",
       "</div>"
      ],
      "text/plain": [
       "      Linear (1): mean acc  Linear (1): p-value  Linear (1): n subs sig  \\\n",
       "V1                0.716042                  0.0                      10   \n",
       "V2                0.729583                  0.0                      10   \n",
       "V3                0.674427                  0.0                      10   \n",
       "V3AB              0.568542                  0.0                       5   \n",
       "hV4               0.548906                  0.0                       2   \n",
       "LO1               0.535208                  0.0                       1   \n",
       "LO2               0.529479                  0.0                       1   \n",
       "IPS               0.527292                  0.0                       0   \n",
       "\n",
       "      Linear (2): mean acc  Linear (2): p-value  Linear (2): n subs sig  \\\n",
       "V1                0.720573                  0.0                      10   \n",
       "V2                0.724219                  0.0                      10   \n",
       "V3                0.683594                  0.0                      10   \n",
       "V3AB              0.560937                  0.0                       7   \n",
       "hV4               0.545052                  0.0                       3   \n",
       "LO1               0.548958                  0.0                       5   \n",
       "LO2               0.549219                  0.0                       5   \n",
       "IPS               0.541406                  0.0                       1   \n",
       "\n",
       "      Checker: mean acc  Checker: p-value  Checker: n subs sig  \n",
       "V1             0.705658             0.000                   10  \n",
       "V2             0.714205             0.000                   10  \n",
       "V3             0.663518             0.000                   10  \n",
       "V3AB           0.563518             0.000                    4  \n",
       "hV4            0.540317             0.000                    3  \n",
       "LO1            0.544247             0.000                    5  \n",
       "LO2            0.519223             0.014                    2  \n",
       "IPS            0.536790             0.000                    2  "
      ]
     },
     "execution_count": 16,
     "metadata": {},
     "output_type": "execute_result"
    }
   ],
   "source": [
    "bi = 2;\n",
    "\n",
    "print(bound_names[bi])\n",
    "\n",
    "d = pd.DataFrame([], index=roi_names)\n",
    "\n",
    "for ti in [0,1,2]:\n",
    "    \n",
    "    vals = dec_withintask['acc_bytask'][:,:,ti,bi]\n",
    "    meanvals = np.mean(vals, axis=0)\n",
    "    \n",
    "    d['%s: mean acc'%(task_names[ti])] = meanvals\n",
    "    d['%s: p-value'%(task_names[ti])] = p_onetailed_subavg_fdr[:,ti,bi]\n",
    "    d['%s: n subs sig'%(task_names[ti])] = n_subs_sig[:,ti,bi]\n",
    "    \n",
    "\n",
    "d"
   ]
  },
  {
   "cell_type": "markdown",
   "id": "4f33e8a6-5168-441b-a5f0-0fc522672b3d",
   "metadata": {},
   "source": [
    "#### print the task-averaged accuracy values"
   ]
  },
  {
   "cell_type": "code",
   "execution_count": 17,
   "id": "37088cea-48a9-4dfc-8eb8-eb0c634829a7",
   "metadata": {},
   "outputs": [
    {
     "name": "stdout",
     "output_type": "stream",
     "text": [
      "Decode: Linear (1)\n"
     ]
    },
    {
     "data": {
      "text/html": [
       "<div>\n",
       "<style scoped>\n",
       "    .dataframe tbody tr th:only-of-type {\n",
       "        vertical-align: middle;\n",
       "    }\n",
       "\n",
       "    .dataframe tbody tr th {\n",
       "        vertical-align: top;\n",
       "    }\n",
       "\n",
       "    .dataframe thead th {\n",
       "        text-align: right;\n",
       "    }\n",
       "</style>\n",
       "<table border=\"1\" class=\"dataframe\">\n",
       "  <thead>\n",
       "    <tr style=\"text-align: right;\">\n",
       "      <th></th>\n",
       "      <th>mean acc</th>\n",
       "      <th>sem acc</th>\n",
       "    </tr>\n",
       "  </thead>\n",
       "  <tbody>\n",
       "    <tr>\n",
       "      <th>V1</th>\n",
       "      <td>0.79</td>\n",
       "      <td>0.02</td>\n",
       "    </tr>\n",
       "    <tr>\n",
       "      <th>V2</th>\n",
       "      <td>0.80</td>\n",
       "      <td>0.02</td>\n",
       "    </tr>\n",
       "    <tr>\n",
       "      <th>V3</th>\n",
       "      <td>0.79</td>\n",
       "      <td>0.02</td>\n",
       "    </tr>\n",
       "    <tr>\n",
       "      <th>V3AB</th>\n",
       "      <td>0.70</td>\n",
       "      <td>0.02</td>\n",
       "    </tr>\n",
       "    <tr>\n",
       "      <th>hV4</th>\n",
       "      <td>0.62</td>\n",
       "      <td>0.02</td>\n",
       "    </tr>\n",
       "    <tr>\n",
       "      <th>LO1</th>\n",
       "      <td>0.65</td>\n",
       "      <td>0.01</td>\n",
       "    </tr>\n",
       "    <tr>\n",
       "      <th>LO2</th>\n",
       "      <td>0.60</td>\n",
       "      <td>0.02</td>\n",
       "    </tr>\n",
       "    <tr>\n",
       "      <th>IPS</th>\n",
       "      <td>0.60</td>\n",
       "      <td>0.01</td>\n",
       "    </tr>\n",
       "  </tbody>\n",
       "</table>\n",
       "</div>"
      ],
      "text/plain": [
       "      mean acc  sem acc\n",
       "V1        0.79     0.02\n",
       "V2        0.80     0.02\n",
       "V3        0.79     0.02\n",
       "V3AB      0.70     0.02\n",
       "hV4       0.62     0.02\n",
       "LO1       0.65     0.01\n",
       "LO2       0.60     0.02\n",
       "IPS       0.60     0.01"
      ]
     },
     "execution_count": 17,
     "metadata": {},
     "output_type": "execute_result"
    }
   ],
   "source": [
    "bi = 0\n",
    "print(bound_names[bi])\n",
    "\n",
    "tasks_use = np.array([0,1,2])\n",
    "vals = dec_withintask['acc_bytask'][:,:,tasks_use,bi]\n",
    "vals = np.mean(vals, axis=2)\n",
    "mvals = np.mean(vals, axis=0)\n",
    "svals = np.std(vals, axis=0)/np.sqrt(n_subjects)\n",
    "\n",
    "pd.DataFrame({'mean acc': mvals, \\\n",
    "              'sem acc': svals, }, \\\n",
    "             index=roi_names).round(2)"
   ]
  },
  {
   "cell_type": "code",
   "execution_count": 18,
   "id": "59b0c732-7d23-41ed-a3e2-227d2620290e",
   "metadata": {},
   "outputs": [
    {
     "name": "stdout",
     "output_type": "stream",
     "text": [
      "Decode: Linear (2)\n"
     ]
    },
    {
     "data": {
      "text/html": [
       "<div>\n",
       "<style scoped>\n",
       "    .dataframe tbody tr th:only-of-type {\n",
       "        vertical-align: middle;\n",
       "    }\n",
       "\n",
       "    .dataframe tbody tr th {\n",
       "        vertical-align: top;\n",
       "    }\n",
       "\n",
       "    .dataframe thead th {\n",
       "        text-align: right;\n",
       "    }\n",
       "</style>\n",
       "<table border=\"1\" class=\"dataframe\">\n",
       "  <thead>\n",
       "    <tr style=\"text-align: right;\">\n",
       "      <th></th>\n",
       "      <th>mean acc</th>\n",
       "      <th>sem acc</th>\n",
       "    </tr>\n",
       "  </thead>\n",
       "  <tbody>\n",
       "    <tr>\n",
       "      <th>V1</th>\n",
       "      <td>0.83</td>\n",
       "      <td>0.02</td>\n",
       "    </tr>\n",
       "    <tr>\n",
       "      <th>V2</th>\n",
       "      <td>0.86</td>\n",
       "      <td>0.02</td>\n",
       "    </tr>\n",
       "    <tr>\n",
       "      <th>V3</th>\n",
       "      <td>0.83</td>\n",
       "      <td>0.02</td>\n",
       "    </tr>\n",
       "    <tr>\n",
       "      <th>V3AB</th>\n",
       "      <td>0.72</td>\n",
       "      <td>0.02</td>\n",
       "    </tr>\n",
       "    <tr>\n",
       "      <th>hV4</th>\n",
       "      <td>0.67</td>\n",
       "      <td>0.02</td>\n",
       "    </tr>\n",
       "    <tr>\n",
       "      <th>LO1</th>\n",
       "      <td>0.67</td>\n",
       "      <td>0.02</td>\n",
       "    </tr>\n",
       "    <tr>\n",
       "      <th>LO2</th>\n",
       "      <td>0.62</td>\n",
       "      <td>0.02</td>\n",
       "    </tr>\n",
       "    <tr>\n",
       "      <th>IPS</th>\n",
       "      <td>0.58</td>\n",
       "      <td>0.01</td>\n",
       "    </tr>\n",
       "  </tbody>\n",
       "</table>\n",
       "</div>"
      ],
      "text/plain": [
       "      mean acc  sem acc\n",
       "V1        0.83     0.02\n",
       "V2        0.86     0.02\n",
       "V3        0.83     0.02\n",
       "V3AB      0.72     0.02\n",
       "hV4       0.67     0.02\n",
       "LO1       0.67     0.02\n",
       "LO2       0.62     0.02\n",
       "IPS       0.58     0.01"
      ]
     },
     "execution_count": 18,
     "metadata": {},
     "output_type": "execute_result"
    }
   ],
   "source": [
    "bi = 1\n",
    "print(bound_names[bi])\n",
    "\n",
    "tasks_use = np.array([0,1,2])\n",
    "vals = dec_withintask['acc_bytask'][:,:,tasks_use,bi]\n",
    "vals = np.mean(vals, axis=2)\n",
    "mvals = np.mean(vals, axis=0)\n",
    "svals = np.std(vals, axis=0)/np.sqrt(n_subjects)\n",
    "\n",
    "pd.DataFrame({'mean acc': mvals, \\\n",
    "              'sem acc': svals, }, \\\n",
    "             index=roi_names).round(2)"
   ]
  },
  {
   "cell_type": "code",
   "execution_count": 19,
   "id": "d9911d3a-6403-4399-8da8-94ca289cb168",
   "metadata": {},
   "outputs": [
    {
     "name": "stdout",
     "output_type": "stream",
     "text": [
      "Decode: Checker\n"
     ]
    },
    {
     "data": {
      "text/html": [
       "<div>\n",
       "<style scoped>\n",
       "    .dataframe tbody tr th:only-of-type {\n",
       "        vertical-align: middle;\n",
       "    }\n",
       "\n",
       "    .dataframe tbody tr th {\n",
       "        vertical-align: top;\n",
       "    }\n",
       "\n",
       "    .dataframe thead th {\n",
       "        text-align: right;\n",
       "    }\n",
       "</style>\n",
       "<table border=\"1\" class=\"dataframe\">\n",
       "  <thead>\n",
       "    <tr style=\"text-align: right;\">\n",
       "      <th></th>\n",
       "      <th>mean acc</th>\n",
       "      <th>sem acc</th>\n",
       "    </tr>\n",
       "  </thead>\n",
       "  <tbody>\n",
       "    <tr>\n",
       "      <th>V1</th>\n",
       "      <td>0.71</td>\n",
       "      <td>0.02</td>\n",
       "    </tr>\n",
       "    <tr>\n",
       "      <th>V2</th>\n",
       "      <td>0.72</td>\n",
       "      <td>0.02</td>\n",
       "    </tr>\n",
       "    <tr>\n",
       "      <th>V3</th>\n",
       "      <td>0.67</td>\n",
       "      <td>0.02</td>\n",
       "    </tr>\n",
       "    <tr>\n",
       "      <th>V3AB</th>\n",
       "      <td>0.56</td>\n",
       "      <td>0.01</td>\n",
       "    </tr>\n",
       "    <tr>\n",
       "      <th>hV4</th>\n",
       "      <td>0.54</td>\n",
       "      <td>0.01</td>\n",
       "    </tr>\n",
       "    <tr>\n",
       "      <th>LO1</th>\n",
       "      <td>0.54</td>\n",
       "      <td>0.01</td>\n",
       "    </tr>\n",
       "    <tr>\n",
       "      <th>LO2</th>\n",
       "      <td>0.53</td>\n",
       "      <td>0.01</td>\n",
       "    </tr>\n",
       "    <tr>\n",
       "      <th>IPS</th>\n",
       "      <td>0.54</td>\n",
       "      <td>0.01</td>\n",
       "    </tr>\n",
       "  </tbody>\n",
       "</table>\n",
       "</div>"
      ],
      "text/plain": [
       "      mean acc  sem acc\n",
       "V1        0.71     0.02\n",
       "V2        0.72     0.02\n",
       "V3        0.67     0.02\n",
       "V3AB      0.56     0.01\n",
       "hV4       0.54     0.01\n",
       "LO1       0.54     0.01\n",
       "LO2       0.53     0.01\n",
       "IPS       0.54     0.01"
      ]
     },
     "execution_count": 19,
     "metadata": {},
     "output_type": "execute_result"
    }
   ],
   "source": [
    "bi = 2\n",
    "print(bound_names[bi])\n",
    "\n",
    "tasks_use = np.array([0,1,2])\n",
    "vals = dec_withintask['acc_bytask'][:,:,tasks_use,bi]\n",
    "vals = np.mean(vals, axis=2)\n",
    "mvals = np.mean(vals, axis=0)\n",
    "svals = np.std(vals, axis=0)/np.sqrt(n_subjects)\n",
    "\n",
    "pd.DataFrame({'mean acc': mvals, \\\n",
    "              'sem acc': svals, }, \\\n",
    "             index=roi_names).round(2)"
   ]
  },
  {
   "cell_type": "code",
   "execution_count": 20,
   "id": "98ccccf5-cddb-405a-bae3-c3aaf40969f4",
   "metadata": {},
   "outputs": [],
   "source": [
    "plt.rcParams['pdf.fonttype']=42\n",
    "plot_utils.set_all_font_sizes(fs = 16)\n",
    "figfolder = os.path.join(root, 'Analysis','figures')"
   ]
  },
  {
   "cell_type": "markdown",
   "id": "23a77b65-eb32-4647-b85a-979576554050",
   "metadata": {
    "tags": []
   },
   "source": [
    "#### Overall accuracy of the 2-way classifiers"
   ]
  },
  {
   "cell_type": "code",
   "execution_count": 23,
   "id": "f8690aae-06af-448c-b212-339ad84e2489",
   "metadata": {},
   "outputs": [
    {
     "name": "stdout",
     "output_type": "stream",
     "text": [
      "0.471875\n",
      "0.9010416666666666\n",
      "/usr/local/serenceslab/maggie/shapeDim/Analysis/figures/binary_avg_categtasks_axis 1 (x).pdf\n",
      "0.4583333333333333\n",
      "0.9453125\n",
      "/usr/local/serenceslab/maggie/shapeDim/Analysis/figures/binary_avg_categtasks_axis 2 (y).pdf\n",
      "0.4479166666666667\n",
      "0.8645833333333334\n",
      "/usr/local/serenceslab/maggie/shapeDim/Analysis/figures/binary_avg_categtasks_axis 3 (checker).pdf\n"
     ]
    },
    {
     "data": {
      "image/png": "[encoded data removed]",
      "text/plain": [
       "<Figure size 648x288 with 1 Axes>"
      ]
     },
     "metadata": {
      "needs_background": "light"
     },
     "output_type": "display_data"
    },
    {
     "data": {
      "image/png": "[encoded data removed]",
      "text/plain": [
       "<Figure size 648x288 with 1 Axes>"
      ]
     },
     "metadata": {
      "needs_background": "light"
     },
     "output_type": "display_data"
    },
    {
     "data": {
      "image/png": "[encoded data removed]",
      "text/plain": [
       "<Figure size 648x288 with 1 Axes>"
      ]
     },
     "metadata": {
      "needs_background": "light"
     },
     "output_type": "display_data"
    }
   ],
   "source": [
    "ti_plot = [0,1,2]\n",
    "x_jitter = np.linspace(-0.2, 0.2, 3)\n",
    "\n",
    "for bi, axis_name in enumerate(['axis 1 (x)', 'axis 2 (y)', 'axis 3 (checker)']):\n",
    "\n",
    "    plt.figure(figsize=(9,4))\n",
    "\n",
    "    \n",
    "    ax = plt.subplot(1,1,1)\n",
    "\n",
    "    avals = dec_withintask['acc_bytask'][:,:,:,bi]\n",
    "\n",
    "    print(np.min(avals[:,:,ti_plot]))\n",
    "    print(np.max(avals[:,:,ti_plot]))\n",
    "    plt.axhline(1/2, color=[0.6, 0.6, 0.6])\n",
    "\n",
    "    lh = []\n",
    "\n",
    "    for ti in ti_plot:\n",
    "\n",
    "        x_ticks = np.arange(n_rois) + x_jitter[ti]\n",
    "\n",
    "        vals = avals[:,:,ti]\n",
    "        meanvals = np.mean(vals, axis=0)\n",
    "        semvals = np.std(vals, axis=0)/np.sqrt(n_subjects-1)\n",
    "\n",
    "        plt.plot(x_ticks, meanvals, 'o', color=task_colors[ti], markersize=8, zorder=10)\n",
    "        h = plt.errorbar(x_ticks, meanvals, semvals, xerr=None, color=task_colors[ti], \\\n",
    "                         linestyle='none', zorder=10)\n",
    "        lh.append(h)\n",
    "        \n",
    "        plt.plot(x_ticks, vals.T, '.', color=[0.8, 0.8, 0.8], zorder=-10)\n",
    "    \n",
    "\n",
    "    plt.ylim([0.4, 1])\n",
    "\n",
    "    plt.xticks(np.arange(n_rois), roi_names)\n",
    "    plt.ylabel('Classifier accuracy')\n",
    "\n",
    "    # plt.legend(lh,np.array(task_names)[ti_plot])\n",
    "\n",
    "    plt.title('decode %s'%axis_name)\n",
    "    ax.spines['top'].set_visible(False)\n",
    "    ax.spines['right'].set_visible(False)\n",
    "    \n",
    "    figname = os.path.join(figfolder, 'binary_avg_categtasks_%s.pdf'%axis_name)\n",
    "    print(figname)\n",
    "    plt.savefig(figname)\n"
   ]
  },
  {
   "cell_type": "markdown",
   "id": "bdda64c7-b7d0-4a21-becd-5bb5fea6c476",
   "metadata": {},
   "source": [
    "#### stats\n"
   ]
  },
  {
   "cell_type": "code",
   "execution_count": 28,
   "id": "72e8a955-1295-4221-a430-2ddf2a0d2220",
   "metadata": {},
   "outputs": [
    {
     "name": "stdout",
     "output_type": "stream",
     "text": [
      "Decode: Linear (1)\n",
      "/usr/local/serenceslab/maggie/shapeDim/Analysis/figures/decodebinary_acc_rm_anova_Decode: Linear (1).csv\n",
      "Decode: Linear (2)\n",
      "/usr/local/serenceslab/maggie/shapeDim/Analysis/figures/decodebinary_acc_rm_anova_Decode: Linear (2).csv\n",
      "Decode: Checker\n",
      "/usr/local/serenceslab/maggie/shapeDim/Analysis/figures/decodebinary_acc_rm_anova_Decode: Checker.csv\n"
     ]
    }
   ],
   "source": [
    "tasks_use = np.array([0,1,2])\n",
    "\n",
    "\n",
    "for bi, bound_name in enumerate(bound_names):\n",
    "\n",
    "    print(bound_name)\n",
    "\n",
    "    vals = copy.deepcopy(dec_withintask['acc_bytask'][:,:,tasks_use,bi])\n",
    "\n",
    "    anova_result = stats_utils.rmanova_2way(vals,['ROI','task'], do_shuffle=True, n_iter=10000, rndseed=968878)\n",
    "    # anova_result = stats_utils.rmanova_2way(vals,['ROI','task'], do_shuffle=False)\n",
    "\n",
    "    anova_result['Pr > F'] = anova_result['Pr > F'].round(4)\n",
    "\n",
    "    tablename = os.path.join(figfolder, 'decodebinary_acc_rm_anova_%s.csv'%(bound_name))\n",
    "\n",
    "    print(tablename)\n",
    "                             \n",
    "    anova_result.to_csv(tablename)\n",
    "# stats_utils.rmanova_2way(vals,['ROI','task'], do_shuffle=False)"
   ]
  },
  {
   "cell_type": "code",
   "execution_count": 22,
   "id": "4a849c11-eec9-4802-b9de-e94887656dee",
   "metadata": {},
   "outputs": [
    {
     "name": "stdout",
     "output_type": "stream",
     "text": [
      "Decode: Linear (1)\n",
      "/usr/local/serenceslab/maggie/shapeDim/Analysis/figures/decodebinary_acc_rm_anova_Decode: Linear (1).csv\n",
      "Sat Dec 14 11:30:58 2024\n",
      "\n",
      "Anova for Decode: Linear (1) accuracy, all trials\n",
      "            F Value  Num DF  Den DF  Pr > F  p (permutation)\n",
      "ROI       70.811579     7.0    63.0  0.0000           0.0000\n",
      "task       0.832878     2.0    18.0  0.4509           0.4505\n",
      "ROI:task   2.216250    14.0   126.0  0.0104           0.0099\n",
      "Decode: Linear (2)\n",
      "/usr/local/serenceslab/maggie/shapeDim/Analysis/figures/decodebinary_acc_rm_anova_Decode: Linear (2).csv\n",
      "Sat Dec 14 11:36:05 2024\n",
      "\n",
      "Anova for Decode: Linear (2) accuracy, all trials\n",
      "            F Value  Num DF  Den DF  Pr > F  p (permutation)\n",
      "ROI       87.643939     7.0    63.0  0.0000           0.0000\n",
      "task       3.166569     2.0    18.0  0.0663           0.0672\n",
      "ROI:task   0.283521    14.0   126.0  0.9949           0.9939\n",
      "Decode: Checker\n",
      "/usr/local/serenceslab/maggie/shapeDim/Analysis/figures/decodebinary_acc_rm_anova_Decode: Checker.csv\n",
      "Sat Dec 14 11:41:21 2024\n",
      "\n",
      "Anova for Decode: Checker accuracy, all trials\n",
      "            F Value  Num DF  Den DF  Pr > F  p (permutation)\n",
      "ROI       53.365053     7.0    63.0  0.0000           0.0000\n",
      "task       1.654600     2.0    18.0  0.2190           0.2180\n",
      "ROI:task   0.631241    14.0   126.0  0.8348           0.8417\n"
     ]
    }
   ],
   "source": [
    "for bi, bound_name in enumerate(bound_names):\n",
    "\n",
    "    print(bound_name)\n",
    "\n",
    "    tablename = os.path.join(figfolder, 'decodebinary_acc_rm_anova_%s.csv'%(bound_name))\n",
    "\n",
    "    print(tablename)\n",
    "    \n",
    "    print(time.ctime(os.path.getmtime(tablename)))\n",
    "    anova_result = pd.read_csv(tablename, index_col=0)\n",
    "    print('\\nAnova for %s accuracy, all trials'%(bound_name))\n",
    "    print(anova_result)"
   ]
  }
 ],
 "metadata": {
  "kernelspec": {
   "display_name": "Python 3",
   "language": "python",
   "name": "python3"
  },
  "language_info": {
   "codemirror_mode": {
    "name": "ipython",
    "version": 3
   },
   "file_extension": ".py",
   "mimetype": "text/x-python",
   "name": "python",
   "nbconvert_exporter": "python",
   "pygments_lexer": "ipython3",
   "version": "3.7.10"
  }
 },
 "nbformat": 4,
 "nbformat_minor": 5
}
