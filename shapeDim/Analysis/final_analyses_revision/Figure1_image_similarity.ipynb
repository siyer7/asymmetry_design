{
 "cells": [
  {
   "cell_type": "code",
   "execution_count": 1,
   "id": "69d729ac-cc58-4ff7-9ad2-e035a6be8efc",
   "metadata": {},
   "outputs": [],
   "source": [
    "import numpy as np\n",
    "import pandas as pd\n",
    "import os, sys\n",
    "import h5py\n",
    "import scipy.stats, scipy.spatial.distance\n",
    "import matplotlib.pyplot as plt\n",
    "\n",
    "from matplotlib import cm\n",
    "\n",
    "root = '/mnt/neurocube/local/serenceslab/maggie/shapeDim/'\n",
    "feat_dir = os.path.join(root, 'Analysis', 'image_similarity', 'features')\n",
    "\n",
    "sys.path.append(os.path.join(root, 'Analysis'))\n",
    "from code_utils import grid_utils, plot_utils"
   ]
  },
  {
   "cell_type": "markdown",
   "id": "276b93e7-e90f-4a38-bf8d-66cfa43cf319",
   "metadata": {},
   "source": [
    "#### load the GIST features"
   ]
  },
  {
   "cell_type": "code",
   "execution_count": 2,
   "id": "8c95f8c9-035d-4ae9-bd72-19cc98fea562",
   "metadata": {},
   "outputs": [
    {
     "name": "stdout",
     "output_type": "stream",
     "text": [
      "/mnt/neurocube/local/serenceslab/maggie/shapeDim/Analysis/image_similarity/features/gist/Images_grid3_gistdescriptors_4ori_4blocks.h5py\n"
     ]
    }
   ],
   "source": [
    "f = []\n",
    "    \n",
    "fn = os.path.join(feat_dir, 'gist', 'Images_grid3_gistdescriptors_4ori_4blocks.h5py')\n",
    "print(fn)\n",
    "with h5py.File(fn, 'r') as file:\n",
    "    \n",
    "    f = np.array(file['/features'])\n",
    "    file.close()\n",
    "\n",
    "f_gist = f"
   ]
  },
  {
   "cell_type": "markdown",
   "id": "7d7b03d1-3458-46c8-8452-9448756d9323",
   "metadata": {},
   "source": [
    "#### load the SimCLR features"
   ]
  },
  {
   "cell_type": "code",
   "execution_count": 3,
   "id": "b99c6228-10f5-4fa7-aced-feba2a979f79",
   "metadata": {},
   "outputs": [
    {
     "name": "stdout",
     "output_type": "stream",
     "text": [
      "/mnt/neurocube/local/serenceslab/maggie/shapeDim/Analysis/image_similarity/features/simclr/Images_grid3_simclr_block2_pca.npy\n",
      "/mnt/neurocube/local/serenceslab/maggie/shapeDim/Analysis/image_similarity/features/simclr/Images_grid3_simclr_block6_pca.npy\n",
      "/mnt/neurocube/local/serenceslab/maggie/shapeDim/Analysis/image_similarity/features/simclr/Images_grid3_simclr_block12_pca.npy\n",
      "/mnt/neurocube/local/serenceslab/maggie/shapeDim/Analysis/image_similarity/features/simclr/Images_grid3_simclr_block15_pca.npy\n"
     ]
    }
   ],
   "source": [
    "blocks_to_do = [2,6,12,15]\n",
    "# blocks_to_do = [2]\n",
    "\n",
    "f = []\n",
    "for bb in blocks_to_do:\n",
    "    \n",
    "    fn = os.path.join(feat_dir, 'simclr', 'Images_grid3_simclr_block%d_pca.npy'%bb)\n",
    "    print(fn)\n",
    "    ftmp = np.load(fn)\n",
    "    \n",
    "    f.append(ftmp)\n",
    "    \n",
    "f = np.concatenate(f, axis=1)\n",
    "\n",
    "fz = scipy.stats.zscore(f, axis=0)\n",
    "\n",
    "f_simclr = f;"
   ]
  },
  {
   "cell_type": "code",
   "execution_count": 4,
   "id": "bf22bbd9-1cc6-4c65-8309-84664f8d49f7",
   "metadata": {},
   "outputs": [],
   "source": [
    "labs = pd.read_csv(os.path.join(feat_dir, 'Image_labels_grid3.csv'))\n",
    "\n",
    "pts = np.array([labs['coord_axis1'], labs['coord_axis2']]).T\n",
    "\n",
    "main_grid = grid_utils.get_main_grid()\n",
    "gi = [np.argmin(np.sum((pts-g)**2, axis=1)) for g in main_grid]\n",
    "\n",
    "f_gist_main = f_gist[gi,:]\n",
    "f_simclr_main = f_simclr[gi,:]\n"
   ]
  },
  {
   "cell_type": "code",
   "execution_count": 6,
   "id": "7f3506b3-2bb9-45b5-9f4f-75cb836cb039",
   "metadata": {},
   "outputs": [
    {
     "data": {
      "text/plain": [
       "array([0.14044268, 0.18939077, 0.01392477])"
      ]
     },
     "execution_count": 6,
     "metadata": {},
     "output_type": "execute_result"
    }
   ],
   "source": [
    "gist_sep_eachaxis = np.zeros((3,))\n",
    "\n",
    "for ai, axis in enumerate([1,2,3]):\n",
    "\n",
    "    l = np.array(labs['labels_task%d'%axis])[gi].astype(int)\n",
    "\n",
    "    group1 = f_gist_main[l==1,:]\n",
    "    group2 = f_gist_main[l==2,:]\n",
    "    \n",
    "    # get all the within-category distances\n",
    "    within1 = scipy.spatial.distance.pdist(group1, metric='euclidean')\n",
    "    within2 = scipy.spatial.distance.pdist(group2, metric='euclidean')\n",
    "    \n",
    "    # get all the across-category distances\n",
    "    cat = np.concatenate([group1, group2], axis=0)\n",
    "    between = scipy.spatial.distance.squareform(scipy.spatial.distance.pdist(cat))\n",
    "    between = between[0:8,8:]\n",
    "    between = between.ravel()\n",
    "    \n",
    "    b = np.mean(between)\n",
    "    w = np.mean(np.concatenate([within1, within2], axis=0))\n",
    "    sep =  (b-w) / (b+w)\n",
    "    \n",
    "    gist_sep_eachaxis[ai] = sep\n",
    "    \n",
    "gist_sep_eachaxis"
   ]
  },
  {
   "cell_type": "code",
   "execution_count": 7,
   "id": "0d5054e2-aded-480f-ac8b-6477e3a72474",
   "metadata": {},
   "outputs": [
    {
     "data": {
      "text/plain": [
       "array([0.07823882, 0.13236554, 0.01961921])"
      ]
     },
     "execution_count": 7,
     "metadata": {},
     "output_type": "execute_result"
    }
   ],
   "source": [
    "simclr_sep_eachaxis = np.zeros((3,))\n",
    "\n",
    "for ai, axis in enumerate([1,2,3]):\n",
    "\n",
    "    l = np.array(labs['labels_task%d'%axis])[gi].astype(int)\n",
    "\n",
    "    group1 = f_simclr_main[l==1,:]\n",
    "    group2 = f_simclr_main[l==2,:]\n",
    "    \n",
    "    # get all the within-category distances\n",
    "    within1 = scipy.spatial.distance.pdist(group1, metric='euclidean')\n",
    "    within2 = scipy.spatial.distance.pdist(group2, metric='euclidean')\n",
    "    \n",
    "    # get all the across-category distances\n",
    "    cat = np.concatenate([group1, group2], axis=0)\n",
    "    between = scipy.spatial.distance.squareform(scipy.spatial.distance.pdist(cat))\n",
    "    between = between[0:8,8:]\n",
    "    between = between.ravel()\n",
    "    \n",
    "    b = np.mean(between)\n",
    "    w = np.mean(np.concatenate([within1, within2], axis=0))\n",
    "    sep =  (b-w) / (b+w)\n",
    "    \n",
    "    simclr_sep_eachaxis[ai] = sep\n",
    "    \n",
    "simclr_sep_eachaxis"
   ]
  },
  {
   "cell_type": "code",
   "execution_count": 8,
   "id": "1888478b-7260-4715-86a0-3a9ec5c2c1a3",
   "metadata": {},
   "outputs": [],
   "source": [
    "plt.rcParams['pdf.fonttype']=42\n",
    "plot_utils.set_all_font_sizes(fs = 16)\n",
    "figfolder = os.path.join(root, 'Analysis','figures')"
   ]
  },
  {
   "cell_type": "code",
   "execution_count": 9,
   "id": "da1037ee-c58b-42c7-b483-2ef67b9b407c",
   "metadata": {},
   "outputs": [],
   "source": [
    "task_names = ['Linear (1)','Linear (2)','Checker', 'Repeat'];\n",
    "n_tasks = len(task_names)\n",
    "task_colors = np.flipud(cm.GnBu(np.linspace(0,1,5))[1:,:])\n"
   ]
  },
  {
   "cell_type": "code",
   "execution_count": 10,
   "id": "ca797102-669f-4710-b0c6-9947af13f383",
   "metadata": {},
   "outputs": [
    {
     "data": {
      "image/png": "[encoded data removed]",
      "text/plain": [
       "<Figure size 288x288 with 1 Axes>"
      ]
     },
     "metadata": {
      "needs_background": "light"
     },
     "output_type": "display_data"
    }
   ],
   "source": [
    "from code_utils import plot_utils\n",
    "from matplotlib import cm\n",
    "\n",
    "vals = np.array([gist_sep_eachaxis, simclr_sep_eachaxis]).T\n",
    "\n",
    "colors=cm.Purples(np.linspace(0,1,4))[[1,2]]\n",
    "\n",
    "xjitter = np.linspace(-0.25, 0.25, 3)\n",
    "bw = np.diff(xjitter)[0]/4 * 3\n",
    "\n",
    "plt.figure(figsize=(4,4))\n",
    "ax = plt.subplot(1,1,1)\n",
    "# for bb in range(3):\n",
    "#     plt.plot(bb+np.array(xjitter), vals[bb,:], '-', color=[0.8, 0.8, 0.8])\n",
    "#     for xi in range(2):\n",
    "#         plt.plot(bb+xjitter[xi], vals[bb,xi], 'o', color=colors[xi,:])\n",
    "    \n",
    "    \n",
    "# \n",
    "for xi in range(2):\n",
    "    plt.bar(xi+np.array(xjitter), vals[:,xi], width = bw, color=task_colors[0:3,:])\n",
    "    \n",
    "plt.xticks(np.arange(2), ['GIST', 'SimCLR'], rotation=0)\n",
    "    \n",
    "plt.ylabel('Category separability (a.u.)')\n",
    "plt.ylim([0, 0.20])\n",
    "\n",
    "ax.spines['top'].set_visible(False)\n",
    "ax.spines['right'].set_visible(False)\n",
    "\n",
    "figname = os.path.join(figfolder, 'image_category_sep.pdf')\n",
    "plt.savefig(figname)"
   ]
  },
  {
   "cell_type": "code",
   "execution_count": 11,
   "id": "20350c0d-f6b0-44f1-ac88-2d99a699f5a1",
   "metadata": {},
   "outputs": [],
   "source": [
    "from sklearn import decomposition\n",
    "pca = decomposition.PCA(n_components = 100, copy=True)\n",
    "scores = pca.fit_transform(f_gist)    \n",
    "scores_main = scores[gi,:]"
   ]
  },
  {
   "cell_type": "code",
   "execution_count": 12,
   "id": "fef88029-eb22-46e9-a2ac-567f02f8798b",
   "metadata": {},
   "outputs": [
    {
     "data": {
      "image/png": "[encoded data removed]",
      "text/plain": [
       "<Figure size 576x288 with 2 Axes>"
      ]
     },
     "metadata": {},
     "output_type": "display_data"
    }
   ],
   "source": [
    "# viridis = cm.get_cmap('viridis')\n",
    "\n",
    "grid = np.unique(main_grid[:,0])\n",
    "\n",
    "plt.figure(figsize=(8,4))\n",
    "\n",
    "ax = plt.subplot(1,2,1)\n",
    "\n",
    "cols2plot = cm.PuRd(np.linspace(0,1,len(grid)+1))[1:]\n",
    "\n",
    "for ii in range(len(grid)):\n",
    "    inds2plot = np.where(main_grid[:,0]==grid[ii])[0]\n",
    "    plt.plot(scores_main[inds2plot,0],scores_main[inds2plot,1],'o',color=cols2plot[ii,:])\n",
    "\n",
    "plt.axis('square');\n",
    "plt.xticks([]);\n",
    "plt.yticks([]);\n",
    "plt.xlabel('PC 1');\n",
    "plt.ylabel('PC 2');\n",
    "plt.title('Colored by dimension 1');\n",
    "\n",
    "ax.spines['top'].set_visible(False)\n",
    "ax.spines['right'].set_visible(False)\n",
    "\n",
    "\n",
    "ax = plt.subplot(1,2,2)\n",
    "\n",
    "for ii in range(len(grid)):\n",
    "    inds2plot = np.where(main_grid[:,1]==grid[ii])[0]\n",
    "    plt.plot(scores_main[inds2plot,0],scores_main[inds2plot,1],'o',color=cols2plot[ii,:])\n",
    "\n",
    "plt.axis('square');\n",
    "plt.xticks([]);\n",
    "plt.yticks([]);\n",
    "plt.xlabel('PC 1');\n",
    "plt.ylabel('PC 2');\n",
    "plt.title('Colored by dimension 2');\n",
    "\n",
    "ax.spines['top'].set_visible(False)\n",
    "ax.spines['right'].set_visible(False)\n",
    "\n",
    "figname = os.path.join(figfolder, 'image_gist_pca.pdf')\n",
    "plt.savefig(figname)"
   ]
  },
  {
   "cell_type": "code",
   "execution_count": 14,
   "id": "1e9b3887-28b2-443a-89df-8d462355b318",
   "metadata": {},
   "outputs": [
    {
     "data": {
      "image/png": "[encoded data removed]",
      "text/plain": [
       "<Figure size 432x288 with 2 Axes>"
      ]
     },
     "metadata": {
      "needs_background": "light"
     },
     "output_type": "display_data"
    }
   ],
   "source": [
    "plt.figure()\n",
    "plt.pcolormesh(np.reshape(np.linspace(0,1,6)[1:], [1,5]), cmap='PuRd', vmin=0, vmax=1)\n",
    "plt.colorbar()\n",
    "figname = os.path.join(figfolder, 'image_gist_pca_colorbar.pdf')\n",
    "plt.savefig(figname)"
   ]
  }
 ],
 "metadata": {
  "kernelspec": {
   "display_name": "Python 3",
   "language": "python",
   "name": "python3"
  },
  "language_info": {
   "codemirror_mode": {
    "name": "ipython",
    "version": 3
   },
   "file_extension": ".py",
   "mimetype": "text/x-python",
   "name": "python",
   "nbconvert_exporter": "python",
   "pygments_lexer": "ipython3",
   "version": "3.7.10"
  }
 },
 "nbformat": 4,
 "nbformat_minor": 5
}
